{
 "cells": [
  {
   "cell_type": "markdown",
   "id": "40c84897",
   "metadata": {},
   "source": [
    "# open the file\n",
    "\n",
    "## Modes:\n",
    "\n",
    "- \"r\" – read (default)\n",
    "\n",
    "- \"w\" – write (overwrites file)\n",
    "\n",
    "- \"a\" – append (adds to the end)\n",
    "\n",
    "- \"x\" – create (fails if file exists)\n",
    "\n",
    "- \"b\" – binary mode (rb, wb, etc.)"
   ]
  },
  {
   "cell_type": "code",
   "execution_count": 2,
   "id": "01d15720",
   "metadata": {},
   "outputs": [],
   "source": [
    "x = open('hello .txt')"
   ]
  },
  {
   "cell_type": "code",
   "execution_count": 3,
   "id": "d7e59850",
   "metadata": {},
   "outputs": [
    {
     "data": {
      "text/plain": [
       "'hello good morning\\nwelcome to home'"
      ]
     },
     "execution_count": 3,
     "metadata": {},
     "output_type": "execute_result"
    }
   ],
   "source": [
    "x.read()"
   ]
  },
  {
   "cell_type": "code",
   "execution_count": 5,
   "id": "57089a39",
   "metadata": {},
   "outputs": [
    {
     "data": {
      "text/plain": [
       "<function TextIOWrapper.close()>"
      ]
     },
     "execution_count": 5,
     "metadata": {},
     "output_type": "execute_result"
    }
   ],
   "source": [
    "x = open(\"hello .txt\",mode = \"r\")\n",
    "x.readlines()\n",
    "x.close"
   ]
  },
  {
   "cell_type": "code",
   "execution_count": 8,
   "id": "54275a4d",
   "metadata": {},
   "outputs": [
    {
     "data": {
      "text/plain": [
       "17"
      ]
     },
     "execution_count": 8,
     "metadata": {},
     "output_type": "execute_result"
    }
   ],
   "source": [
    "x = open(\"hello .txt\",mode = \"w\")\n",
    "df = \"my name is mukesh\"\n",
    "x.write(df)"
   ]
  },
  {
   "cell_type": "code",
   "execution_count": 9,
   "id": "41a4a45b",
   "metadata": {},
   "outputs": [],
   "source": [
    "x.close()"
   ]
  },
  {
   "cell_type": "code",
   "execution_count": 11,
   "id": "28b928b4",
   "metadata": {},
   "outputs": [
    {
     "data": {
      "text/plain": [
       "''"
      ]
     },
     "execution_count": 11,
     "metadata": {},
     "output_type": "execute_result"
    }
   ],
   "source": [
    "x = open(\"hello .txt\",mode = \"r\")"
   ]
  },
  {
   "cell_type": "code",
   "execution_count": 12,
   "id": "07915adf",
   "metadata": {},
   "outputs": [
    {
     "data": {
      "text/plain": [
       "''"
      ]
     },
     "execution_count": 12,
     "metadata": {},
     "output_type": "execute_result"
    }
   ],
   "source": [
    "x.read()"
   ]
  },
  {
   "cell_type": "code",
   "execution_count": 14,
   "id": "84c54af6",
   "metadata": {},
   "outputs": [],
   "source": [
    "x = open(\"hello .txt\",mode = \"w\")\n",
    "df = \"my name is mukesh\""
   ]
  },
  {
   "cell_type": "code",
   "execution_count": 15,
   "id": "90b8fe7c",
   "metadata": {},
   "outputs": [
    {
     "data": {
      "text/plain": [
       "17"
      ]
     },
     "execution_count": 15,
     "metadata": {},
     "output_type": "execute_result"
    }
   ],
   "source": [
    "x.write(df)"
   ]
  },
  {
   "cell_type": "code",
   "execution_count": 16,
   "id": "115f20e5",
   "metadata": {},
   "outputs": [],
   "source": [
    "x.close()"
   ]
  },
  {
   "cell_type": "code",
   "execution_count": 17,
   "id": "48cfdb54",
   "metadata": {},
   "outputs": [],
   "source": [
    "x =  open(\"hello .txt\",mode = \"a\")\n",
    "df = \"hello\"\n"
   ]
  },
  {
   "cell_type": "code",
   "execution_count": 18,
   "id": "ffa05763",
   "metadata": {},
   "outputs": [
    {
     "data": {
      "text/plain": [
       "5"
      ]
     },
     "execution_count": 18,
     "metadata": {},
     "output_type": "execute_result"
    }
   ],
   "source": [
    "x.write(df)"
   ]
  },
  {
   "cell_type": "code",
   "execution_count": 19,
   "id": "f9adeda8",
   "metadata": {},
   "outputs": [],
   "source": [
    "x.close()"
   ]
  },
  {
   "cell_type": "code",
   "execution_count": null,
   "id": "0a3de1f5",
   "metadata": {},
   "outputs": [],
   "source": []
  }
 ],
 "metadata": {
  "kernelspec": {
   "display_name": "Python 3 (ipykernel)",
   "language": "python",
   "name": "python3"
  },
  "language_info": {
   "codemirror_mode": {
    "name": "ipython",
    "version": 3
   },
   "file_extension": ".py",
   "mimetype": "text/x-python",
   "name": "python",
   "nbconvert_exporter": "python",
   "pygments_lexer": "ipython3",
   "version": "3.9.13"
  }
 },
 "nbformat": 4,
 "nbformat_minor": 5
}
