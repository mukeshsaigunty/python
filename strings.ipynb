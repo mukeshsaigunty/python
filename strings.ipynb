{
 "cells": [
  {
   "cell_type": "markdown",
   "id": "8b457717",
   "metadata": {},
   "source": [
    "# Strings\n",
    "- strings is a collection of characters(alphabets,number,symbol,spl,character)\n",
    "- write string in (' ',   \" \",   \"\"\" \"\"\",   ''' ''')"
   ]
  },
  {
   "cell_type": "code",
   "execution_count": 4,
   "id": "238fcf2b",
   "metadata": {},
   "outputs": [
    {
     "name": "stdout",
     "output_type": "stream",
     "text": [
      "hello\n",
      "hello python\n",
      "<class 'str'>\n"
     ]
    }
   ],
   "source": [
    "x = \"hello\"\n",
    "y = \"hello python\"\n",
    "print(x)\n",
    "print(y)\n",
    "print(type(x))"
   ]
  },
  {
   "cell_type": "code",
   "execution_count": 5,
   "id": "be0dc39b",
   "metadata": {},
   "outputs": [
    {
     "name": "stdout",
     "output_type": "stream",
     "text": [
      ";jmflkdajfkjsf;sdfls;lfds;lfds;lfms;lmgf;dsmg;smgfsmg;jsg;smfnsklfhklsfnlksfhnz,jv.znlknz.,jzmljfldgvnjfgvbmxnkgxnglxkfnlxnflnfxndkjflkfvnfkldvnklmnvljksnvdvnnxv.znx.cmzx.fclkzdn\n"
     ]
    }
   ],
   "source": [
    "xy=''';jmflkdajfkjsf;sdfls;lfds;lfds;lfms;lmgf;dsmg;smgfsmg;jsg;smfnsklfhklsfnlksfhnz,jv.znlknz.,jzmljfldgvnjfgvbmxnkgxnglxkfnlxnflnfxndkjflkfvnfkldvnklmnvljksnvdvnnxv.znx.cmzx.fclkzdn'''\n",
    "print(xy)"
   ]
  },
  {
   "cell_type": "markdown",
   "id": "6173e6cd",
   "metadata": {},
   "source": [
    "# String indexing\n",
    "- String indexing refers to accessing individual characters in a string using their position (index). In most programming languages like Python, string indexing starts at 0, meaning the first character is at index 0, the second at 1, and so on\n"
   ]
  },
  {
   "cell_type": "markdown",
   "id": "dba3ef4c",
   "metadata": {},
   "source": [
    "# two types of indexing\n",
    "- positive indexing\n",
    "- negative indexing"
   ]
  },
  {
   "cell_type": "markdown",
   "id": "11135996",
   "metadata": {},
   "source": [
    "# string slicing\n",
    "- String slicing allows you to extract a substring from a string by specifying a start index, an end index, and an optional step.\n",
    "- positive slicing\n",
    "- negative slicing"
   ]
  },
  {
   "cell_type": "code",
   "execution_count": 7,
   "id": "c5869ae2",
   "metadata": {},
   "outputs": [
    {
     "name": "stdout",
     "output_type": "stream",
     "text": [
      "hello\n"
     ]
    }
   ],
   "source": [
    "x = \"hello python\"\n",
    "print(x)"
   ]
  },
  {
   "cell_type": "code",
   "execution_count": 8,
   "id": "4be1ae88",
   "metadata": {},
   "outputs": [
    {
     "data": {
      "text/plain": [
       "'e'"
      ]
     },
     "execution_count": 8,
     "metadata": {},
     "output_type": "execute_result"
    }
   ],
   "source": [
    "x[1]"
   ]
  },
  {
   "cell_type": "code",
   "execution_count": 3,
   "id": "c623f76b",
   "metadata": {},
   "outputs": [
    {
     "name": "stdout",
     "output_type": "stream",
     "text": [
      "thon\n",
      "hell\n",
      " pyt\n"
     ]
    }
   ],
   "source": [
    "x=\"hello python\"\n",
    "b = x[5:9]\n",
    "c = x[8:]\n",
    "d = x[0:4]\n",
    "print(c)\n",
    "print(d)\n",
    "print(b)"
   ]
  },
  {
   "cell_type": "code",
   "execution_count": 25,
   "id": "5d17675c",
   "metadata": {},
   "outputs": [
    {
     "data": {
      "text/plain": [
       "'elpto'"
      ]
     },
     "execution_count": 25,
     "metadata": {},
     "output_type": "execute_result"
    }
   ],
   "source": [
    "x = \"hellopython\"\n",
    "x[1:10:2]\n"
   ]
  },
  {
   "cell_type": "code",
   "execution_count": 50,
   "id": "00a48018",
   "metadata": {},
   "outputs": [
    {
     "data": {
      "text/plain": [
       "'hello python'"
      ]
     },
     "execution_count": 50,
     "metadata": {},
     "output_type": "execute_result"
    }
   ],
   "source": [
    "x = \"hello python\"\n",
    "x[::-1]\n",
    "x[-1:-10:-2]\n",
    "x[-12:]\n"
   ]
  },
  {
   "cell_type": "code",
   "execution_count": 56,
   "id": "ccef6bcf",
   "metadata": {},
   "outputs": [
    {
     "name": "stdout",
     "output_type": "stream",
     "text": [
      "typ\n"
     ]
    }
   ],
   "source": [
    "x = \"hello python\"\n",
    "b=x[-4:-7:-1]\n",
    "print(b)"
   ]
  },
  {
   "cell_type": "code",
   "execution_count": 8,
   "id": "16e0d068",
   "metadata": {},
   "outputs": [
    {
     "name": "stdout",
     "output_type": "stream",
     "text": [
      "aaaaaaaaaa\n"
     ]
    }
   ],
   "source": [
    "x = \"aaabaaabaaaab\"\n",
    "y = \"a\"\n",
    "z =\"\"\n",
    "for i in range(len(x)):\n",
    "    if(x[i]==y):\n",
    "        z+=\"a\"\n",
    "print(z)"
   ]
  },
  {
   "cell_type": "code",
   "execution_count": 10,
   "id": "f34f13da",
   "metadata": {},
   "outputs": [
    {
     "name": "stdout",
     "output_type": "stream",
     "text": [
      " qwergsfad\n"
     ]
    }
   ],
   "source": [
    "x = \"qqqwwwergsgfagfdgfsf\"\n",
    "y = \" \"\n",
    "for i in x:\n",
    "    if(i not in y):\n",
    "        y+=i\n",
    "print(y)"
   ]
  },
  {
   "cell_type": "code",
   "execution_count": 5,
   "id": "d7cd22ba",
   "metadata": {},
   "outputs": [
    {
     "name": "stdout",
     "output_type": "stream",
     "text": [
      "innomatics\n",
      "research\n",
      " lab\n"
     ]
    }
   ],
   "source": [
    "x = \"innomatics research lab\"\n",
    "print(x[:-13])\n",
    "print(x[-12:-4])\n",
    "print(x[-4:])"
   ]
  },
  {
   "cell_type": "code",
   "execution_count": 6,
   "id": "e8cb2eae",
   "metadata": {},
   "outputs": [
    {
     "name": "stdout",
     "output_type": "stream",
     "text": [
      "10000\n",
      "5000\n",
      "1000\n",
      "5000\n",
      "4234\n",
      "total income: 10000.0\n",
      "total: 15234.0\n",
      "total savings: -5234.0\n"
     ]
    }
   ],
   "source": [
    "monthincome = float(input())\n",
    "rent = float(input())\n",
    "groceriesexpense = float(input())\n",
    "moblie_recharge = float(input())\n",
    "other_expense = float(input())\n",
    "total_income = monthincome\n",
    "total = rent+groceriesexpense+moblie_recharge+other_expense\n",
    "total_savings = total_income - total\n",
    "print(\"total income:\",total_income)\n",
    "print(\"total:\",total)\n",
    "print(\"total savings:\", total_savings)"
   ]
  },
  {
   "cell_type": "code",
   "execution_count": 1,
   "id": "dec564e0",
   "metadata": {},
   "outputs": [
    {
     "name": "stdout",
     "output_type": "stream",
     "text": [
      "mukesh\n",
      "70\n",
      "80\n",
      "90\n",
      "student_name: mukesh\n",
      "total: 240\n",
      "percentage: 80.0 %\n"
     ]
    }
   ],
   "source": [
    "Student_Name = input(\"\")\n",
    "Math_Marks = int(input())\n",
    "Science_Marks = int(input())\n",
    "English_Marks = int(input())\n",
    "total = Math_Marks+Science_Marks+English_Marks\n",
    "per=(total/300)*100\n",
    "print(\"student_name:\",Student_Name)\n",
    "print(\"total:\",Math_Marks+Science_Marks+English_Marks)\n",
    "print(\"percentage:\",per,\"%\")"
   ]
  },
  {
   "cell_type": "markdown",
   "id": "af29a46c",
   "metadata": {},
   "source": [
    "# string methods/built-in functions"
   ]
  },
  {
   "cell_type": "code",
   "execution_count": 2,
   "id": "eb3e25fe",
   "metadata": {},
   "outputs": [
    {
     "name": "stdout",
     "output_type": "stream",
     "text": [
      "11\n"
     ]
    }
   ],
   "source": [
    "# len() - to know the length of string\n",
    "x = \"hello world\"\n",
    "print(len(x))"
   ]
  },
  {
   "cell_type": "code",
   "execution_count": 7,
   "id": "ddd56b19",
   "metadata": {},
   "outputs": [
    {
     "name": "stdout",
     "output_type": "stream",
     "text": [
      "HELLO\n"
     ]
    }
   ],
   "source": [
    "# upper() - it convert all characters into capital leeter\n",
    "print(x.upper())"
   ]
  },
  {
   "cell_type": "code",
   "execution_count": 8,
   "id": "8f33fda0",
   "metadata": {},
   "outputs": [
    {
     "name": "stdout",
     "output_type": "stream",
     "text": [
      "hello\n"
     ]
    }
   ],
   "source": [
    "# lower() - it convert all characters into lower letters\n",
    "x = \"HELLO\"\n",
    "print(x.lower())"
   ]
  },
  {
   "cell_type": "code",
   "execution_count": 9,
   "id": "0debe188",
   "metadata": {},
   "outputs": [
    {
     "name": "stdout",
     "output_type": "stream",
     "text": [
      "Hello\n"
     ]
    }
   ],
   "source": [
    "# capitalize() - it changes first letter\\character into capital letter\n",
    "print(x.capitalize())"
   ]
  },
  {
   "cell_type": "code",
   "execution_count": 10,
   "id": "d06f0022",
   "metadata": {},
   "outputs": [
    {
     "name": "stdout",
     "output_type": "stream",
     "text": [
      "Innomatics Reserch Lab\n"
     ]
    }
   ],
   "source": [
    "# title() - it change first letter of every word in the string to capital letter\n",
    "x = \"innomatics reserch lab\"\n",
    "print(x.title())"
   ]
  },
  {
   "cell_type": "code",
   "execution_count": 11,
   "id": "8072919f",
   "metadata": {},
   "outputs": [
    {
     "name": "stdout",
     "output_type": "stream",
     "text": [
      "2\n"
     ]
    }
   ],
   "source": [
    "# count() - is used to count sub-string\n",
    "print(x.count(\"n\"))"
   ]
  },
  {
   "cell_type": "code",
   "execution_count": 12,
   "id": "2d3c5b9b",
   "metadata": {},
   "outputs": [
    {
     "name": "stdout",
     "output_type": "stream",
     "text": [
      "True\n"
     ]
    }
   ],
   "source": [
    "# endswith() - to check whether a string is ending in the given sub-string\n",
    "x = \"mukesh\"\n",
    "print(x.endswith(\"sh\"))"
   ]
  },
  {
   "cell_type": "code",
   "execution_count": 13,
   "id": "ca9b6c1c",
   "metadata": {},
   "outputs": [
    {
     "name": "stdout",
     "output_type": "stream",
     "text": [
      "True\n"
     ]
    }
   ],
   "source": [
    "# startswith() - to check whether a string is starting in the given sub-string\n",
    "print(x.startswith(\"mu\"))"
   ]
  },
  {
   "cell_type": "code",
   "execution_count": 17,
   "id": "c2045d1c",
   "metadata": {},
   "outputs": [
    {
     "data": {
      "text/plain": [
       "2"
      ]
     },
     "execution_count": 17,
     "metadata": {},
     "output_type": "execute_result"
    }
   ],
   "source": [
    "# find() - is used to find the index postion of first occurance of sub-string in main string\n",
    "x = \"hello\"\n",
    "x.find(\"l\")"
   ]
  },
  {
   "cell_type": "code",
   "execution_count": 18,
   "id": "3b7eddc2",
   "metadata": {},
   "outputs": [
    {
     "data": {
      "text/plain": [
       "2"
      ]
     },
     "execution_count": 18,
     "metadata": {},
     "output_type": "execute_result"
    }
   ],
   "source": [
    "# index() -  method works similar to the find() method\n",
    "x.index(\"l\")"
   ]
  },
  {
   "cell_type": "code",
   "execution_count": 21,
   "id": "3c2a21cf",
   "metadata": {},
   "outputs": [
    {
     "data": {
      "text/plain": [
       "True"
      ]
     },
     "execution_count": 21,
     "metadata": {},
     "output_type": "execute_result"
    }
   ],
   "source": [
    "# isdigit() - to check string consists of numeric values\n",
    "x = \"hello 123\"\n",
    "x1 = \"123\"\n",
    "x.isdigit()\n",
    "x1.isdigit()"
   ]
  },
  {
   "cell_type": "code",
   "execution_count": 23,
   "id": "aa304bd8",
   "metadata": {},
   "outputs": [
    {
     "data": {
      "text/plain": [
       "'heooo'"
      ]
     },
     "execution_count": 23,
     "metadata": {},
     "output_type": "execute_result"
    }
   ],
   "source": [
    "# replace() - if we want to replace part of a string with a replacement\n",
    "### note - string are immutable once created we can not change/update\n",
    "x = \"hello\"\n",
    "x.replace(\"l\",\"o\")"
   ]
  },
  {
   "cell_type": "code",
   "execution_count": 4,
   "id": "eadc62f6",
   "metadata": {},
   "outputs": [
    {
     "name": "stdout",
     "output_type": "stream",
     "text": [
      "mukesh\n",
      "6\n"
     ]
    },
    {
     "data": {
      "text/plain": [
       "'25*26******44'"
      ]
     },
     "execution_count": 4,
     "metadata": {},
     "output_type": "execute_result"
    }
   ],
   "source": [
    "# strip() - to remove any leading and trailing white spaces and new line characters\n",
    "x= \"   mukesh   \"\n",
    "print(x.strip())\n",
    "y = x.strip()\n",
    "print(len(y))\n",
    "y = \"25*26******44\"\n",
    "y.strip()"
   ]
  },
  {
   "cell_type": "code",
   "execution_count": 27,
   "id": "7678800f",
   "metadata": {},
   "outputs": [
    {
     "data": {
      "text/plain": [
       "'mukesh   '"
      ]
     },
     "execution_count": 27,
     "metadata": {},
     "output_type": "execute_result"
    }
   ],
   "source": [
    "x.lstrip()"
   ]
  },
  {
   "cell_type": "code",
   "execution_count": 28,
   "id": "b09d3158",
   "metadata": {},
   "outputs": [
    {
     "data": {
      "text/plain": [
       "'   mukesh'"
      ]
     },
     "execution_count": 28,
     "metadata": {},
     "output_type": "execute_result"
    }
   ],
   "source": [
    "x.rstrip()"
   ]
  },
  {
   "cell_type": "code",
   "execution_count": 41,
   "id": "349aba3d",
   "metadata": {},
   "outputs": [
    {
     "name": "stdout",
     "output_type": "stream",
     "text": [
      " inomaticsreaserchlabs\n"
     ]
    }
   ],
   "source": [
    "x = \"**** inomatics****reaserch****labs****\"\n",
    "x.strip(\"*\")\n",
    "print()\n",
    "z = \"\"\n",
    "for i in x:\n",
    "    if(i!=\"*\"):\n",
    "        z+=i\n",
    "print(z)\n"
   ]
  },
  {
   "cell_type": "code",
   "execution_count": 35,
   "id": "0c779f4f",
   "metadata": {},
   "outputs": [
    {
     "data": {
      "text/plain": [
       "['m', 'k', 'e']"
      ]
     },
     "execution_count": 35,
     "metadata": {},
     "output_type": "execute_result"
    }
   ],
   "source": [
    "# split() - splitting a string into sub-string based on default delimter(space)\n",
    "x = \"m k e\"\n",
    "x.split()"
   ]
  },
  {
   "cell_type": "code",
   "execution_count": 39,
   "id": "973d5f2a",
   "metadata": {},
   "outputs": [],
   "source": [
    "# delete() - it delete the entire string\n",
    "x = \"hello\"\n",
    "del x"
   ]
  },
  {
   "cell_type": "code",
   "execution_count": 42,
   "id": "4d07dc08",
   "metadata": {},
   "outputs": [],
   "source": [
    "# Write a Python program that takes a messy sentence from the user and performs the following operations:\n",
    "\n",
    "'''Step 1: Take Input and Remove Extra Spaces\n",
    "-  Ask the user to enter a sentence.\n",
    "- Remove extra spaces from the beginning and end using the strip() method.\n",
    "- Print the cleaned sentence.\n",
    "\n",
    "Step 2: Find Length of the Sentence\n",
    "\n",
    "- Find and print the total number of characters in the cleaned sentence using the len() function.\n",
    "\n",
    "Step 3: Check Start and End\n",
    "\n",
    "- Check if the sentence starts with the word \"Hello\" using startswith().\n",
    "- Check if the sentence ends with a period (.) using endswith().\n",
    "- Print the result as True or False.\n",
    "\n",
    "Step 4: Count a Specific Letter\n",
    "\n",
    "- Count how many times the letter \"a\" appears in the sentence using the count() method.\n",
    "- Print the result.\n",
    "\n",
    "Step 5: Split Sentence and Delete a Word\n",
    "\n",
    "- Split the sentence into words using split().\n",
    "- If there are two or more words, delete the second word using the del keyword.\n",
    "- Print the new list of words.\n",
    "\n",
    "Step 6: Replace a Word\n",
    "\n",
    "- Join the list of words back into a sentence.\n",
    "- Replace the word \"bad\" with \"good\" using the replace() method.\n",
    "- Print the modified sentence.\n",
    "\n",
    "Step 7: Capitalize the Sentence\n",
    "\n",
    "- Capitalize the sentence using the capitalize() method.\n",
    "\n",
    "- Print the result.'''"
   ]
  },
  {
   "cell_type": "code",
   "execution_count": 55,
   "id": "56018920",
   "metadata": {},
   "outputs": [
    {
     "name": "stdout",
     "output_type": "stream",
     "text": [
      " enter a sentence:   hello good bad nfkjbsdfbsklf    \n",
      "35\n",
      "True\n",
      "False\n",
      "1\n",
      "['hello', 'bad', 'nfkjbsdfbsklf']\n",
      "hellogoodnfkjbsdfbsklf\n",
      "Hellobadnfkjbsdfbsklf\n"
     ]
    }
   ],
   "source": [
    "x = input(\" enter a sentence:\")\n",
    "y = x.strip()\n",
    "print(len(x))\n",
    "print(y.startswith(\"hello\"))\n",
    "print(y.endswith(\".\"))\n",
    "print(y.count(\"a\"))\n",
    "z = y.split()\n",
    "if len(z)>=2:\n",
    "    del z[1]\n",
    "print(z)\n",
    "u = \"\".join(z)\n",
    "print(u.replace(\"bad\",\"good\"))\n",
    "print(u.capitalize())\n",
    "\n"
   ]
  },
  {
   "cell_type": "code",
   "execution_count": 12,
   "id": "f9ce176f",
   "metadata": {},
   "outputs": [
    {
     "name": "stdout",
     "output_type": "stream",
     "text": [
      "hlowr\n"
     ]
    }
   ],
   "source": [
    "x = \"hello world\"\n",
    "print(x[-12:-2:2])"
   ]
  },
  {
   "cell_type": "code",
   "execution_count": 2,
   "id": "278508a0",
   "metadata": {},
   "outputs": [
    {
     "data": {
      "text/plain": [
       "'cost of pen a is 3,pen b is 4,pen c is 5'"
      ]
     },
     "execution_count": 2,
     "metadata": {},
     "output_type": "execute_result"
    }
   ],
   "source": [
    "# format() - is used to combine string with values\n",
    "\n",
    "\"cost of pen a is {},pen b is {},pen c is {}\".format(3,4,5)"
   ]
  },
  {
   "cell_type": "code",
   "execution_count": 4,
   "id": "4a7a46b9",
   "metadata": {},
   "outputs": [
    {
     "name": "stdout",
     "output_type": "stream",
     "text": [
      "hellopython\n",
      "hello python\n"
     ]
    }
   ],
   "source": [
    "# string concatenation\n",
    "s1 = \"hello\"\n",
    "s2 = \"python\"\n",
    "s3 = s1 + s2\n",
    "print(s3)\n",
    "print(s1 + \" \" + s2)"
   ]
  },
  {
   "cell_type": "code",
   "execution_count": 5,
   "id": "dd25e1ee",
   "metadata": {},
   "outputs": [
    {
     "data": {
      "text/plain": [
       "True"
      ]
     },
     "execution_count": 5,
     "metadata": {},
     "output_type": "execute_result"
    }
   ],
   "source": [
    "# string membership\n",
    "x = \"innomatics\"\n",
    "\"n\" in x"
   ]
  },
  {
   "cell_type": "code",
   "execution_count": 6,
   "id": "4522cd56",
   "metadata": {},
   "outputs": [
    {
     "data": {
      "text/plain": [
       "False"
      ]
     },
     "execution_count": 6,
     "metadata": {},
     "output_type": "execute_result"
    }
   ],
   "source": [
    "\"z\" in x"
   ]
  },
  {
   "cell_type": "markdown",
   "id": "272616cd",
   "metadata": {},
   "source": [
    "# type casting on string\n",
    "- int\n",
    "- float\n",
    "- complex\n",
    "- str"
   ]
  },
  {
   "cell_type": "code",
   "execution_count": 8,
   "id": "23b4f95d",
   "metadata": {},
   "outputs": [
    {
     "ename": "ValueError",
     "evalue": "invalid literal for int() with base 10: 'hello'",
     "output_type": "error",
     "traceback": [
      "\u001b[1;31m---------------------------------------------------------------------------\u001b[0m",
      "\u001b[1;31mValueError\u001b[0m                                Traceback (most recent call last)",
      "\u001b[1;32m~\\AppData\\Local\\Temp\\ipykernel_6200\\2014219681.py\u001b[0m in \u001b[0;36m<module>\u001b[1;34m\u001b[0m\n\u001b[0;32m      1\u001b[0m \u001b[0mx\u001b[0m \u001b[1;33m=\u001b[0m \u001b[1;34m\"hello\"\u001b[0m\u001b[1;33m\u001b[0m\u001b[1;33m\u001b[0m\u001b[0m\n\u001b[1;32m----> 2\u001b[1;33m \u001b[0mprint\u001b[0m\u001b[1;33m(\u001b[0m\u001b[0mint\u001b[0m\u001b[1;33m(\u001b[0m\u001b[0mx\u001b[0m\u001b[1;33m)\u001b[0m\u001b[1;33m)\u001b[0m\u001b[1;33m\u001b[0m\u001b[1;33m\u001b[0m\u001b[0m\n\u001b[0m\u001b[0;32m      3\u001b[0m \u001b[0mprint\u001b[0m\u001b[1;33m(\u001b[0m\u001b[0mfloat\u001b[0m\u001b[1;33m(\u001b[0m\u001b[0mx\u001b[0m\u001b[1;33m)\u001b[0m\u001b[1;33m)\u001b[0m\u001b[1;33m\u001b[0m\u001b[1;33m\u001b[0m\u001b[0m\n\u001b[0;32m      4\u001b[0m \u001b[0mprint\u001b[0m\u001b[1;33m(\u001b[0m\u001b[0mcomplex\u001b[0m\u001b[1;33m(\u001b[0m\u001b[0mx\u001b[0m\u001b[1;33m)\u001b[0m\u001b[1;33m)\u001b[0m\u001b[1;33m\u001b[0m\u001b[1;33m\u001b[0m\u001b[0m\n",
      "\u001b[1;31mValueError\u001b[0m: invalid literal for int() with base 10: 'hello'"
     ]
    }
   ],
   "source": [
    "x = \"hello\"\n",
    "print(int(x))\n",
    "print(float(x))\n",
    "print(complex(x))"
   ]
  },
  {
   "cell_type": "code",
   "execution_count": 9,
   "id": "38db9373",
   "metadata": {},
   "outputs": [
    {
     "name": "stdout",
     "output_type": "stream",
     "text": [
      "143\n",
      "143.0\n",
      "(143+0j)\n"
     ]
    }
   ],
   "source": [
    "x = \"143\"\n",
    "print(int(x))\n",
    "print(float(x))\n",
    "print(complex(x))"
   ]
  },
  {
   "cell_type": "code",
   "execution_count": 11,
   "id": "b91d1c3c",
   "metadata": {},
   "outputs": [
    {
     "name": "stdout",
     "output_type": "stream",
     "text": [
      "5\n",
      "7.0\n",
      "(123+2j)\n"
     ]
    }
   ],
   "source": [
    "x = 5\n",
    "y = 7.0\n",
    "z = 123+2j\n",
    "print(str(x))\n",
    "print(str(y))\n",
    "print(str(z))"
   ]
  },
  {
   "cell_type": "markdown",
   "id": "9946d7c6",
   "metadata": {},
   "source": [
    "# input function\n",
    "- user input / it is an dynamic input entry \n",
    "- syntax - x = input()\n",
    "- by default input function holds string data types"
   ]
  },
  {
   "cell_type": "code",
   "execution_count": 14,
   "id": "fafc330e",
   "metadata": {},
   "outputs": [
    {
     "name": "stdout",
     "output_type": "stream",
     "text": [
      "enter the value:7\n"
     ]
    }
   ],
   "source": [
    "x = input(\"enter the value:\")"
   ]
  },
  {
   "cell_type": "code",
   "execution_count": 13,
   "id": "5a2e14e1",
   "metadata": {},
   "outputs": [
    {
     "data": {
      "text/plain": [
       "str"
      ]
     },
     "execution_count": 13,
     "metadata": {},
     "output_type": "execute_result"
    }
   ],
   "source": [
    "type(x)"
   ]
  },
  {
   "cell_type": "code",
   "execution_count": 15,
   "id": "ba8fb05f",
   "metadata": {},
   "outputs": [
    {
     "name": "stdout",
     "output_type": "stream",
     "text": [
      "enter the value:5\n"
     ]
    }
   ],
   "source": [
    "# integers\n",
    "n = int(input(\"enter the value:\"))"
   ]
  },
  {
   "cell_type": "code",
   "execution_count": 16,
   "id": "89bd6429",
   "metadata": {},
   "outputs": [
    {
     "data": {
      "text/plain": [
       "int"
      ]
     },
     "execution_count": 16,
     "metadata": {},
     "output_type": "execute_result"
    }
   ],
   "source": [
    "type(n)"
   ]
  },
  {
   "cell_type": "code",
   "execution_count": 17,
   "id": "eb4ef3d1",
   "metadata": {},
   "outputs": [
    {
     "name": "stdout",
     "output_type": "stream",
     "text": [
      "enter the value6\n"
     ]
    }
   ],
   "source": [
    "# flaot\n",
    "n = float(input(\"enter the value\"))\n"
   ]
  },
  {
   "cell_type": "code",
   "execution_count": 18,
   "id": "01cc78ef",
   "metadata": {},
   "outputs": [
    {
     "data": {
      "text/plain": [
       "float"
      ]
     },
     "execution_count": 18,
     "metadata": {},
     "output_type": "execute_result"
    }
   ],
   "source": [
    "type(n)"
   ]
  },
  {
   "cell_type": "markdown",
   "id": "7a087933",
   "metadata": {},
   "source": [
    "# variable assignment"
   ]
  },
  {
   "cell_type": "code",
   "execution_count": 19,
   "id": "86efcae3",
   "metadata": {},
   "outputs": [
    {
     "name": "stdout",
     "output_type": "stream",
     "text": [
      "5\n"
     ]
    }
   ],
   "source": [
    "# single value assignement to variable \n",
    "a = 5 # assigning\n",
    "a     # calling\n",
    "print(a) # printing"
   ]
  },
  {
   "cell_type": "code",
   "execution_count": 20,
   "id": "2b71f671",
   "metadata": {},
   "outputs": [
    {
     "data": {
      "text/plain": [
       "5"
      ]
     },
     "execution_count": 20,
     "metadata": {},
     "output_type": "execute_result"
    }
   ],
   "source": [
    "# multiple value assignment to multiple variables\n",
    "x,y,z = 3,4,5\n",
    "x\n",
    "y\n",
    "z"
   ]
  },
  {
   "cell_type": "code",
   "execution_count": 21,
   "id": "7afac515",
   "metadata": {},
   "outputs": [
    {
     "data": {
      "text/plain": [
       "(3, 4, 5)"
      ]
     },
     "execution_count": 21,
     "metadata": {},
     "output_type": "execute_result"
    }
   ],
   "source": [
    "x,y,z"
   ]
  },
  {
   "cell_type": "code",
   "execution_count": 22,
   "id": "709923b7",
   "metadata": {},
   "outputs": [
    {
     "name": "stdout",
     "output_type": "stream",
     "text": [
      "3\n",
      "4\n",
      "5\n"
     ]
    }
   ],
   "source": [
    "print(x)\n",
    "print(y)\n",
    "print(z)"
   ]
  },
  {
   "cell_type": "code",
   "execution_count": 24,
   "id": "eff1230c",
   "metadata": {},
   "outputs": [
    {
     "name": "stdout",
     "output_type": "stream",
     "text": [
      " addtion of 5 and 6 is 11 \n"
     ]
    }
   ],
   "source": [
    "# f'string - formatted string\n",
    "a = 5\n",
    "b = 6\n",
    "print(f\" addtion of {a} and {b} is {a+b} \")"
   ]
  },
  {
   "cell_type": "markdown",
   "id": "320b453a",
   "metadata": {},
   "source": [
    "# eval function"
   ]
  },
  {
   "cell_type": "code",
   "execution_count": 30,
   "id": "04442bdb",
   "metadata": {},
   "outputs": [
    {
     "name": "stdout",
     "output_type": "stream",
     "text": [
      "6\n"
     ]
    }
   ],
   "source": [
    "a = 4\n",
    "b = 2\n",
    "x = eval(\"a+b\")\n",
    "print(x)"
   ]
  },
  {
   "cell_type": "code",
   "execution_count": 32,
   "id": "39352c35",
   "metadata": {},
   "outputs": [
    {
     "name": "stdout",
     "output_type": "stream",
     "text": [
      "asskllkd123\n",
      "['asskllkd123']\n",
      "asskllkd123\n",
      "False\n"
     ]
    }
   ],
   "source": [
    "a = input()\n",
    "print(a.split())\n",
    "print(\"\".join(a))\n",
    "print(a.isalpha())"
   ]
  },
  {
   "cell_type": "code",
   "execution_count": null,
   "id": "cc9faf81",
   "metadata": {},
   "outputs": [],
   "source": []
  }
 ],
 "metadata": {
  "kernelspec": {
   "display_name": "Python 3 (ipykernel)",
   "language": "python",
   "name": "python3"
  },
  "language_info": {
   "codemirror_mode": {
    "name": "ipython",
    "version": 3
   },
   "file_extension": ".py",
   "mimetype": "text/x-python",
   "name": "python",
   "nbconvert_exporter": "python",
   "pygments_lexer": "ipython3",
   "version": "3.9.13"
  }
 },
 "nbformat": 4,
 "nbformat_minor": 5
}
