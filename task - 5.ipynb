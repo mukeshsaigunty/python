{
 "cells": [
  {
   "cell_type": "markdown",
   "id": "78aa0adc",
   "metadata": {},
   "source": [
    "# 1.Create a dictionary of 3 students and their marks."
   ]
  },
  {
   "cell_type": "code",
   "execution_count": 2,
   "id": "5bff88de",
   "metadata": {},
   "outputs": [
    {
     "data": {
      "text/plain": [
       "{'mukesh': 90, 'sai': 95, 'ram': 97}"
      ]
     },
     "execution_count": 2,
     "metadata": {},
     "output_type": "execute_result"
    }
   ],
   "source": [
    "d = {\"mukesh\":90,\"sai\":95,\"ram\":97}\n",
    "d"
   ]
  },
  {
   "cell_type": "markdown",
   "id": "431d5315",
   "metadata": {},
   "source": [
    "# 2.Access marks of a student using their name."
   ]
  },
  {
   "cell_type": "code",
   "execution_count": 5,
   "id": "ad1d4c65",
   "metadata": {},
   "outputs": [
    {
     "data": {
      "text/plain": [
       "90"
      ]
     },
     "execution_count": 5,
     "metadata": {},
     "output_type": "execute_result"
    }
   ],
   "source": [
    "d = {\"mukesh\":90,\"sai\":95,\"ram\":97}\n",
    "d[\"mukesh\"]"
   ]
  },
  {
   "cell_type": "markdown",
   "id": "89cdcd52",
   "metadata": {},
   "source": [
    "# 3.Add a new student to the dictionary"
   ]
  },
  {
   "cell_type": "code",
   "execution_count": 7,
   "id": "62d6a953",
   "metadata": {},
   "outputs": [
    {
     "data": {
      "text/plain": [
       "{'mukesh': 90, 'sai': 95, 'ram': 97, 'raju': 60}"
      ]
     },
     "execution_count": 7,
     "metadata": {},
     "output_type": "execute_result"
    }
   ],
   "source": [
    "d = {\"mukesh\":90,\"sai\":95,\"ram\":97}\n",
    "d[\"raju\"] = 60\n",
    "d"
   ]
  },
  {
   "cell_type": "markdown",
   "id": "75e56ed4",
   "metadata": {},
   "source": [
    "# 4.Update marks of an existing student."
   ]
  },
  {
   "cell_type": "code",
   "execution_count": 10,
   "id": "c664ce31",
   "metadata": {},
   "outputs": [
    {
     "data": {
      "text/plain": [
       "{'mukesh': 70, 'sai': 95, 'ram': 97}"
      ]
     },
     "execution_count": 10,
     "metadata": {},
     "output_type": "execute_result"
    }
   ],
   "source": [
    "d = {\"mukesh\":90,\"sai\":95,\"ram\":97}\n",
    "d[\"mukesh\"]=70\n",
    "d"
   ]
  },
  {
   "cell_type": "markdown",
   "id": "9bf4daf7",
   "metadata": {},
   "source": [
    "# 5.Remove a student using pop()."
   ]
  },
  {
   "cell_type": "code",
   "execution_count": 11,
   "id": "7c3d0ed6",
   "metadata": {},
   "outputs": [
    {
     "data": {
      "text/plain": [
       "{'mukesh': 90, 'sai': 95}"
      ]
     },
     "execution_count": 11,
     "metadata": {},
     "output_type": "execute_result"
    }
   ],
   "source": [
    "d = {\"mukesh\":90,\"sai\":95,\"ram\":97}\n",
    "d.pop(\"ram\")\n",
    "d"
   ]
  },
  {
   "cell_type": "markdown",
   "id": "d1475e67",
   "metadata": {},
   "source": [
    "# 6.Use get() to safely access a value."
   ]
  },
  {
   "cell_type": "code",
   "execution_count": 17,
   "id": "4e3b7acd",
   "metadata": {},
   "outputs": [
    {
     "data": {
      "text/plain": [
       "97"
      ]
     },
     "execution_count": 17,
     "metadata": {},
     "output_type": "execute_result"
    }
   ],
   "source": [
    "d = {\"mukesh\":90,\"sai\":95,\"ram\":97}\n",
    "d.get(\"ram\")"
   ]
  },
  {
   "cell_type": "code",
   "execution_count": 18,
   "id": "b015e35a",
   "metadata": {},
   "outputs": [],
   "source": [
    "d.get(\"raju\")"
   ]
  },
  {
   "cell_type": "markdown",
   "id": "c64cf25a",
   "metadata": {},
   "source": [
    "# 7.Create a dictionary and get all the items using .items(), check the type of it."
   ]
  },
  {
   "cell_type": "code",
   "execution_count": 20,
   "id": "e5632f61",
   "metadata": {},
   "outputs": [
    {
     "name": "stdout",
     "output_type": "stream",
     "text": [
      "<class 'dict_items'>\n"
     ]
    }
   ],
   "source": [
    "d = {\"mukesh\":90,\"sai\":95,\"ram\":97}\n",
    "print(type(d.items()))"
   ]
  },
  {
   "cell_type": "markdown",
   "id": "d5a6b6f8",
   "metadata": {},
   "source": [
    "# 8.Get all keys using .keys() and values using .values()."
   ]
  },
  {
   "cell_type": "code",
   "execution_count": 21,
   "id": "782dace0",
   "metadata": {},
   "outputs": [
    {
     "name": "stdout",
     "output_type": "stream",
     "text": [
      "dict_keys(['mukesh', 'sai', 'ram'])\n",
      "dict_values([90, 95, 97])\n"
     ]
    }
   ],
   "source": [
    "d = {\"mukesh\":90,\"sai\":95,\"ram\":97}\n",
    "print(d.keys())\n",
    "print(d.values())"
   ]
  },
  {
   "cell_type": "markdown",
   "id": "189c5b2f",
   "metadata": {},
   "source": [
    "# 9.Check if a student exists in the dictionary."
   ]
  },
  {
   "cell_type": "code",
   "execution_count": 22,
   "id": "b26f8a74",
   "metadata": {},
   "outputs": [
    {
     "data": {
      "text/plain": [
       "False"
      ]
     },
     "execution_count": 22,
     "metadata": {},
     "output_type": "execute_result"
    }
   ],
   "source": [
    "d = {\"mukesh\":90,\"sai\":95,\"ram\":97}\n",
    "\"raju\" in d"
   ]
  },
  {
   "cell_type": "markdown",
   "id": "f524c862",
   "metadata": {},
   "source": [
    "# 10.Create a dictionary d with 4 key-value pairs.\n",
    "Convert the dictionary using the following methods one by one:\n",
    "- 1)list(d)\n",
    "- 2)list(d.keys())\n",
    "- 3)list(d.values())\n",
    "- 4)list(d.items())\n",
    "# b)Observe the output of each and note the differences.\n"
   ]
  },
  {
   "cell_type": "code",
   "execution_count": 23,
   "id": "7f9b1de9",
   "metadata": {},
   "outputs": [
    {
     "name": "stdout",
     "output_type": "stream",
     "text": [
      "['mukesh', 'sai', 'ram', 'raju']\n"
     ]
    }
   ],
   "source": [
    "d = {\"mukesh\":90,\"sai\":95,\"ram\":97,\"raju\":80}\n",
    "print(list(d)) # here we only get the keys"
   ]
  },
  {
   "cell_type": "code",
   "execution_count": 26,
   "id": "8691e860",
   "metadata": {},
   "outputs": [
    {
     "name": "stdout",
     "output_type": "stream",
     "text": [
      "['mukesh', 'sai', 'ram', 'raju']\n"
     ]
    }
   ],
   "source": [
    "print(list(d.keys())) # here we also we get keys only same like list"
   ]
  },
  {
   "cell_type": "code",
   "execution_count": 27,
   "id": "979734fa",
   "metadata": {},
   "outputs": [
    {
     "name": "stdout",
     "output_type": "stream",
     "text": [
      "[90, 95, 97, 80]\n"
     ]
    }
   ],
   "source": [
    "print(list(d.values())) # here we get the values"
   ]
  },
  {
   "cell_type": "code",
   "execution_count": 28,
   "id": "22de1d1a",
   "metadata": {},
   "outputs": [
    {
     "name": "stdout",
     "output_type": "stream",
     "text": [
      "[('mukesh', 90), ('sai', 95), ('ram', 97), ('raju', 80)]\n"
     ]
    }
   ],
   "source": [
    "print(list(d.items())) # here we get all keys and values"
   ]
  },
  {
   "cell_type": "code",
   "execution_count": null,
   "id": "9533f7d5",
   "metadata": {},
   "outputs": [],
   "source": []
  }
 ],
 "metadata": {
  "kernelspec": {
   "display_name": "Python 3 (ipykernel)",
   "language": "python",
   "name": "python3"
  },
  "language_info": {
   "codemirror_mode": {
    "name": "ipython",
    "version": 3
   },
   "file_extension": ".py",
   "mimetype": "text/x-python",
   "name": "python",
   "nbconvert_exporter": "python",
   "pygments_lexer": "ipython3",
   "version": "3.9.13"
  }
 },
 "nbformat": 4,
 "nbformat_minor": 5
}
