{
 "cells": [
  {
   "cell_type": "markdown",
   "id": "be13583e",
   "metadata": {},
   "source": [
    "# class\n",
    "\n",
    "- is like a imaginary/blueprint\n",
    "\n",
    "# object\n",
    "\n",
    "- which we can physically feel it eg(table,car)"
   ]
  },
  {
   "cell_type": "markdown",
   "id": "4e3e2d2e",
   "metadata": {},
   "source": [
    "- object consists of bhavioural properties\n",
    "- 1.Attributes - like name,age,gender etc\n",
    "- 2.Action - Walking, speaking"
   ]
  },
  {
   "cell_type": "markdown",
   "id": "b60d14bc",
   "metadata": {},
   "source": [
    "- syntax:\n",
    "     class class-name:\n",
    "       def attributes\n",
    "       def action:\n",
    "    male = class-name(attributes)\n",
    "\n",
    "male()"
   ]
  },
  {
   "cell_type": "code",
   "execution_count": 2,
   "id": "09c75b62",
   "metadata": {},
   "outputs": [
    {
     "name": "stdout",
     "output_type": "stream",
     "text": [
      "my name is raju and my age is 20\n"
     ]
    }
   ],
   "source": [
    "class batch:\n",
    "    def __init__(self,name,age):\n",
    "        self.name = name\n",
    "        self.age = age\n",
    "    def listen(self):\n",
    "        print(f\"my name is {self.name} and my age is {self.age}\")\n",
    "male = batch(\"raju\",20)\n",
    "male.listen()"
   ]
  },
  {
   "cell_type": "markdown",
   "id": "892a3758",
   "metadata": {},
   "source": [
    "# car class with drive method"
   ]
  },
  {
   "cell_type": "code",
   "execution_count": null,
   "id": "eb7a055a",
   "metadata": {},
   "outputs": [],
   "source": []
  },
  {
   "cell_type": "markdown",
   "id": "610a3f11",
   "metadata": {},
   "source": [
    "# arithmetic operation"
   ]
  },
  {
   "cell_type": "code",
   "execution_count": 8,
   "id": "74a164e8",
   "metadata": {},
   "outputs": [
    {
     "name": "stdout",
     "output_type": "stream",
     "text": [
      "15\n",
      "5\n",
      "50\n",
      "2.0\n"
     ]
    }
   ],
   "source": [
    "class arithmetic_operation:\n",
    "    def __init__(self,a,b):\n",
    "        self.a = a\n",
    "        self.b = b\n",
    "    def add(self):\n",
    "        print(self.a+self.b)\n",
    "    def sub(self):\n",
    "        print(self.a-self.b)\n",
    "    def mul(self):\n",
    "        print(self.a*self.b)\n",
    "    def div(self):\n",
    "        print(self.a/self.b)\n",
    "n = arithmetic_operation(10,5)\n",
    "n.add()\n",
    "n.sub()\n",
    "n.mul()\n",
    "n.div()"
   ]
  },
  {
   "cell_type": "markdown",
   "id": "c42cb989",
   "metadata": {},
   "source": [
    "# simple bank Account"
   ]
  },
  {
   "cell_type": "code",
   "execution_count": 2,
   "id": "4fd8023b",
   "metadata": {},
   "outputs": [
    {
     "name": "stdout",
     "output_type": "stream",
     "text": [
      "Deposited: 500\n",
      "balance 1500\n"
     ]
    }
   ],
   "source": [
    "class bankaccount:\n",
    "    def __init__(self,balance):\n",
    "        self.balance = balance\n",
    "    def deposit(self,amount):\n",
    "        self.balance +=amount\n",
    "        print(\"Deposited:\",amount)\n",
    "    def checkbalance(self):\n",
    "        print(\"balance\",self.balance)\n",
    "n = bankaccount(1000)\n",
    "n.deposit(500)\n",
    "n.checkbalance()\n"
   ]
  },
  {
   "cell_type": "code",
   "execution_count": 5,
   "id": "4b5dc228",
   "metadata": {},
   "outputs": [
    {
     "name": "stdout",
     "output_type": "stream",
     "text": [
      "totalcartamount 180\n"
     ]
    }
   ],
   "source": [
    "class cart:\n",
    "    def __init__(self,cartamount):\n",
    "        self.cartamount = cartamount\n",
    "    def milk(self,amount):\n",
    "        self.cartamount +=amount\n",
    "    def rice(self,amount):\n",
    "        self.cartamount +=amount\n",
    "    def bread(self,amount):\n",
    "        self.cartamount +=amount\n",
    "    def totalcartamount(self):\n",
    "        print(\"totalcartamount\",self.cartamount)\n",
    "n = cart(0)\n",
    "n.milk(30)\n",
    "n.rice(100)\n",
    "n.bread(50)\n",
    "n.totalcartamount()\n",
    "        "
   ]
  },
  {
   "cell_type": "markdown",
   "id": "c43d609c",
   "metadata": {},
   "source": [
    "# properties of oops\n",
    "- inheritance\n",
    "- encapsulation\n",
    "- polymorphism\n",
    "- abstraction"
   ]
  },
  {
   "cell_type": "markdown",
   "id": "fee7d86a",
   "metadata": {},
   "source": [
    "# inheritance\n",
    "\n",
    "- Inheritance is a fundamental concept where one class (called a subclass or child class) inherits properties and behaviors (methods) from another class (called a superclass or parent class)."
   ]
  },
  {
   "cell_type": "markdown",
   "id": "7b21a9cc",
   "metadata": {},
   "source": [
    "# Single Inheritance\n",
    "- A child class inherits from one parent class.\n"
   ]
  },
  {
   "attachments": {
    "single-inheritance.png": {
     "image/png": "[encoded data removed]"
    }
   },
   "cell_type": "markdown",
   "id": "37387fbd",
   "metadata": {},
   "source": [
    "![single-inheritance.png](attachment:single-inheritance.png)"
   ]
  },
  {
   "cell_type": "code",
   "execution_count": 9,
   "id": "16411dbb",
   "metadata": {},
   "outputs": [],
   "source": [
    "class parent:\n",
    "    def __init__(self,x,y):\n",
    "        self.x = x\n",
    "        self.y = y\n",
    "    def add(self):\n",
    "        final = self.x + self.y\n",
    "        return final\n",
    "class child(parent):\n",
    "    def __init__(self,x,y):\n",
    "        parent.__init__(self,x,y)\n",
    "    def subt(self):\n",
    "        sub = self.x - self.y\n",
    "        return sub"
   ]
  },
  {
   "cell_type": "code",
   "execution_count": 10,
   "id": "1c0b67f7",
   "metadata": {},
   "outputs": [
    {
     "name": "stdout",
     "output_type": "stream",
     "text": [
      "1\n",
      "21\n"
     ]
    }
   ],
   "source": [
    "p2 = child(11,10)\n",
    "print(p2.subt())\n",
    "print(p2.add())"
   ]
  },
  {
   "cell_type": "markdown",
   "id": "6945f1c9",
   "metadata": {},
   "source": [
    "#  Multiple Inheritance\n",
    "- A child class inherits from more than one parent class."
   ]
  },
  {
   "attachments": {
    "multipleinh.png": {
     "image/png": "[encoded data removed]"
    }
   },
   "cell_type": "markdown",
   "id": "bdf44798",
   "metadata": {},
   "source": [
    "![multipleinh.png](attachment:multipleinh.png)"
   ]
  },
  {
   "cell_type": "code",
   "execution_count": 21,
   "id": "6fc4eb46",
   "metadata": {},
   "outputs": [],
   "source": [
    "class father:\n",
    "    def  __init__(self,x,y):\n",
    "        self.x = x\n",
    "        self.y = y\n",
    "    def add(self): \n",
    "        return self.x + self.y\n",
    "class mother:\n",
    "    def __init__(self,x,y):\n",
    "        self.x = x\n",
    "        self.y = y\n",
    "    def sub(self):\n",
    "        return self.x - self.y\n",
    "class child(father,mother):\n",
    "    def __init__(self,x,y):\n",
    "        father.__init__(self,x,y)\n",
    "        mother.__init__(self,x,y)\n",
    "    def mul(self):\n",
    "        return self.x * self.y"
   ]
  },
  {
   "cell_type": "code",
   "execution_count": 6,
   "id": "e3cf9146",
   "metadata": {},
   "outputs": [
    {
     "ename": "NameError",
     "evalue": "name 'child' is not defined",
     "output_type": "error",
     "traceback": [
      "\u001b[1;31m---------------------------------------------------------------------------\u001b[0m",
      "\u001b[1;31mNameError\u001b[0m                                 Traceback (most recent call last)",
      "\u001b[1;32m~\\AppData\\Local\\Temp\\ipykernel_21448\\3151248180.py\u001b[0m in \u001b[0;36m<module>\u001b[1;34m\u001b[0m\n\u001b[1;32m----> 1\u001b[1;33m \u001b[0mp\u001b[0m \u001b[1;33m=\u001b[0m \u001b[0mchild\u001b[0m\u001b[1;33m(\u001b[0m\u001b[1;36m10\u001b[0m\u001b[1;33m,\u001b[0m\u001b[1;36m11\u001b[0m\u001b[1;33m)\u001b[0m\u001b[1;33m\u001b[0m\u001b[1;33m\u001b[0m\u001b[0m\n\u001b[0m\u001b[0;32m      2\u001b[0m \u001b[0mprint\u001b[0m\u001b[1;33m(\u001b[0m\u001b[0mp\u001b[0m\u001b[1;33m.\u001b[0m\u001b[0msub\u001b[0m\u001b[1;33m(\u001b[0m\u001b[1;33m)\u001b[0m\u001b[1;33m)\u001b[0m\u001b[1;33m\u001b[0m\u001b[1;33m\u001b[0m\u001b[0m\n\u001b[0;32m      3\u001b[0m \u001b[0mprint\u001b[0m\u001b[1;33m(\u001b[0m\u001b[0mp\u001b[0m\u001b[1;33m.\u001b[0m\u001b[0madd\u001b[0m\u001b[1;33m(\u001b[0m\u001b[1;33m)\u001b[0m\u001b[1;33m)\u001b[0m\u001b[1;33m\u001b[0m\u001b[1;33m\u001b[0m\u001b[0m\n\u001b[0;32m      4\u001b[0m \u001b[0mprint\u001b[0m\u001b[1;33m(\u001b[0m\u001b[0mp\u001b[0m\u001b[1;33m.\u001b[0m\u001b[0mmul\u001b[0m\u001b[1;33m(\u001b[0m\u001b[1;33m)\u001b[0m\u001b[1;33m)\u001b[0m\u001b[1;33m\u001b[0m\u001b[1;33m\u001b[0m\u001b[0m\n\u001b[0;32m      5\u001b[0m \u001b[0mprint\u001b[0m\u001b[1;33m(\u001b[0m\u001b[0mchild\u001b[0m\u001b[1;33m.\u001b[0m\u001b[0mmro\u001b[0m\u001b[1;33m(\u001b[0m\u001b[1;33m)\u001b[0m\u001b[1;33m)\u001b[0m\u001b[1;33m\u001b[0m\u001b[1;33m\u001b[0m\u001b[0m\n",
      "\u001b[1;31mNameError\u001b[0m: name 'child' is not defined"
     ]
    }
   ],
   "source": [
    "p = child(10,11)\n",
    "print(p.sub())\n",
    "print(p.add())\n",
    "print(p.mul())"
   ]
  },
  {
   "cell_type": "markdown",
   "id": "f6350108",
   "metadata": {},
   "source": [
    "#  Multilevel Inheritance\n",
    "- Inheritance occurs across multiple levels (a class inherits from a class that itself inherited from another class)."
   ]
  },
  {
   "attachments": {
    "maxresdefault%20%281%29.jpg": {
     "image/jpeg": "[encoded data removed]"
    }
   },
   "cell_type": "markdown",
   "id": "abb3bbee",
   "metadata": {},
   "source": [
    "![maxresdefault%20%281%29.jpg](attachment:maxresdefault%20%281%29.jpg)"
   ]
  },
  {
   "cell_type": "code",
   "execution_count": 5,
   "id": "a460870c",
   "metadata": {},
   "outputs": [],
   "source": [
    "class parent:\n",
    "    def __init__(self,x,y):\n",
    "        self.x = x\n",
    "        self.y = y\n",
    "    def add(self):\n",
    "        final = self.x + self.y\n",
    "        return final\n",
    "class child(parent):\n",
    "    def __init__(self,x,y):\n",
    "        parent.__init__(self,x,y)\n",
    "    def subt(self):\n",
    "        sub = self.x - self.y\n",
    "        return sub\n",
    "class child_1(child):\n",
    "    def __init__(self,x,y):\n",
    "        child.__init__(self,x,y)\n",
    "    def mult(self):\n",
    "        mul = self.x * self.y\n",
    "        return mul"
   ]
  },
  {
   "cell_type": "code",
   "execution_count": 7,
   "id": "8ea85f75",
   "metadata": {},
   "outputs": [
    {
     "name": "stdout",
     "output_type": "stream",
     "text": [
      "21\n",
      "1\n",
      "110\n"
     ]
    }
   ],
   "source": [
    "p3 = child_1(11,10)\n",
    "print(p3.add())\n",
    "print(p3.subt())\n",
    "print(p3.mult())"
   ]
  },
  {
   "cell_type": "markdown",
   "id": "1a73191a",
   "metadata": {},
   "source": [
    "#  Hierarchical Inheritance\n",
    "- Multiple child classes inherit from a single parent class."
   ]
  },
  {
   "attachments": {
    "hierarchical-inheritance.png": {
     "image/png": "[encoded data removed]"
    }
   },
   "cell_type": "markdown",
   "id": "4f02522c",
   "metadata": {},
   "source": [
    "![hierarchical-inheritance.png](attachment:hierarchical-inheritance.png)"
   ]
  },
  {
   "cell_type": "code",
   "execution_count": 25,
   "id": "5f21516e",
   "metadata": {},
   "outputs": [],
   "source": [
    "class father:\n",
    "    def __init__(self,x,y):\n",
    "        self.x = x\n",
    "        self.y = y\n",
    "    def add(self):\n",
    "        return self.x +self.y\n",
    "class child(father):\n",
    "    def __init__(self,x,y):\n",
    "        father.__init__(self,x,y)\n",
    "    def sub(self):\n",
    "        return self.x - self.y\n",
    "class child_1(father):\n",
    "    def __init__(self,x,y):\n",
    "        father.__init__(self,x,y)\n",
    "    def mul(self):\n",
    "        return self.x * self.y"
   ]
  },
  {
   "cell_type": "code",
   "execution_count": 27,
   "id": "37fd1300",
   "metadata": {},
   "outputs": [
    {
     "name": "stdout",
     "output_type": "stream",
     "text": [
      "12\n",
      "33\n",
      "11\n",
      "35\n"
     ]
    }
   ],
   "source": [
    "p = child(22,11)\n",
    "p1 = child_1(5,7)\n",
    "print(p1.add())\n",
    "print(p.add())\n",
    "print(p.sub())\n",
    "print(p1.mul())"
   ]
  },
  {
   "cell_type": "markdown",
   "id": "59598a02",
   "metadata": {},
   "source": [
    "# Hybrid Inheritance\n",
    "- A combination of two or more types of inheritance (e.g., multiple + multilevel). In languages like Python, this can lead to the Diamond Problem, handled via the Method Resolution Order (MRO).\n"
   ]
  },
  {
   "attachments": {
    "How-Hybrid-Inheritance-in-Java.webp": {
     "image/webp": "[encoded data removed]"
    }
   },
   "cell_type": "markdown",
   "id": "a320ddb3",
   "metadata": {},
   "source": [
    "![How-Hybrid-Inheritance-in-Java.webp](attachment:How-Hybrid-Inheritance-in-Java.webp)"
   ]
  },
  {
   "cell_type": "code",
   "execution_count": 46,
   "id": "37de5caa",
   "metadata": {},
   "outputs": [],
   "source": [
    "class parent:\n",
    "    def __init__(self,x,y):\n",
    "        self.x = x\n",
    "        self.y = y\n",
    "    def add(self):\n",
    "        return self.x + self.y\n",
    "class child(parent):\n",
    "    def __init__(self,x,y):\n",
    "        parent.__init__(self,x,y)\n",
    "    def sub(self):\n",
    "        return self.x - self.y\n",
    "class child_1(parent):\n",
    "    def __init__(self,x,y):\n",
    "        parent.__init__(self,x,y)\n",
    "    def mul(self):\n",
    "        return self.x * self.y\n",
    "class child_2(child,child_1):\n",
    "    def __init__(self,x,y):\n",
    "        child.__init__(self,x,y)\n",
    "        child_1.__init__(self,x,y)\n",
    "    def div(self):\n",
    "        return self.x / self.y"
   ]
  },
  {
   "cell_type": "code",
   "execution_count": 48,
   "id": "8ef98ec2",
   "metadata": {},
   "outputs": [
    {
     "name": "stdout",
     "output_type": "stream",
     "text": [
      "-1\n",
      "30\n",
      "0.4444444444444444\n"
     ]
    }
   ],
   "source": [
    "d = child(1,2)\n",
    "c = child_1(5,6)\n",
    "f = child_2(4,9)\n",
    "print(d.sub())\n",
    "print(c.mul())\n",
    "print(f.div())\n"
   ]
  },
  {
   "cell_type": "code",
   "execution_count": 34,
   "id": "454f9895",
   "metadata": {},
   "outputs": [],
   "source": [
    "# Hierarchical Inheritance\n",
    "class pet:\n",
    "    def __init__(self,name,breed):\n",
    "        self.name = name\n",
    "        self.breed = breed\n",
    "    def bark(self):\n",
    "        print(f\"{self.name}:{self.breed}\")\n",
    "    def meow(self):\n",
    "        print(f\"{self.name}:{self.breed}\")\n",
    "class dog(pet):\n",
    "    def __init__(self,name,breed):\n",
    "        pet.__init__(self,name,breed)\n",
    "class cat(pet):\n",
    "    def __init__(self,name,breed):\n",
    "        pet.__init__(self,name,breed)"
   ]
  },
  {
   "cell_type": "code",
   "execution_count": 35,
   "id": "d383be27",
   "metadata": {},
   "outputs": [
    {
     "name": "stdout",
     "output_type": "stream",
     "text": [
      "dog:blackdog\n",
      "cat:blackcat\n"
     ]
    }
   ],
   "source": [
    "p = dog(\"dog\",\"German Shepherd\")\n",
    "d = cat(\"cat\",\"blackcat\")\n",
    "p.bark()\n",
    "d.meow()"
   ]
  },
  {
   "cell_type": "code",
   "execution_count": 7,
   "id": "944fa6fa",
   "metadata": {},
   "outputs": [
    {
     "name": "stdout",
     "output_type": "stream",
     "text": [
      "dog says woof\n"
     ]
    }
   ],
   "source": [
    "# Single Inheritance\n",
    "class Pet:\n",
    "    def __init__(self, name, breed):\n",
    "        self.name = name\n",
    "        self.breed = breed\n",
    "\n",
    "    def bark(self):\n",
    "        print(f\"{self.name} says woof\")\n",
    "\n",
    "class Dog(Pet):\n",
    "    def __init__(self, name, breed):\n",
    "        Pet.__init__(self, name, breed)  \n",
    "\n",
    "p = Dog(\"dog\", \"German Shepherd\")\n",
    "p.bark()\n",
    "\n"
   ]
  },
  {
   "cell_type": "code",
   "execution_count": 10,
   "id": "a757bdc3",
   "metadata": {},
   "outputs": [
    {
     "name": "stdout",
     "output_type": "stream",
     "text": [
      "Animal initialized\n",
      "Max\n",
      "[<class '__main__.Dog'>, <class '__main__.Pet'>, <class '__main__.Animal'>, <class 'object'>]\n"
     ]
    }
   ],
   "source": [
    "# Multiple Inheritance\n",
    "class Pet:\n",
    "    def __init__(self, name, breed):\n",
    "        self.name = name\n",
    "        self.breed = breed\n",
    "\n",
    "class Animal:\n",
    "    def __init__(self):\n",
    "        print(\"Animal initialized\")\n",
    "\n",
    "class Dog(Pet, Animal):\n",
    "    def __init__(self, name, breed):\n",
    "        Pet.__init__(self, name, breed)\n",
    "        Animal.__init__(self)   \n",
    "\n",
    "d = Dog(\"Max\", \"Labrador\")\n",
    "print(d.name)\n",
    "print(Dog.mro())"
   ]
  },
  {
   "cell_type": "markdown",
   "id": "7c685c69",
   "metadata": {},
   "source": [
    "# mro\n",
    "- MRO is the order in which base classes are searched when executing a method or looking for an attribute. This is especially important in multiple inheritance scenarios, where a class can inherit from more than one parent class."
   ]
  },
  {
   "cell_type": "code",
   "execution_count": 8,
   "id": "7c0b157b",
   "metadata": {},
   "outputs": [
    {
     "name": "stdout",
     "output_type": "stream",
     "text": [
      "c\n",
      "[<class '__main__.d'>, <class '__main__.b'>, <class '__main__.c'>, <class '__main__.a'>, <class 'object'>]\n"
     ]
    }
   ],
   "source": [
    "class a:\n",
    "    def show(self):\n",
    "        print(\"a\")\n",
    "class b(a):\n",
    "    def show(self):\n",
    "        print(\"c\")\n",
    "class c(a):\n",
    "    def show(self):\n",
    "        print(\"c\")\n",
    "class d(b,c): # multiple inheritance\n",
    "    pass\n",
    "obj = d()\n",
    "obj.show()               #output : b(because b is first in d(b,c))\n",
    "print(d.mro())     # shows the MRO"
   ]
  },
  {
   "cell_type": "markdown",
   "id": "09744bb0",
   "metadata": {},
   "source": [
    "# Encapsulation\n",
    "- Encapsulation is the concept of wrapping data (variables) and the methods (functions) that operate on that data into a single unit—a class. It restricts direct access to some of the object's components, which is a way of protecting the integrity of the object’s internal state."
   ]
  },
  {
   "cell_type": "code",
   "execution_count": 11,
   "id": "98e19ff5",
   "metadata": {},
   "outputs": [
    {
     "name": "stdout",
     "output_type": "stream",
     "text": [
      "mukesh\n",
      "20\n"
     ]
    },
    {
     "ename": "AttributeError",
     "evalue": "'person' object has no attribute '_person__salaray'",
     "output_type": "error",
     "traceback": [
      "\u001b[1;31m---------------------------------------------------------------------------\u001b[0m",
      "\u001b[1;31mAttributeError\u001b[0m                            Traceback (most recent call last)",
      "\u001b[1;32m~\\AppData\\Local\\Temp\\ipykernel_21448\\1054821531.py\u001b[0m in \u001b[0;36m<module>\u001b[1;34m\u001b[0m\n\u001b[0;32m     13\u001b[0m \u001b[0mprint\u001b[0m\u001b[1;33m(\u001b[0m\u001b[0mp\u001b[0m\u001b[1;33m.\u001b[0m\u001b[0mname_1\u001b[0m\u001b[1;33m(\u001b[0m\u001b[1;33m)\u001b[0m\u001b[1;33m)\u001b[0m\u001b[1;33m\u001b[0m\u001b[1;33m\u001b[0m\u001b[0m\n\u001b[0;32m     14\u001b[0m \u001b[0mprint\u001b[0m\u001b[1;33m(\u001b[0m\u001b[0mp\u001b[0m\u001b[1;33m.\u001b[0m\u001b[0mage_1\u001b[0m\u001b[1;33m(\u001b[0m\u001b[1;33m)\u001b[0m\u001b[1;33m)\u001b[0m\u001b[1;33m\u001b[0m\u001b[1;33m\u001b[0m\u001b[0m\n\u001b[1;32m---> 15\u001b[1;33m \u001b[0mprint\u001b[0m\u001b[1;33m(\u001b[0m\u001b[0mp\u001b[0m\u001b[1;33m.\u001b[0m\u001b[0msalary_1\u001b[0m\u001b[1;33m(\u001b[0m\u001b[1;33m)\u001b[0m\u001b[1;33m)\u001b[0m\u001b[1;33m\u001b[0m\u001b[1;33m\u001b[0m\u001b[0m\n\u001b[0m",
      "\u001b[1;32m~\\AppData\\Local\\Temp\\ipykernel_21448\\1054821531.py\u001b[0m in \u001b[0;36msalary_1\u001b[1;34m(self)\u001b[0m\n\u001b[0;32m      9\u001b[0m         \u001b[1;32mreturn\u001b[0m \u001b[0mself\u001b[0m\u001b[1;33m.\u001b[0m\u001b[0m_age\u001b[0m\u001b[1;33m\u001b[0m\u001b[1;33m\u001b[0m\u001b[0m\n\u001b[0;32m     10\u001b[0m     \u001b[1;32mdef\u001b[0m \u001b[0msalary_1\u001b[0m\u001b[1;33m(\u001b[0m\u001b[0mself\u001b[0m\u001b[1;33m)\u001b[0m\u001b[1;33m:\u001b[0m\u001b[1;33m\u001b[0m\u001b[1;33m\u001b[0m\u001b[0m\n\u001b[1;32m---> 11\u001b[1;33m         \u001b[1;32mreturn\u001b[0m \u001b[0mself\u001b[0m\u001b[1;33m.\u001b[0m\u001b[0m__salaray\u001b[0m\u001b[1;33m\u001b[0m\u001b[1;33m\u001b[0m\u001b[0m\n\u001b[0m\u001b[0;32m     12\u001b[0m \u001b[0mp\u001b[0m \u001b[1;33m=\u001b[0m \u001b[0mperson\u001b[0m\u001b[1;33m(\u001b[0m\u001b[1;34m\"mukesh\"\u001b[0m\u001b[1;33m,\u001b[0m\u001b[1;36m20\u001b[0m\u001b[1;33m,\u001b[0m\u001b[1;36m2000\u001b[0m\u001b[1;33m)\u001b[0m\u001b[1;33m\u001b[0m\u001b[1;33m\u001b[0m\u001b[0m\n\u001b[0;32m     13\u001b[0m \u001b[0mprint\u001b[0m\u001b[1;33m(\u001b[0m\u001b[0mp\u001b[0m\u001b[1;33m.\u001b[0m\u001b[0mname_1\u001b[0m\u001b[1;33m(\u001b[0m\u001b[1;33m)\u001b[0m\u001b[1;33m)\u001b[0m\u001b[1;33m\u001b[0m\u001b[1;33m\u001b[0m\u001b[0m\n",
      "\u001b[1;31mAttributeError\u001b[0m: 'person' object has no attribute '_person__salaray'"
     ]
    }
   ],
   "source": [
    "class person:\n",
    "    def __init__(self,name,age,salary):\n",
    "        self.name = name                #public\n",
    "        self._age = age\n",
    "        self.__salary = salary\n",
    "    def name_1(self):\n",
    "        return self.name\n",
    "    def age_1(self):\n",
    "        return self._age\n",
    "    def salary_1(self):\n",
    "        return self.__salaray\n",
    "p = person(\"mukesh\",20,2000)\n",
    "print(p.name_1())\n",
    "print(p.age_1())\n",
    "print(p.salary_1())"
   ]
  },
  {
   "cell_type": "markdown",
   "id": "22a3115e",
   "metadata": {},
   "source": [
    "# polymorphism\n",
    "- Polymorphism means \"many forms\". It's an Object-Oriented Programming (OOP) concept that allows objects of different classes to be treated as objects of a common superclass."
   ]
  },
  {
   "cell_type": "code",
   "execution_count": 15,
   "id": "b2112737",
   "metadata": {},
   "outputs": [
    {
     "name": "stdout",
     "output_type": "stream",
     "text": [
      "brak\n",
      "meow\n"
     ]
    }
   ],
   "source": [
    "class dog:\n",
    "    def sound(self):\n",
    "        return \"brak\"\n",
    "class cat:\n",
    "    def sound(self):\n",
    "        return \"meow\"\n",
    "def animal_sound(animal):\n",
    "    print(animal.sound())\n",
    "d = dog()\n",
    "c = cat()\n",
    "animal_sound(d)\n",
    "animal_sound(c)"
   ]
  },
  {
   "cell_type": "markdown",
   "id": "6898668e",
   "metadata": {},
   "source": [
    "# Abstraction\n",
    "- Abstraction allows you to define the what an object does, not how it does it.It helps in managing complexity by breaking the system into smaller, more understandable pieces."
   ]
  },
  {
   "cell_type": "code",
   "execution_count": 16,
   "id": "db46e881",
   "metadata": {},
   "outputs": [
    {
     "name": "stdout",
     "output_type": "stream",
     "text": [
      "Area: 50\n",
      "Perimeter: 30\n"
     ]
    }
   ],
   "source": [
    "from abc import ABC, abstractmethod\n",
    "\n",
    "class Shape(ABC):  # Abstract class\n",
    "\n",
    "    @abstractmethod\n",
    "    def area(self):\n",
    "        pass\n",
    "\n",
    "    @abstractmethod\n",
    "    def perimeter(self):\n",
    "        pass\n",
    "\n",
    "class Rectangle(Shape):\n",
    "    def __init__(self, length, width):\n",
    "        self.length = length\n",
    "        self.width = width\n",
    "\n",
    "    def area(self):\n",
    "        return self.length * self.width\n",
    "\n",
    "    def perimeter(self):\n",
    "        return 2 * (self.length + self.width)\n",
    "\n",
    "# shape = Shape()  # ❌ Error: Can't instantiate abstract class\n",
    "\n",
    "rect = Rectangle(10, 5)\n",
    "print(\"Area:\", rect.area())          # Output: 50\n",
    "print(\"Perimeter:\", rect.perimeter())  # Output: 30\n"
   ]
  },
  {
   "cell_type": "code",
   "execution_count": 2,
   "id": "85b2cc72",
   "metadata": {},
   "outputs": [
    {
     "name": "stdout",
     "output_type": "stream",
     "text": [
      "This car is bmw x5\n"
     ]
    }
   ],
   "source": [
    "class car:\n",
    "    def __init__(self,brand,model):\n",
    "        self.brand = brand\n",
    "        self.model = model\n",
    "    def display(self):\n",
    "        print(f\"This car is {self.brand} {self.model}\")\n",
    "var = car(\"bmw\",\"x5\")\n",
    "var.display()"
   ]
  },
  {
   "cell_type": "code",
   "execution_count": 4,
   "id": "cc053289",
   "metadata": {},
   "outputs": [
    {
     "name": "stdout",
     "output_type": "stream",
     "text": [
      "This car is bmw x5 75kmh\n"
     ]
    }
   ],
   "source": [
    "class Electriccar(car):\n",
    "    def __init__(self,brand,model,battery):\n",
    "        car.__init__(self,brand,model)\n",
    "        self.battery = battery\n",
    "    def show(self):\n",
    "        print(f\"This car is {self.brand} {self.model} {self.battery}\")\n",
    "v = Electriccar(\"bmw\",\"x5\",\"75kmh\")\n",
    "v.show()"
   ]
  },
  {
   "cell_type": "code",
   "execution_count": 18,
   "id": "44ea1a15",
   "metadata": {},
   "outputs": [],
   "source": [
    "class Electriccar(car):\n",
    "    def __init__(self,brand,model,battery):\n",
    "        car.__init__(self,brand,model)\n",
    "        self.__battery = battery\n",
    "    def get_battery_capacity(self):\n",
    "        return self.__battery\n",
    "    def set_battery_capacity(self,new_capacity):\n",
    "        if new_capacity >= 0:\n",
    "            self.__battery = new_capacity\n",
    "        else:\n",
    "            print(\" battery capacity cannot be negative\")\n",
    "    def dispaly(self):\n",
    "        print(f\"This car is {self.brand} {self.model} {self.__battery}\")"
   ]
  },
  {
   "cell_type": "code",
   "execution_count": 19,
   "id": "98036185",
   "metadata": {},
   "outputs": [
    {
     "name": "stdout",
     "output_type": "stream",
     "text": [
      "This car is bmw x5\n"
     ]
    }
   ],
   "source": [
    "s = Electriccar(\"bmw\",\"x5\",\"75kmh\")\n",
    "s.display()"
   ]
  },
  {
   "cell_type": "code",
   "execution_count": 22,
   "id": "ed72f4d3",
   "metadata": {},
   "outputs": [
    {
     "name": "stdout",
     "output_type": "stream",
     "text": [
      "battery: 70\n",
      " battery capacity cannot be negative\n"
     ]
    }
   ],
   "source": [
    "print(\"battery:\",s.get_battery_capacity())\n",
    "s.set_battery_capacity(70)\n",
    "s.set_battery_capacity(-2)"
   ]
  },
  {
   "cell_type": "code",
   "execution_count": null,
   "id": "73d2165e",
   "metadata": {},
   "outputs": [],
   "source": []
  }
 ],
 "metadata": {
  "kernelspec": {
   "display_name": "Python 3 (ipykernel)",
   "language": "python",
   "name": "python3"
  },
  "language_info": {
   "codemirror_mode": {
    "name": "ipython",
    "version": 3
   },
   "file_extension": ".py",
   "mimetype": "text/x-python",
   "name": "python",
   "nbconvert_exporter": "python",
   "pygments_lexer": "ipython3",
   "version": "3.9.13"
  }
 },
 "nbformat": 4,
 "nbformat_minor": 5
}
