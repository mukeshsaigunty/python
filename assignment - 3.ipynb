{
 "cells": [
  {
   "cell_type": "markdown",
   "id": "eb498520",
   "metadata": {},
   "source": [
    "# 1.How many characters are in the string \"Python3\"?"
   ]
  },
  {
   "cell_type": "markdown",
   "id": "731ccff5",
   "metadata": {},
   "source": [
    "- The string **\"Python3\"** contains **7 characters**\n"
   ]
  },
  {
   "cell_type": "code",
   "execution_count": 2,
   "id": "ea3cd80f",
   "metadata": {},
   "outputs": [
    {
     "data": {
      "text/plain": [
       "7"
      ]
     },
     "execution_count": 2,
     "metadata": {},
     "output_type": "execute_result"
    }
   ],
   "source": [
    "x = \"Python3\"\n",
    "len(x)"
   ]
  },
  {
   "cell_type": "markdown",
   "id": "6b5d8643",
   "metadata": {},
   "source": [
    "# 2.If text = \" Hello World \", what does len(text) return?\n"
   ]
  },
  {
   "cell_type": "code",
   "execution_count": 3,
   "id": "f7df40ff",
   "metadata": {},
   "outputs": [
    {
     "data": {
      "text/plain": [
       "11"
      ]
     },
     "execution_count": 3,
     "metadata": {},
     "output_type": "execute_result"
    }
   ],
   "source": [
    "text = \"Hello World\"\n",
    "len(text)"
   ]
  },
  {
   "cell_type": "markdown",
   "id": "dc0751a1",
   "metadata": {},
   "source": [
    "# 3.Count the length of \" \" (a space character). Is it 0?"
   ]
  },
  {
   "cell_type": "code",
   "execution_count": 4,
   "id": "56148c25",
   "metadata": {},
   "outputs": [
    {
     "data": {
      "text/plain": [
       "1"
      ]
     },
     "execution_count": 4,
     "metadata": {},
     "output_type": "execute_result"
    }
   ],
   "source": [
    "m = \" \"\n",
    "len(m)"
   ]
  },
  {
   "cell_type": "markdown",
   "id": "a213f38d",
   "metadata": {},
   "source": [
    "# 4.Convert \"Good Morning\" to uppercase. What do you get?"
   ]
  },
  {
   "cell_type": "code",
   "execution_count": 5,
   "id": "a3ca710c",
   "metadata": {},
   "outputs": [
    {
     "data": {
      "text/plain": [
       "'GOOD MORNING'"
      ]
     },
     "execution_count": 5,
     "metadata": {},
     "output_type": "execute_result"
    }
   ],
   "source": [
    "x = \"Good Morning\"\n",
    "x.upper()"
   ]
  },
  {
   "cell_type": "markdown",
   "id": "f3bca78b",
   "metadata": {},
   "source": [
    "# 5.What is \"HELLO\".lower()?"
   ]
  },
  {
   "cell_type": "code",
   "execution_count": 6,
   "id": "692f7ec1",
   "metadata": {},
   "outputs": [
    {
     "data": {
      "text/plain": [
       "'hello'"
      ]
     },
     "execution_count": 6,
     "metadata": {},
     "output_type": "execute_result"
    }
   ],
   "source": [
    "x = 'HELLO'\n",
    "x.lower()"
   ]
  },
  {
   "cell_type": "markdown",
   "id": "7672005e",
   "metadata": {},
   "source": [
    "# 6.If msg = \"PyThOn\", what will msg.upper() and msg.lower() return?\n"
   ]
  },
  {
   "cell_type": "code",
   "execution_count": 7,
   "id": "80131ba6",
   "metadata": {},
   "outputs": [
    {
     "name": "stdout",
     "output_type": "stream",
     "text": [
      "python\n",
      "PYTHON\n"
     ]
    }
   ],
   "source": [
    "x = \"PyThOn\"\n",
    "print(x.lower())\n",
    "print(x.upper())"
   ]
  },
  {
   "cell_type": "markdown",
   "id": "2e3f9bb7",
   "metadata": {},
   "source": [
    "# 7.What happens if you use .upper() on \"123abc!\"?"
   ]
  },
  {
   "cell_type": "code",
   "execution_count": 8,
   "id": "1839ca02",
   "metadata": {},
   "outputs": [
    {
     "data": {
      "text/plain": [
       "'123ABC!'"
      ]
     },
     "execution_count": 8,
     "metadata": {},
     "output_type": "execute_result"
    }
   ],
   "source": [
    "x = \"123abc!\"\n",
    "x.upper()"
   ]
  },
  {
   "cell_type": "markdown",
   "id": "65bec95c",
   "metadata": {},
   "source": [
    "# 8.What does \"hello world\".capitalize() return?"
   ]
  },
  {
   "cell_type": "code",
   "execution_count": 9,
   "id": "17777b89",
   "metadata": {},
   "outputs": [
    {
     "data": {
      "text/plain": [
       "'Hello world'"
      ]
     },
     "execution_count": 9,
     "metadata": {},
     "output_type": "execute_result"
    }
   ],
   "source": [
    "x = \"hello world\"\n",
    "x.capitalize()"
   ]
  },
  {
   "cell_type": "markdown",
   "id": "07f02a9e",
   "metadata": {},
   "source": [
    "# 9.Convert \"hello world from python\" to title case?"
   ]
  },
  {
   "cell_type": "code",
   "execution_count": 10,
   "id": "3d35a4fa",
   "metadata": {},
   "outputs": [
    {
     "data": {
      "text/plain": [
       "'Hello World From Python'"
      ]
     },
     "execution_count": 10,
     "metadata": {},
     "output_type": "execute_result"
    }
   ],
   "source": [
    "x = \"hello world from python\"\n",
    "x.title()"
   ]
  },
  {
   "cell_type": "markdown",
   "id": "30e5fdc6",
   "metadata": {},
   "source": [
    "# 10.Will \"JAVA\".capitalize() return \"Java\" or \"JAVA\"?"
   ]
  },
  {
   "cell_type": "code",
   "execution_count": 11,
   "id": "2d87e99b",
   "metadata": {},
   "outputs": [
    {
     "data": {
      "text/plain": [
       "'Java'"
      ]
     },
     "execution_count": 11,
     "metadata": {},
     "output_type": "execute_result"
    }
   ],
   "source": [
    "x = \"JAVA\"\n",
    "x.capitalize()"
   ]
  },
  {
   "cell_type": "markdown",
   "id": "96951819",
   "metadata": {},
   "source": [
    "# 11.What’s the difference between \"hello world\".title() and \"hello world\".capitalize()?\n"
   ]
  },
  {
   "cell_type": "markdown",
   "id": "336568e1",
   "metadata": {},
   "source": [
    "- `\"hello world\".title()` → Capitalizes the first letter of **each** word: `\"Hello World\"`\n",
    "- \"hello world\".capitalize()` → Capitalizes **only the first** letter of the string: `\"Hello world\"`\n"
   ]
  },
  {
   "cell_type": "markdown",
   "id": "20d5983e",
   "metadata": {},
   "source": [
    "# 12.Count how many 'o' are in \"hello, world!\".\n"
   ]
  },
  {
   "cell_type": "code",
   "execution_count": 12,
   "id": "495aa2b8",
   "metadata": {},
   "outputs": [
    {
     "data": {
      "text/plain": [
       "2"
      ]
     },
     "execution_count": 12,
     "metadata": {},
     "output_type": "execute_result"
    }
   ],
   "source": [
    "x = \"hello, world!\"\n",
    "x.count(\"o\")"
   ]
  },
  {
   "cell_type": "markdown",
   "id": "48b2a4a0",
   "metadata": {},
   "source": [
    "# 13.Given quote = \"Practice makes perfect\", how many times does 'p' appear?"
   ]
  },
  {
   "cell_type": "code",
   "execution_count": 13,
   "id": "708ee81f",
   "metadata": {},
   "outputs": [
    {
     "data": {
      "text/plain": [
       "1"
      ]
     },
     "execution_count": 13,
     "metadata": {},
     "output_type": "execute_result"
    }
   ],
   "source": [
    "quote = \"Practice makes perfect\"\n",
    "quote.count(\"p\")"
   ]
  },
  {
   "cell_type": "markdown",
   "id": "c9d671e2",
   "metadata": {},
   "source": [
    "# 14.What is \"Mississippi\".count('s')?"
   ]
  },
  {
   "cell_type": "code",
   "execution_count": 14,
   "id": "cde4eb3e",
   "metadata": {},
   "outputs": [
    {
     "data": {
      "text/plain": [
       "4"
      ]
     },
     "execution_count": 14,
     "metadata": {},
     "output_type": "execute_result"
    }
   ],
   "source": [
    "x = \"Mississippi\"\n",
    "x.count(\"s\")"
   ]
  },
  {
   "cell_type": "markdown",
   "id": "ef025b88",
   "metadata": {},
   "source": [
    "# 15.What does \"banana\".count(\"na\") return?"
   ]
  },
  {
   "cell_type": "code",
   "execution_count": 15,
   "id": "a79739db",
   "metadata": {},
   "outputs": [
    {
     "data": {
      "text/plain": [
       "2"
      ]
     },
     "execution_count": 15,
     "metadata": {},
     "output_type": "execute_result"
    }
   ],
   "source": [
    "x = \"banana\"\n",
    "x.count(\"na\")"
   ]
  },
  {
   "cell_type": "markdown",
   "id": "6517e0f8",
   "metadata": {},
   "source": [
    "# 16.What is the position of 'e' in \"elephant\" using .find()?"
   ]
  },
  {
   "cell_type": "code",
   "execution_count": 17,
   "id": "6e81119a",
   "metadata": {},
   "outputs": [
    {
     "data": {
      "text/plain": [
       "0"
      ]
     },
     "execution_count": 17,
     "metadata": {},
     "output_type": "execute_result"
    }
   ],
   "source": [
    "x = \"elephant\"\n",
    "x.find('e')"
   ]
  },
  {
   "cell_type": "markdown",
   "id": "d38765d7",
   "metadata": {},
   "source": [
    "# 17.find() to locate 'z' in \"puzzle\" — what index is returned?"
   ]
  },
  {
   "cell_type": "code",
   "execution_count": 18,
   "id": "9eeaa594",
   "metadata": {},
   "outputs": [
    {
     "data": {
      "text/plain": [
       "2"
      ]
     },
     "execution_count": 18,
     "metadata": {},
     "output_type": "execute_result"
    }
   ],
   "source": [
    "x = \"puzzle\"\n",
    "x.find(\"z\")"
   ]
  },
  {
   "cell_type": "markdown",
   "id": "75a0b3cc",
   "metadata": {},
   "source": [
    "# 18.What happens if .find() doesn’t find the character?"
   ]
  },
  {
   "cell_type": "markdown",
   "id": "1e0020a9",
   "metadata": {},
   "source": [
    "- If `.find()` doesn’t find the character, it returns **`-1`**."
   ]
  },
  {
   "cell_type": "code",
   "execution_count": 22,
   "id": "4c4dd7d1",
   "metadata": {},
   "outputs": [
    {
     "data": {
      "text/plain": [
       "-1"
      ]
     },
     "execution_count": 22,
     "metadata": {},
     "output_type": "execute_result"
    }
   ],
   "source": [
    "x.find(\"o\")"
   ]
  },
  {
   "cell_type": "markdown",
   "id": "49a3b31d",
   "metadata": {},
   "source": [
    "# 19.How does index() behave differently from find() when the item isn’t found?"
   ]
  },
  {
   "cell_type": "code",
   "execution_count": 21,
   "id": "9ea307ff",
   "metadata": {},
   "outputs": [
    {
     "ename": "ValueError",
     "evalue": "substring not found",
     "output_type": "error",
     "traceback": [
      "\u001b[1;31m---------------------------------------------------------------------------\u001b[0m",
      "\u001b[1;31mValueError\u001b[0m                                Traceback (most recent call last)",
      "\u001b[1;32m~\\AppData\\Local\\Temp\\ipykernel_8812\\1649761948.py\u001b[0m in \u001b[0;36m<module>\u001b[1;34m\u001b[0m\n\u001b[1;32m----> 1\u001b[1;33m \u001b[0mx\u001b[0m\u001b[1;33m.\u001b[0m\u001b[0mindex\u001b[0m\u001b[1;33m(\u001b[0m\u001b[1;34m\"o\"\u001b[0m\u001b[1;33m)\u001b[0m\u001b[1;33m\u001b[0m\u001b[1;33m\u001b[0m\u001b[0m\n\u001b[0m",
      "\u001b[1;31mValueError\u001b[0m: substring not found"
     ]
    }
   ],
   "source": [
    "x.index(\"o\")"
   ]
  },
  {
   "cell_type": "markdown",
   "id": "7fbfabb7",
   "metadata": {},
   "source": [
    "# 20.What does \"hello\".index(\"e\") return?"
   ]
  },
  {
   "cell_type": "code",
   "execution_count": 23,
   "id": "efdd2da8",
   "metadata": {},
   "outputs": [
    {
     "data": {
      "text/plain": [
       "1"
      ]
     },
     "execution_count": 23,
     "metadata": {},
     "output_type": "execute_result"
    }
   ],
   "source": [
    "x = \"hello\"\n",
    "x.index(\"e\")"
   ]
  },
  {
   "cell_type": "markdown",
   "id": "af87dc5e",
   "metadata": {},
   "source": [
    "# 21.Combine \"Hello\" and \"World\" into \"HelloWorld\"?"
   ]
  },
  {
   "cell_type": "code",
   "execution_count": 25,
   "id": "b6948a18",
   "metadata": {},
   "outputs": [
    {
     "name": "stdout",
     "output_type": "stream",
     "text": [
      "HelloWorld\n"
     ]
    }
   ],
   "source": [
    "x = \"Hello\"\n",
    "y = \"World\"\n",
    "print(x+y)"
   ]
  },
  {
   "cell_type": "markdown",
   "id": "c3e0e5e9",
   "metadata": {},
   "source": [
    "# 22.Use + to add \"Hi, \" and \"Alice\" together."
   ]
  },
  {
   "cell_type": "code",
   "execution_count": 1,
   "id": "34e1d9d7",
   "metadata": {},
   "outputs": [
    {
     "name": "stdout",
     "output_type": "stream",
     "text": [
      "HiAlice\n"
     ]
    }
   ],
   "source": [
    "x = \"Hi\"\n",
    "y = \"Alice\"\n",
    "print(x+y)"
   ]
  },
  {
   "cell_type": "markdown",
   "id": "f9c82c5d",
   "metadata": {},
   "source": [
    "# 23.What is the result of \"Age: \" + str(25)?"
   ]
  },
  {
   "cell_type": "code",
   "execution_count": 2,
   "id": "c1e5dbd0",
   "metadata": {},
   "outputs": [
    {
     "name": "stdout",
     "output_type": "stream",
     "text": [
      "Age:25\n"
     ]
    }
   ],
   "source": [
    "print(\"Age:\"+str(25))"
   ]
  },
  {
   "cell_type": "markdown",
   "id": "fa39821b",
   "metadata": {},
   "source": [
    "# 24.Can you concatenate \"abc\" and \"123\" to form \"abc123\"?"
   ]
  },
  {
   "cell_type": "code",
   "execution_count": 3,
   "id": "ae21785d",
   "metadata": {},
   "outputs": [
    {
     "name": "stdout",
     "output_type": "stream",
     "text": [
      "abc123\n"
     ]
    }
   ],
   "source": [
    "print(\"abc\"+\"123\")"
   ]
  },
  {
   "cell_type": "markdown",
   "id": "5221eb80",
   "metadata": {},
   "source": [
    "# 25.Replace \"dog\" with \"cat\" in \"The dog barks.\"?"
   ]
  },
  {
   "cell_type": "code",
   "execution_count": 4,
   "id": "060dc8ae",
   "metadata": {},
   "outputs": [
    {
     "data": {
      "text/plain": [
       "'The cat barks'"
      ]
     },
     "execution_count": 4,
     "metadata": {},
     "output_type": "execute_result"
    }
   ],
   "source": [
    "x = \"The dog barks\"\n",
    "x.replace(\"dog\",\"cat\")"
   ]
  },
  {
   "cell_type": "markdown",
   "id": "81155616",
   "metadata": {},
   "source": [
    "# 26.Given msg = \"rain rain go away\", replace 'rain' with 'sun'?"
   ]
  },
  {
   "cell_type": "code",
   "execution_count": 5,
   "id": "bcf68ee3",
   "metadata": {},
   "outputs": [
    {
     "data": {
      "text/plain": [
       "'sun sun go away'"
      ]
     },
     "execution_count": 5,
     "metadata": {},
     "output_type": "execute_result"
    }
   ],
   "source": [
    "x = \"rain rain go away\"\n",
    "x.replace(\"rain\",\"sun\")"
   ]
  },
  {
   "cell_type": "markdown",
   "id": "d1ce1ea9",
   "metadata": {},
   "source": [
    "# 27.What happens when you replace 'a' with '@' in \"banana\"?"
   ]
  },
  {
   "cell_type": "code",
   "execution_count": 6,
   "id": "8db62b3d",
   "metadata": {},
   "outputs": [
    {
     "data": {
      "text/plain": [
       "'b@n@n@'"
      ]
     },
     "execution_count": 6,
     "metadata": {},
     "output_type": "execute_result"
    }
   ],
   "source": [
    "x = \"banana\"\n",
    "x.replace(\"a\",\"@\")"
   ]
  },
  {
   "cell_type": "markdown",
   "id": "0aeda41e",
   "metadata": {},
   "source": [
    "# 28.How do you replace spaces with hyphens in \"join the party\"?"
   ]
  },
  {
   "cell_type": "code",
   "execution_count": 7,
   "id": "db336ac0",
   "metadata": {},
   "outputs": [
    {
     "data": {
      "text/plain": [
       "'join-the-party'"
      ]
     },
     "execution_count": 7,
     "metadata": {},
     "output_type": "execute_result"
    }
   ],
   "source": [
    "x = \"join the party\"\n",
    "x.replace(\" \",\"-\")"
   ]
  },
  {
   "cell_type": "markdown",
   "id": "dab5a20c",
   "metadata": {},
   "source": [
    "# 29.What does \" hello \".strip() return?"
   ]
  },
  {
   "cell_type": "code",
   "execution_count": 8,
   "id": "1e72f2b2",
   "metadata": {},
   "outputs": [
    {
     "data": {
      "text/plain": [
       "'hello'"
      ]
     },
     "execution_count": 8,
     "metadata": {},
     "output_type": "execute_result"
    }
   ],
   "source": [
    "\"hello\".strip()"
   ]
  },
  {
   "cell_type": "markdown",
   "id": "4a66a585",
   "metadata": {},
   "source": [
    "# 30.Remove # from both ends of \"###Welcome###\" using strip()?"
   ]
  },
  {
   "cell_type": "code",
   "execution_count": 11,
   "id": "38821220",
   "metadata": {},
   "outputs": [
    {
     "data": {
      "text/plain": [
       "'Welcome'"
      ]
     },
     "execution_count": 11,
     "metadata": {},
     "output_type": "execute_result"
    }
   ],
   "source": [
    "\"###Welcome###\".strip(\"#\")"
   ]
  },
  {
   "cell_type": "markdown",
   "id": "7ee7c1a9",
   "metadata": {},
   "source": [
    "# 31.Does strip() remove characters from the middle of a string?"
   ]
  },
  {
   "cell_type": "markdown",
   "id": "cb7ccfc6",
   "metadata": {},
   "source": [
    "- No, `strip()` only removes characters from the beginning and end of a string, not the middle.\n"
   ]
  },
  {
   "cell_type": "markdown",
   "id": "6ac10bcb",
   "metadata": {},
   "source": [
    "# 32.How do you remove only the trailing spaces from \"Hello \"?"
   ]
  },
  {
   "cell_type": "code",
   "execution_count": 12,
   "id": "32e23525",
   "metadata": {},
   "outputs": [
    {
     "data": {
      "text/plain": [
       "'Hello'"
      ]
     },
     "execution_count": 12,
     "metadata": {},
     "output_type": "execute_result"
    }
   ],
   "source": [
    "\"Hello \".rstrip()"
   ]
  },
  {
   "cell_type": "markdown",
   "id": "989840f6",
   "metadata": {},
   "source": [
    "# 33.Use .format() to insert \"Alice\" into \"Hello, {}!\"?"
   ]
  },
  {
   "cell_type": "code",
   "execution_count": 13,
   "id": "4dd6c51c",
   "metadata": {},
   "outputs": [
    {
     "data": {
      "text/plain": [
       "'Hello, Alice!'"
      ]
     },
     "execution_count": 13,
     "metadata": {},
     "output_type": "execute_result"
    }
   ],
   "source": [
    "\"Hello, {}!\".format(\"Alice\")"
   ]
  },
  {
   "cell_type": "markdown",
   "id": "fc6da229",
   "metadata": {},
   "source": [
    "# 34.What is \"{} scored {} marks\".format(\"John\", 95)?\n"
   ]
  },
  {
   "cell_type": "code",
   "execution_count": 17,
   "id": "2ae1fd7a",
   "metadata": {},
   "outputs": [
    {
     "data": {
      "text/plain": [
       "'John scored 95 marks'"
      ]
     },
     "execution_count": 17,
     "metadata": {},
     "output_type": "execute_result"
    }
   ],
   "source": [
    "\"{} scored {} marks\".format(\"John\",95)"
   ]
  },
  {
   "cell_type": "markdown",
   "id": "8873a074",
   "metadata": {},
   "source": [
    "# 35.Fill in two blanks in \"{} is {} years old\" with \"Bob\" and 30?"
   ]
  },
  {
   "cell_type": "code",
   "execution_count": 15,
   "id": "ede701d9",
   "metadata": {},
   "outputs": [
    {
     "data": {
      "text/plain": [
       "'Bob is 30 years old'"
      ]
     },
     "execution_count": 15,
     "metadata": {},
     "output_type": "execute_result"
    }
   ],
   "source": [
    "\"{} is {} years old\".format(\"Bob\",30)"
   ]
  },
  {
   "cell_type": "markdown",
   "id": "90fd89d3",
   "metadata": {},
   "source": [
    "# 36.Can you use numbers with placeholders? Try \"{}+{}={}\".format(2, 3, 5).\n"
   ]
  },
  {
   "cell_type": "code",
   "execution_count": 1,
   "id": "408a2c0e",
   "metadata": {},
   "outputs": [
    {
     "data": {
      "text/plain": [
       "'2+3=5'"
      ]
     },
     "execution_count": 1,
     "metadata": {},
     "output_type": "execute_result"
    }
   ],
   "source": [
    "\"{}+{}={}\".format(2,3,5)"
   ]
  },
  {
   "cell_type": "markdown",
   "id": "cc296f40",
   "metadata": {},
   "source": [
    "# 37.What does \"apple,banana,grape\".split(\",\") return?"
   ]
  },
  {
   "cell_type": "code",
   "execution_count": 2,
   "id": "a0401212",
   "metadata": {},
   "outputs": [
    {
     "data": {
      "text/plain": [
       "['apple', 'banana', 'grapes']"
      ]
     },
     "execution_count": 2,
     "metadata": {},
     "output_type": "execute_result"
    }
   ],
   "source": [
    "\"apple,banana,grapes\".split(\",\")"
   ]
  },
  {
   "cell_type": "markdown",
   "id": "04a4212b",
   "metadata": {},
   "source": [
    "# 38.How many parts do you get from \"one two three\".split()?"
   ]
  },
  {
   "cell_type": "code",
   "execution_count": 5,
   "id": "0ef9a3c6",
   "metadata": {},
   "outputs": [
    {
     "name": "stdout",
     "output_type": "stream",
     "text": [
      "3\n"
     ]
    }
   ],
   "source": [
    "x = \"one two three\".split()\n",
    "print(len(x))\n"
   ]
  },
  {
   "cell_type": "markdown",
   "id": "afc76bdc",
   "metadata": {},
   "source": [
    "# 39.Use split(\"-\") on \"2025-05-16\". What do you get?"
   ]
  },
  {
   "cell_type": "code",
   "execution_count": 6,
   "id": "fba1350d",
   "metadata": {},
   "outputs": [
    {
     "data": {
      "text/plain": [
       "['2025', '05', '16']"
      ]
     },
     "execution_count": 6,
     "metadata": {},
     "output_type": "execute_result"
    }
   ],
   "source": [
    "\"2025-05-16\".split(\"-\")"
   ]
  },
  {
   "cell_type": "markdown",
   "id": "eabe6cdb",
   "metadata": {},
   "source": [
    "# 40.Can you split \"hello\" using a space as a separator?"
   ]
  },
  {
   "cell_type": "code",
   "execution_count": 7,
   "id": "4ee733d7",
   "metadata": {},
   "outputs": [
    {
     "data": {
      "text/plain": [
       "['hello']"
      ]
     },
     "execution_count": 7,
     "metadata": {},
     "output_type": "execute_result"
    }
   ],
   "source": [
    "\"hello\".split(\" \")"
   ]
  },
  {
   "cell_type": "markdown",
   "id": "d75472d1",
   "metadata": {},
   "source": [
    "# 41.Take \" python \" and return \"PYTHON\" with whitespace removed."
   ]
  },
  {
   "cell_type": "code",
   "execution_count": 9,
   "id": "c256f2d5",
   "metadata": {},
   "outputs": [
    {
     "name": "stdout",
     "output_type": "stream",
     "text": [
      "python\n"
     ]
    },
    {
     "data": {
      "text/plain": [
       "'PYTHON'"
      ]
     },
     "execution_count": 9,
     "metadata": {},
     "output_type": "execute_result"
    }
   ],
   "source": [
    "x = \" python \"\n",
    "y = x.strip()\n",
    "print(y)\n",
    "y.upper()"
   ]
  },
  {
   "cell_type": "markdown",
   "id": "29718013",
   "metadata": {},
   "source": [
    "# 42.Format and print \"Score: 100\" using .format()"
   ]
  },
  {
   "cell_type": "code",
   "execution_count": 11,
   "id": "ef69c733",
   "metadata": {},
   "outputs": [
    {
     "data": {
      "text/plain": [
       "'score:100'"
      ]
     },
     "execution_count": 11,
     "metadata": {},
     "output_type": "execute_result"
    }
   ],
   "source": [
    "\"score:{}\".format(100)"
   ]
  },
  {
   "cell_type": "markdown",
   "id": "cb86e898",
   "metadata": {},
   "source": [
    "# 43.Convert \"python is fun\" to \"Python Is Fun\" using any method."
   ]
  },
  {
   "cell_type": "code",
   "execution_count": 12,
   "id": "886d0580",
   "metadata": {},
   "outputs": [
    {
     "data": {
      "text/plain": [
       "'Python Is Fun'"
      ]
     },
     "execution_count": 12,
     "metadata": {},
     "output_type": "execute_result"
    }
   ],
   "source": [
    "\"python is fun\".title()"
   ]
  },
  {
   "cell_type": "markdown",
   "id": "f4eca806",
   "metadata": {},
   "source": [
    "# 44.Replace all 'l' in \"hello world\" with '*'"
   ]
  },
  {
   "cell_type": "code",
   "execution_count": 13,
   "id": "c7cdf8db",
   "metadata": {},
   "outputs": [
    {
     "data": {
      "text/plain": [
       "'he**o wor*d'"
      ]
     },
     "execution_count": 13,
     "metadata": {},
     "output_type": "execute_result"
    }
   ],
   "source": [
    "\"hello world\".replace(\"l\",\"*\")"
   ]
  },
  {
   "cell_type": "markdown",
   "id": "4e01fc1a",
   "metadata": {},
   "source": [
    "# 45.How do you get just the word \"World\" from \"Hello World\"?"
   ]
  },
  {
   "cell_type": "code",
   "execution_count": 16,
   "id": "088b240c",
   "metadata": {},
   "outputs": [
    {
     "name": "stdout",
     "output_type": "stream",
     "text": [
      "World\n"
     ]
    }
   ],
   "source": [
    "x = \"Hello World\"\n",
    "print(x[6:])"
   ]
  },
  {
   "cell_type": "code",
   "execution_count": null,
   "id": "ceabf1bf",
   "metadata": {},
   "outputs": [],
   "source": []
  }
 ],
 "metadata": {
  "kernelspec": {
   "display_name": "Python 3 (ipykernel)",
   "language": "python",
   "name": "python3"
  },
  "language_info": {
   "codemirror_mode": {
    "name": "ipython",
    "version": 3
   },
   "file_extension": ".py",
   "mimetype": "text/x-python",
   "name": "python",
   "nbconvert_exporter": "python",
   "pygments_lexer": "ipython3",
   "version": "3.9.13"
  }
 },
 "nbformat": 4,
 "nbformat_minor": 5
}
