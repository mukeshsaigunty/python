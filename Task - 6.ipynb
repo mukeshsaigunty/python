{
 "cells": [
  {
   "cell_type": "markdown",
   "id": "c85bc3ab",
   "metadata": {},
   "source": [
    "# 1.Create a set of 5 fruits and print it."
   ]
  },
  {
   "cell_type": "code",
   "execution_count": 4,
   "id": "2c7b1357",
   "metadata": {},
   "outputs": [
    {
     "data": {
      "text/plain": [
       "{'Apple', 'Banana', 'Grapes', 'Mango', 'Orange'}"
      ]
     },
     "execution_count": 4,
     "metadata": {},
     "output_type": "execute_result"
    }
   ],
   "source": [
    "s = set({\"Apple\",\"Banana\",\"Mango\",\"Orange\",\"Grapes\"})\n",
    "s"
   ]
  },
  {
   "cell_type": "code",
   "execution_count": 3,
   "id": "10869838",
   "metadata": {},
   "outputs": [
    {
     "name": "stdout",
     "output_type": "stream",
     "text": [
      "<class 'set'>\n"
     ]
    }
   ],
   "source": [
    "print(type(s))"
   ]
  },
  {
   "cell_type": "markdown",
   "id": "e0447a93",
   "metadata": {},
   "source": [
    "# 2.Add \"mango\" to a set s = {'apple', 'banana'}."
   ]
  },
  {
   "cell_type": "code",
   "execution_count": 6,
   "id": "42112124",
   "metadata": {},
   "outputs": [
    {
     "data": {
      "text/plain": [
       "{'apple', 'banana', 'mango'}"
      ]
     },
     "execution_count": 6,
     "metadata": {},
     "output_type": "execute_result"
    }
   ],
   "source": [
    "s = {\"apple\",\"banana\"}\n",
    "s.add(\"mango\")\n",
    "s"
   ]
  },
  {
   "cell_type": "markdown",
   "id": "3c207596",
   "metadata": {},
   "source": [
    "# 3.Try adding 'apple' again to the above set. What happens?"
   ]
  },
  {
   "cell_type": "code",
   "execution_count": 7,
   "id": "bdb48111",
   "metadata": {},
   "outputs": [
    {
     "data": {
      "text/plain": [
       "{'apple', 'banana'}"
      ]
     },
     "execution_count": 7,
     "metadata": {},
     "output_type": "execute_result"
    }
   ],
   "source": [
    "s = {\"apple\",\"banana\"}\n",
    "s.add(\"apple\")\n",
    "s"
   ]
  },
  {
   "cell_type": "markdown",
   "id": "a7fb2d6f",
   "metadata": {},
   "source": [
    "# 4.Remove 'banana' using remove() and discard() – what’s the difference?"
   ]
  },
  {
   "cell_type": "code",
   "execution_count": 8,
   "id": "215f0432",
   "metadata": {},
   "outputs": [
    {
     "data": {
      "text/plain": [
       "{'apple', 'mango'}"
      ]
     },
     "execution_count": 8,
     "metadata": {},
     "output_type": "execute_result"
    }
   ],
   "source": [
    "s = {'apple', 'banana', 'mango'}\n",
    "s.remove(\"banana\") # in this banana is not there then it show error \n",
    "s"
   ]
  },
  {
   "cell_type": "code",
   "execution_count": 9,
   "id": "203cc022",
   "metadata": {},
   "outputs": [
    {
     "data": {
      "text/plain": [
       "{'apple', 'mango'}"
      ]
     },
     "execution_count": 9,
     "metadata": {},
     "output_type": "execute_result"
    }
   ],
   "source": [
    "s.discard(\"banana\") # where discard does not show error\n",
    "s"
   ]
  },
  {
   "cell_type": "markdown",
   "id": "feb17db1",
   "metadata": {},
   "source": [
    "# 5.Check if 'apple' exists in the set."
   ]
  },
  {
   "cell_type": "code",
   "execution_count": 10,
   "id": "0da1da21",
   "metadata": {},
   "outputs": [
    {
     "data": {
      "text/plain": [
       "True"
      ]
     },
     "execution_count": 10,
     "metadata": {},
     "output_type": "execute_result"
    }
   ],
   "source": [
    "s = {'apple', 'banana', 'mango'}\n",
    "\"apple\" in s"
   ]
  },
  {
   "cell_type": "markdown",
   "id": "f543317d",
   "metadata": {},
   "source": [
    "# 6.Create two sets and perform:\n",
    "- Union\n",
    "- Intersection\n",
    "- Difference\n"
   ]
  },
  {
   "cell_type": "code",
   "execution_count": 12,
   "id": "bb51e598",
   "metadata": {},
   "outputs": [
    {
     "data": {
      "text/plain": [
       "{1, 2, 3, 4, 5, 6, 7, 8, 9}"
      ]
     },
     "execution_count": 12,
     "metadata": {},
     "output_type": "execute_result"
    }
   ],
   "source": [
    "s = {1,2,3,4,5}\n",
    "s1 = {1,2,3,6,7,8,9}\n",
    "s.union(s1)"
   ]
  },
  {
   "cell_type": "code",
   "execution_count": 13,
   "id": "348914ec",
   "metadata": {},
   "outputs": [
    {
     "data": {
      "text/plain": [
       "{1, 2, 3}"
      ]
     },
     "execution_count": 13,
     "metadata": {},
     "output_type": "execute_result"
    }
   ],
   "source": [
    "s.intersection(s1)"
   ]
  },
  {
   "cell_type": "code",
   "execution_count": 14,
   "id": "ec97fb08",
   "metadata": {},
   "outputs": [
    {
     "data": {
      "text/plain": [
       "{6, 7, 8, 9}"
      ]
     },
     "execution_count": 14,
     "metadata": {},
     "output_type": "execute_result"
    }
   ],
   "source": [
    "s1.difference(s)"
   ]
  },
  {
   "cell_type": "markdown",
   "id": "0987e67b",
   "metadata": {},
   "source": [
    "# 7.Clear all elements from a set."
   ]
  },
  {
   "cell_type": "code",
   "execution_count": 16,
   "id": "fd24b9b8",
   "metadata": {},
   "outputs": [
    {
     "data": {
      "text/plain": [
       "set()"
      ]
     },
     "execution_count": 16,
     "metadata": {},
     "output_type": "execute_result"
    }
   ],
   "source": [
    "s = {1,2,3,4,5}\n",
    "s.clear()\n",
    "s"
   ]
  },
  {
   "cell_type": "markdown",
   "id": "cb03945d",
   "metadata": {},
   "source": [
    "# 8.Use a loop to print all items in a set."
   ]
  },
  {
   "cell_type": "code",
   "execution_count": 18,
   "id": "ac4edb2d",
   "metadata": {},
   "outputs": [
    {
     "name": "stdout",
     "output_type": "stream",
     "text": [
      "1\n",
      "2\n",
      "3\n",
      "4\n",
      "5\n"
     ]
    }
   ],
   "source": [
    "s = {1,2,3,4,5}\n",
    "for i in s:\n",
    "    print(i)"
   ]
  },
  {
   "cell_type": "markdown",
   "id": "bf5203dd",
   "metadata": {},
   "source": [
    "# 9.Convert a list with duplicates to a set to remove duplicates."
   ]
  },
  {
   "cell_type": "code",
   "execution_count": 19,
   "id": "69a85779",
   "metadata": {},
   "outputs": [
    {
     "name": "stdout",
     "output_type": "stream",
     "text": [
      "{1, 2, 3, 4}\n"
     ]
    }
   ],
   "source": [
    "lst = [1,2,2,2,3,3,4,4,4]\n",
    "print(set(lst))"
   ]
  },
  {
   "cell_type": "markdown",
   "id": "15c0cb68",
   "metadata": {},
   "source": [
    "# 10.Find the length of the set."
   ]
  },
  {
   "cell_type": "code",
   "execution_count": 20,
   "id": "80ad3bd4",
   "metadata": {},
   "outputs": [
    {
     "name": "stdout",
     "output_type": "stream",
     "text": [
      "5\n"
     ]
    }
   ],
   "source": [
    "s = {1,2,3,4,5}\n",
    "print(len(s))"
   ]
  },
  {
   "cell_type": "code",
   "execution_count": null,
   "id": "8491f40f",
   "metadata": {},
   "outputs": [],
   "source": []
  }
 ],
 "metadata": {
  "kernelspec": {
   "display_name": "Python 3 (ipykernel)",
   "language": "python",
   "name": "python3"
  },
  "language_info": {
   "codemirror_mode": {
    "name": "ipython",
    "version": 3
   },
   "file_extension": ".py",
   "mimetype": "text/x-python",
   "name": "python",
   "nbconvert_exporter": "python",
   "pygments_lexer": "ipython3",
   "version": "3.9.13"
  }
 },
 "nbformat": 4,
 "nbformat_minor": 5
}
