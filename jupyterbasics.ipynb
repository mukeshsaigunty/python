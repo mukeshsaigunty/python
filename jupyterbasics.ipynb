{
 "cells": [
  {
   "cell_type": "markdown",
   "id": "3610f418",
   "metadata": {},
   "source": [
    "# keywords"
   ]
  },
  {
   "cell_type": "markdown",
   "id": "b15514d5",
   "metadata": {},
   "source": [
    "- are reserved words in python"
   ]
  },
  {
   "cell_type": "code",
   "execution_count": 2,
   "id": "f40207c1",
   "metadata": {},
   "outputs": [
    {
     "name": "stdout",
     "output_type": "stream",
     "text": [
      "['False', 'None', 'True', '__peg_parser__', 'and', 'as', 'assert', 'async', 'await', 'break', 'class', 'continue', 'def', 'del', 'elif', 'else', 'except', 'finally', 'for', 'from', 'global', 'if', 'import', 'in', 'is', 'lambda', 'nonlocal', 'not', 'or', 'pass', 'raise', 'return', 'try', 'while', 'with', 'yield']\n"
     ]
    }
   ],
   "source": [
    "import keyword\n",
    "print(keyword.kwlist)"
   ]
  },
  {
   "cell_type": "code",
   "execution_count": 3,
   "id": "27ed3d66",
   "metadata": {},
   "outputs": [
    {
     "data": {
      "text/plain": [
       "36"
      ]
     },
     "execution_count": 3,
     "metadata": {},
     "output_type": "execute_result"
    }
   ],
   "source": [
    "# length\n",
    "len(keyword.kwlist)"
   ]
  },
  {
   "cell_type": "markdown",
   "id": "4771c930",
   "metadata": {},
   "source": [
    "# variables"
   ]
  },
  {
   "cell_type": "markdown",
   "id": "4f65944a",
   "metadata": {},
   "source": [
    "- are used to store values\n",
    "- place holders\n",
    "- syntax x=5\n",
    "- rule1- we can alphabets(A-Z)/(a-z) or combination of capital & small letter as variables name\n",
    "- rule2-never start variable name with number and don't take only number as a variable name\n",
    "- rule3-no special characters as a variable name except underscore(_)\n",
    "- rule4-Spaces between rhe variable name is not allowed\n",
    "- rule5-never use keyword as variable names\n",
    "- rule6-python is case-sensitive"
   ]
  },
  {
   "cell_type": "code",
   "execution_count": 5,
   "id": "5d79c413",
   "metadata": {},
   "outputs": [
    {
     "name": "stdout",
     "output_type": "stream",
     "text": [
      "5\n"
     ]
    }
   ],
   "source": [
    "x=5\n",
    "print(x)"
   ]
  },
  {
   "cell_type": "markdown",
   "id": "1bea29ce",
   "metadata": {},
   "source": [
    "# variable of two types\n",
    "- identity of variable\n",
    "- type of variable"
   ]
  },
  {
   "cell_type": "code",
   "execution_count": 11,
   "id": "663e69f2",
   "metadata": {},
   "outputs": [],
   "source": [
    "#identity of variable - address/memory location of variable -id() is used to know the address of the variable\n",
    "x=5\n",
    "z=5"
   ]
  },
  {
   "cell_type": "code",
   "execution_count": 10,
   "id": "f8516e8c",
   "metadata": {},
   "outputs": [
    {
     "name": "stdout",
     "output_type": "stream",
     "text": [
      "1428597205424\n",
      "1428597205424\n"
     ]
    }
   ],
   "source": [
    "print(id(x))\n",
    "print(id(z))"
   ]
  },
  {
   "cell_type": "code",
   "execution_count": 12,
   "id": "8c4e459a",
   "metadata": {},
   "outputs": [
    {
     "name": "stdout",
     "output_type": "stream",
     "text": [
      "<class 'int'>\n"
     ]
    }
   ],
   "source": [
    "#type of variable -  the type of a variable refers to the kind of data it holds. Here's a list of common data types \n",
    "print(type(x))\n"
   ]
  },
  {
   "cell_type": "markdown",
   "id": "fac23641",
   "metadata": {},
   "source": [
    "# Data types\n",
    "- in Python, a data type defines the kind of value a variable can hold and what operations can be performed on that value. Python has several built-in data types, which can be grouped into different categories\n",
    "# standard data types\n",
    "- numbers(int,float,complex)\n",
    "- strings\n",
    "- list\n",
    "- tuple\n",
    "- disctonary\n",
    "- set\n",
    "# derived data types\n",
    "- frozen set\n",
    "- byte\n",
    "- byte array\n",
    "- boolean\n",
    "# NOTE:\n",
    "- numbers and string are fundamental data types\n",
    "- list,tuple and dictionary are advanced data types\n",
    "- strings,list and tuple are sequential data types\n",
    "- dictionary is mapping data type\n",
    "- set is unordered data type\n"
   ]
  },
  {
   "cell_type": "markdown",
   "id": "3b3030ba",
   "metadata": {},
   "source": [
    "# numbers"
   ]
  },
  {
   "cell_type": "markdown",
   "id": "f0f8dc52",
   "metadata": {},
   "source": [
    "# integers"
   ]
  },
  {
   "cell_type": "code",
   "execution_count": 6,
   "id": "d7fedc14",
   "metadata": {},
   "outputs": [
    {
     "name": "stdout",
     "output_type": "stream",
     "text": [
      "<class 'int'>\n"
     ]
    }
   ],
   "source": [
    "x=6\n",
    "print(type(x))"
   ]
  },
  {
   "cell_type": "code",
   "execution_count": 7,
   "id": "130a0a30",
   "metadata": {},
   "outputs": [
    {
     "name": "stdout",
     "output_type": "stream",
     "text": [
      "<class 'int'>\n"
     ]
    }
   ],
   "source": [
    "x=-6\n",
    "print(type(x))"
   ]
  },
  {
   "cell_type": "markdown",
   "id": "5bf9787a",
   "metadata": {},
   "source": [
    "# float"
   ]
  },
  {
   "cell_type": "code",
   "execution_count": 8,
   "id": "8c876a78",
   "metadata": {},
   "outputs": [
    {
     "name": "stdout",
     "output_type": "stream",
     "text": [
      "<class 'float'>\n"
     ]
    }
   ],
   "source": [
    "x=6.4\n",
    "print(type(x))"
   ]
  },
  {
   "cell_type": "code",
   "execution_count": 9,
   "id": "a8f84af1",
   "metadata": {},
   "outputs": [
    {
     "name": "stdout",
     "output_type": "stream",
     "text": [
      "<class 'float'>\n"
     ]
    }
   ],
   "source": [
    "x=-6.4\n",
    "print(type(x))"
   ]
  },
  {
   "cell_type": "code",
   "execution_count": 2,
   "id": "0ed32c2c",
   "metadata": {},
   "outputs": [
    {
     "name": "stdout",
     "output_type": "stream",
     "text": [
      "<class 'float'>\n"
     ]
    }
   ],
   "source": [
    "x=1e3\n",
    "print(type(x))"
   ]
  },
  {
   "cell_type": "code",
   "execution_count": 3,
   "id": "caeaf505",
   "metadata": {},
   "outputs": [
    {
     "name": "stdout",
     "output_type": "stream",
     "text": [
      "-2.96e-06\n"
     ]
    }
   ],
   "source": [
    "x=-2.96*10**-6\n",
    "print(x)"
   ]
  },
  {
   "cell_type": "markdown",
   "id": "6b6a013d",
   "metadata": {},
   "source": [
    "# complex"
   ]
  },
  {
   "cell_type": "code",
   "execution_count": 10,
   "id": "285dea4e",
   "metadata": {},
   "outputs": [
    {
     "name": "stdout",
     "output_type": "stream",
     "text": [
      "<class 'complex'>\n"
     ]
    }
   ],
   "source": [
    "x=6+5j\n",
    "print(type(x))"
   ]
  },
  {
   "cell_type": "code",
   "execution_count": 12,
   "id": "6c51d872",
   "metadata": {},
   "outputs": [
    {
     "name": "stdout",
     "output_type": "stream",
     "text": [
      "<class 'complex'>\n"
     ]
    }
   ],
   "source": [
    "x=6-5j\n",
    "print(type(x))"
   ]
  },
  {
   "cell_type": "code",
   "execution_count": 13,
   "id": "942bc074",
   "metadata": {},
   "outputs": [
    {
     "name": "stdout",
     "output_type": "stream",
     "text": [
      "<class 'complex'>\n"
     ]
    }
   ],
   "source": [
    "x=-6+5j\n",
    "print(type(x))"
   ]
  },
  {
   "cell_type": "code",
   "execution_count": 14,
   "id": "fd14226f",
   "metadata": {},
   "outputs": [
    {
     "name": "stdout",
     "output_type": "stream",
     "text": [
      "<class 'complex'>\n"
     ]
    }
   ],
   "source": [
    "x=0-5j\n",
    "print(type(x))"
   ]
  },
  {
   "cell_type": "markdown",
   "id": "3400fc3f",
   "metadata": {},
   "source": [
    "# type casting\n",
    "- Type casting means converting one data type into another. Python allows explicit and implicit type casting.\n",
    "- 1) auto type casting\n",
    "- 2) forced type casting"
   ]
  },
  {
   "cell_type": "markdown",
   "id": "fe0d91d7",
   "metadata": {},
   "source": [
    "# auto type casting\n",
    "\n"
   ]
  },
  {
   "cell_type": "code",
   "execution_count": 15,
   "id": "bd02fbea",
   "metadata": {},
   "outputs": [
    {
     "name": "stdout",
     "output_type": "stream",
     "text": [
      "<class 'float'>\n"
     ]
    }
   ],
   "source": [
    "x=5+3.6+True\n",
    "print(type(x))"
   ]
  },
  {
   "cell_type": "markdown",
   "id": "6a75f236",
   "metadata": {},
   "source": [
    "# forced type casting"
   ]
  },
  {
   "cell_type": "code",
   "execution_count": 18,
   "id": "036b81c8",
   "metadata": {},
   "outputs": [
    {
     "name": "stdout",
     "output_type": "stream",
     "text": [
      "5\n",
      "<class 'int'>\n"
     ]
    },
    {
     "data": {
      "text/plain": [
       "5.0"
      ]
     },
     "execution_count": 18,
     "metadata": {},
     "output_type": "execute_result"
    }
   ],
   "source": [
    "x=5\n",
    "print(x)\n",
    "print(type(x))\n",
    "float(x)"
   ]
  },
  {
   "cell_type": "code",
   "execution_count": 19,
   "id": "3ec6e86e",
   "metadata": {},
   "outputs": [
    {
     "data": {
      "text/plain": [
       "(5+0j)"
      ]
     },
     "execution_count": 19,
     "metadata": {},
     "output_type": "execute_result"
    }
   ],
   "source": [
    "x=5\n",
    "complex(x)"
   ]
  },
  {
   "cell_type": "code",
   "execution_count": 20,
   "id": "61486dfe",
   "metadata": {},
   "outputs": [
    {
     "data": {
      "text/plain": [
       "5"
      ]
     },
     "execution_count": 20,
     "metadata": {},
     "output_type": "execute_result"
    }
   ],
   "source": [
    "x=5.0\n",
    "int(x)"
   ]
  },
  {
   "cell_type": "code",
   "execution_count": 23,
   "id": "a746703b",
   "metadata": {},
   "outputs": [
    {
     "name": "stdout",
     "output_type": "stream",
     "text": [
      "(5.6+0j)\n"
     ]
    }
   ],
   "source": [
    "x=5.6\n",
    "b=complex(x)\n",
    "print(b)\n"
   ]
  },
  {
   "cell_type": "code",
   "execution_count": 25,
   "id": "a01a4dac",
   "metadata": {},
   "outputs": [
    {
     "ename": "TypeError",
     "evalue": "can't convert complex to int",
     "output_type": "error",
     "traceback": [
      "\u001b[1;31m---------------------------------------------------------------------------\u001b[0m",
      "\u001b[1;31mTypeError\u001b[0m                                 Traceback (most recent call last)",
      "\u001b[1;32m~\\AppData\\Local\\Temp\\ipykernel_20456\\2901687370.py\u001b[0m in \u001b[0;36m<module>\u001b[1;34m\u001b[0m\n\u001b[0;32m      1\u001b[0m \u001b[0mx\u001b[0m\u001b[1;33m=\u001b[0m\u001b[1;36m5\u001b[0m\u001b[1;33m+\u001b[0m\u001b[1;36m6j\u001b[0m\u001b[1;33m\u001b[0m\u001b[1;33m\u001b[0m\u001b[0m\n\u001b[1;32m----> 2\u001b[1;33m \u001b[0mint\u001b[0m\u001b[1;33m(\u001b[0m\u001b[0mx\u001b[0m\u001b[1;33m)\u001b[0m\u001b[1;33m\u001b[0m\u001b[1;33m\u001b[0m\u001b[0m\n\u001b[0m",
      "\u001b[1;31mTypeError\u001b[0m: can't convert complex to int"
     ]
    }
   ],
   "source": [
    "x=5+6j\n",
    "int(x)"
   ]
  },
  {
   "cell_type": "markdown",
   "id": "917e82b0",
   "metadata": {},
   "source": [
    "# operators\n",
    "-In Python, operators are special symbols or keywords used to perform operations on variables and values. Here’s a breakdown of the main types of operators in Python:\n",
    "- Sure! Here's just the **names** of the Python operator types:\n",
    "\n",
    "* Arithmetic Operators\n",
    "* Comparison Operators\n",
    "* Logical Operators\n",
    "* Assignment Operators\n",
    "* Bitwise Operators\n",
    "* Membership Operators\n",
    "* Identity Operators\n"
   ]
  },
  {
   "cell_type": "markdown",
   "id": "9c22d8b8",
   "metadata": {},
   "source": [
    "# Arithmetic Operators\n",
    "- Addition: a + b\n",
    "\n",
    "- Subtraction: a - b\n",
    "\n",
    "- Multiplication: a * b\n",
    "\n",
    "- Division: a / b\n",
    "\n",
    "- Floor Division: a // b\n",
    "\n",
    "- Modulus (remainder): a % b\n",
    "\n",
    "- Exponentiation: a ** b\n",
    "\n"
   ]
  },
  {
   "cell_type": "code",
   "execution_count": 30,
   "id": "04b90242",
   "metadata": {},
   "outputs": [
    {
     "name": "stdout",
     "output_type": "stream",
     "text": [
      "11 -1 10 1.0 10 1 64\n"
     ]
    }
   ],
   "source": [
    "a=5+6\n",
    "b=5-6\n",
    "c=5*2\n",
    "d=5/5\n",
    "e=100//10\n",
    "g=100%9\n",
    "h=4**3\n",
    "print(a,b,c,d,e,g,h)\n"
   ]
  },
  {
   "cell_type": "markdown",
   "id": "80d7b161",
   "metadata": {},
   "source": [
    "# Comparison Operators\n",
    "- Equal to: a == b\n",
    "\n",
    "- Not equal to: a != b\n",
    "\n",
    "- Greater than: a > b\n",
    "\n",
    "- Less than: a < b\n",
    "\n",
    "- Greater than or equal to: a >= b\n",
    "\n",
    "- Less than or equal to: a <= b"
   ]
  },
  {
   "cell_type": "code",
   "execution_count": 33,
   "id": "49c764fd",
   "metadata": {},
   "outputs": [
    {
     "name": "stdout",
     "output_type": "stream",
     "text": [
      "True\n",
      "False\n",
      "True\n",
      "False\n",
      "True\n",
      "False\n"
     ]
    }
   ],
   "source": [
    "a = 6\n",
    "b = 5\n",
    "print(a>b)\n",
    "print(a<b)\n",
    "print(a>=b)\n",
    "print(a<=b)\n",
    "print(a!=b)\n",
    "print(a==b)"
   ]
  },
  {
   "cell_type": "markdown",
   "id": "a1fd1b58",
   "metadata": {},
   "source": [
    "# comments\n",
    "- write the comments with \"#\".\n",
    "- 1)single line comments(\"#\")\n",
    "- 2)multiple comments(''''''')\n"
   ]
  },
  {
   "cell_type": "markdown",
   "id": "c0c916b1",
   "metadata": {},
   "source": [
    "# Assigment operators\n",
    "- The assignment operator in programming is used to assign a value to a variable. The most common assignment operator is the equal sign (=).\n",
    "\n"
   ]
  },
  {
   "cell_type": "code",
   "execution_count": 6,
   "id": "cd87602c",
   "metadata": {},
   "outputs": [
    {
     "name": "stdout",
     "output_type": "stream",
     "text": [
      "17\n"
     ]
    }
   ],
   "source": [
    "#addition\n",
    "a = 5\n",
    "b = 7\n",
    "c = a + b\n",
    "c += a\n",
    "print(c)"
   ]
  },
  {
   "cell_type": "code",
   "execution_count": 7,
   "id": "de144006",
   "metadata": {},
   "outputs": [
    {
     "name": "stdout",
     "output_type": "stream",
     "text": [
      "12\n"
     ]
    }
   ],
   "source": [
    "#subtraction\n",
    "c -= a\n",
    "print(c)"
   ]
  },
  {
   "cell_type": "code",
   "execution_count": 8,
   "id": "613218a3",
   "metadata": {},
   "outputs": [
    {
     "name": "stdout",
     "output_type": "stream",
     "text": [
      "60\n"
     ]
    }
   ],
   "source": [
    "# multiplication\n",
    "c *= a\n",
    "print(c)"
   ]
  },
  {
   "cell_type": "code",
   "execution_count": 9,
   "id": "2818b0ad",
   "metadata": {},
   "outputs": [
    {
     "name": "stdout",
     "output_type": "stream",
     "text": [
      "12.0\n"
     ]
    }
   ],
   "source": [
    "#div\n",
    "c /= a\n",
    "print(c)"
   ]
  },
  {
   "cell_type": "code",
   "execution_count": 10,
   "id": "4d809842",
   "metadata": {},
   "outputs": [
    {
     "name": "stdout",
     "output_type": "stream",
     "text": [
      "2.0\n"
     ]
    }
   ],
   "source": [
    "#fd\n",
    "c //= a\n",
    "print(c)"
   ]
  },
  {
   "cell_type": "markdown",
   "id": "d6471294",
   "metadata": {},
   "source": [
    "# logical operators\n",
    "- Logical operators are symbols or words used to combine or modify boolean (True/False) values. They evaluate expressions and return a boolean result (True or False) based on the logic of the operands.\n",
    "## and\n",
    "## or\n",
    "## not\n",
    "\n"
   ]
  },
  {
   "cell_type": "markdown",
   "id": "178b3f63",
   "metadata": {},
   "source": [
    "# logical and"
   ]
  },
  {
   "cell_type": "code",
   "execution_count": 11,
   "id": "700398f0",
   "metadata": {},
   "outputs": [
    {
     "name": "stdout",
     "output_type": "stream",
     "text": [
      "False\n"
     ]
    }
   ],
   "source": [
    "a = True\n",
    "b = False\n",
    "print(a and b)"
   ]
  },
  {
   "cell_type": "code",
   "execution_count": 12,
   "id": "72f8ab4b",
   "metadata": {},
   "outputs": [
    {
     "name": "stdout",
     "output_type": "stream",
     "text": [
      "True\n"
     ]
    }
   ],
   "source": [
    "a = True\n",
    "b = True\n",
    "print(a and b)"
   ]
  },
  {
   "cell_type": "code",
   "execution_count": 14,
   "id": "568d3316",
   "metadata": {},
   "outputs": [
    {
     "name": "stdout",
     "output_type": "stream",
     "text": [
      "False\n",
      "True\n"
     ]
    }
   ],
   "source": [
    "a = 3\n",
    "b = 2\n",
    "print(a>b and a<b)\n",
    "print(a>b and a!=b)"
   ]
  },
  {
   "cell_type": "code",
   "execution_count": 17,
   "id": "52dfdfaf",
   "metadata": {},
   "outputs": [
    {
     "name": "stdout",
     "output_type": "stream",
     "text": [
      "5\n"
     ]
    }
   ],
   "source": [
    "# if left side value is non-zero it prints right side value \n",
    "a = 3\n",
    "b = 5\n",
    "print(a and b)"
   ]
  },
  {
   "cell_type": "code",
   "execution_count": 5,
   "id": "23f95c0b",
   "metadata": {},
   "outputs": [
    {
     "name": "stdout",
     "output_type": "stream",
     "text": [
      "0\n"
     ]
    }
   ],
   "source": [
    "# if left side value is zero-it print left values\n",
    "a = 0\n",
    "b = 3\n",
    "print(a and b)"
   ]
  },
  {
   "cell_type": "markdown",
   "id": "407e339e",
   "metadata": {},
   "source": [
    "# logical or"
   ]
  },
  {
   "cell_type": "code",
   "execution_count": 19,
   "id": "f5517ad3",
   "metadata": {},
   "outputs": [
    {
     "name": "stdout",
     "output_type": "stream",
     "text": [
      "True\n"
     ]
    }
   ],
   "source": [
    "a = True\n",
    "b = False\n",
    "print(a or b)"
   ]
  },
  {
   "cell_type": "code",
   "execution_count": 20,
   "id": "b6bf1abf",
   "metadata": {},
   "outputs": [
    {
     "name": "stdout",
     "output_type": "stream",
     "text": [
      "True\n"
     ]
    }
   ],
   "source": [
    "a = 3\n",
    "b = 2\n",
    "print(a>b or a<b)"
   ]
  },
  {
   "cell_type": "code",
   "execution_count": 21,
   "id": "34bf66aa",
   "metadata": {},
   "outputs": [
    {
     "name": "stdout",
     "output_type": "stream",
     "text": [
      "3\n"
     ]
    }
   ],
   "source": [
    "# left value non-zero print left value\n",
    "a = 3\n",
    "b = 2\n",
    "print(a or b)"
   ]
  },
  {
   "cell_type": "code",
   "execution_count": 8,
   "id": "e076f9ab",
   "metadata": {},
   "outputs": [
    {
     "name": "stdout",
     "output_type": "stream",
     "text": [
      "4\n"
     ]
    }
   ],
   "source": [
    "# left value-zero it prints left value\n",
    "a = 4\n",
    "b = 2\n",
    "print(a or b)"
   ]
  },
  {
   "cell_type": "markdown",
   "id": "bcce458b",
   "metadata": {},
   "source": [
    "# logical not"
   ]
  },
  {
   "cell_type": "code",
   "execution_count": 24,
   "id": "ce329540",
   "metadata": {},
   "outputs": [
    {
     "name": "stdout",
     "output_type": "stream",
     "text": [
      "False\n",
      "True\n"
     ]
    }
   ],
   "source": [
    "a = True\n",
    "print(not a)\n",
    "b = False\n",
    "print( not b)"
   ]
  },
  {
   "cell_type": "code",
   "execution_count": 25,
   "id": "6bb2f2ee",
   "metadata": {},
   "outputs": [
    {
     "name": "stdout",
     "output_type": "stream",
     "text": [
      "False\n"
     ]
    }
   ],
   "source": [
    "a = 3\n",
    "print(not a)"
   ]
  },
  {
   "cell_type": "code",
   "execution_count": 27,
   "id": "ce6b0f40",
   "metadata": {},
   "outputs": [
    {
     "name": "stdout",
     "output_type": "stream",
     "text": [
      "True\n"
     ]
    }
   ],
   "source": [
    "b = 0\n",
    "print(not b)"
   ]
  },
  {
   "cell_type": "code",
   "execution_count": 28,
   "id": "9c3b0b15",
   "metadata": {},
   "outputs": [
    {
     "name": "stdout",
     "output_type": "stream",
     "text": [
      "False\n"
     ]
    }
   ],
   "source": [
    "c = -50\n",
    "print(not c)"
   ]
  },
  {
   "cell_type": "markdown",
   "id": "3d5a7b31",
   "metadata": {},
   "source": [
    "# boolean data type"
   ]
  },
  {
   "cell_type": "code",
   "execution_count": 29,
   "id": "5f365586",
   "metadata": {},
   "outputs": [
    {
     "name": "stdout",
     "output_type": "stream",
     "text": [
      "True\n",
      "<class 'bool'>\n"
     ]
    }
   ],
   "source": [
    "a = True\n",
    "print(a)\n",
    "print(type(a))"
   ]
  },
  {
   "cell_type": "code",
   "execution_count": 30,
   "id": "f0adb7b3",
   "metadata": {},
   "outputs": [
    {
     "data": {
      "text/plain": [
       "False"
      ]
     },
     "execution_count": 30,
     "metadata": {},
     "output_type": "execute_result"
    }
   ],
   "source": [
    "# boolena of zero is always false\n",
    "bool(0)"
   ]
  },
  {
   "cell_type": "code",
   "execution_count": 31,
   "id": "938183aa",
   "metadata": {},
   "outputs": [
    {
     "name": "stdout",
     "output_type": "stream",
     "text": [
      "5\n"
     ]
    }
   ],
   "source": [
    "bool(5)\n",
    "print(5)"
   ]
  },
  {
   "cell_type": "markdown",
   "id": "c6f0e728",
   "metadata": {},
   "source": [
    "# membership operators\n",
    "## in\n",
    "## not in"
   ]
  },
  {
   "cell_type": "code",
   "execution_count": 32,
   "id": "2e46ff2d",
   "metadata": {},
   "outputs": [
    {
     "name": "stdout",
     "output_type": "stream",
     "text": [
      "True\n"
     ]
    }
   ],
   "source": [
    "a = \"python\"\n",
    "print(\"y\" in a)"
   ]
  },
  {
   "cell_type": "code",
   "execution_count": 33,
   "id": "be64c2fb",
   "metadata": {},
   "outputs": [
    {
     "name": "stdout",
     "output_type": "stream",
     "text": [
      "False\n"
     ]
    }
   ],
   "source": [
    "print(\"Y\" in a)"
   ]
  },
  {
   "cell_type": "markdown",
   "id": "014f5772",
   "metadata": {},
   "source": [
    "# identity operators\n",
    "## is\n",
    "## is not"
   ]
  },
  {
   "cell_type": "code",
   "execution_count": 36,
   "id": "4d413b67",
   "metadata": {},
   "outputs": [
    {
     "name": "stdout",
     "output_type": "stream",
     "text": [
      "True\n",
      "2162569068208\n",
      "2162523990288\n"
     ]
    },
    {
     "name": "stderr",
     "output_type": "stream",
     "text": [
      "<>:1: SyntaxWarning: \"is\" with a literal. Did you mean \"==\"?\n",
      "<>:1: SyntaxWarning: \"is\" with a literal. Did you mean \"==\"?\n",
      "C:\\Users\\G.MUKESH SAI\\AppData\\Local\\Temp\\ipykernel_28316\\3368472683.py:1: SyntaxWarning: \"is\" with a literal. Did you mean \"==\"?\n",
      "  print(1 is 1)\n"
     ]
    }
   ],
   "source": [
    "print(1 is 1)\n",
    "print(id(a))\n",
    "print(id(b))"
   ]
  },
  {
   "cell_type": "code",
   "execution_count": 35,
   "id": "04ba3b52",
   "metadata": {},
   "outputs": [
    {
     "name": "stdout",
     "output_type": "stream",
     "text": [
      "False\n"
     ]
    },
    {
     "name": "stderr",
     "output_type": "stream",
     "text": [
      "<>:1: SyntaxWarning: \"is\" with a literal. Did you mean \"==\"?\n",
      "<>:1: SyntaxWarning: \"is\" with a literal. Did you mean \"==\"?\n",
      "C:\\Users\\G.MUKESH SAI\\AppData\\Local\\Temp\\ipykernel_28316\\2078422729.py:1: SyntaxWarning: \"is\" with a literal. Did you mean \"==\"?\n",
      "  print(1 is 2)\n"
     ]
    }
   ],
   "source": [
    "print(1 is 2)"
   ]
  },
  {
   "cell_type": "markdown",
   "id": "df9d0048",
   "metadata": {},
   "source": [
    "# Bit-wise operators\n",
    "- Bitwise operators are used to perform operations on individual bits of integer values. They operate at the binary level, directly manipulating the bits (0s and 1s) of numbers.\n",
    "## bit-wise and(\"&\")\n",
    "## bit-wise or\n",
    "## bit-wise not\n",
    "## right shift\n",
    "## left shift\n",
    "\n"
   ]
  },
  {
   "cell_type": "code",
   "execution_count": 37,
   "id": "7d551c27",
   "metadata": {},
   "outputs": [
    {
     "name": "stdout",
     "output_type": "stream",
     "text": [
      "2\n"
     ]
    }
   ],
   "source": [
    "# bitwise and(&)\n",
    "a = 3 #0011\n",
    "b = 2 #0010\n",
    "print(a & b)  #0010"
   ]
  },
  {
   "cell_type": "code",
   "execution_count": 5,
   "id": "4efd0fae",
   "metadata": {},
   "outputs": [
    {
     "name": "stdout",
     "output_type": "stream",
     "text": [
      "55\n"
     ]
    }
   ],
   "source": [
    "# bitwise or(|)\n",
    "a = 55\n",
    "b = 36\n",
    "print(a | b)"
   ]
  },
  {
   "cell_type": "code",
   "execution_count": 6,
   "id": "c1d4e08b",
   "metadata": {},
   "outputs": [
    {
     "name": "stdout",
     "output_type": "stream",
     "text": [
      "-7\n"
     ]
    }
   ],
   "source": [
    "# bit-wise not(~)(tilda)\n",
    "a = 6       #(-(a+1))\n",
    "print(~a)\n"
   ]
  },
  {
   "cell_type": "code",
   "execution_count": 3,
   "id": "19529af6",
   "metadata": {},
   "outputs": [
    {
     "name": "stdout",
     "output_type": "stream",
     "text": [
      "25\n",
      "12\n"
     ]
    }
   ],
   "source": [
    "# right shift(>>)\n",
    "x = 50\n",
    "print(x>>1)\n",
    "print(x>>2)"
   ]
  },
  {
   "cell_type": "code",
   "execution_count": 2,
   "id": "199e70e4",
   "metadata": {},
   "outputs": [
    {
     "name": "stdout",
     "output_type": "stream",
     "text": [
      "28\n",
      "56\n"
     ]
    }
   ],
   "source": [
    "# left shift(>>)\n",
    "x = 14\n",
    "print(x<<1)\n",
    "print(x<<2)"
   ]
  },
  {
   "cell_type": "code",
   "execution_count": null,
   "id": "e8afaae2",
   "metadata": {},
   "outputs": [],
   "source": []
  }
 ],
 "metadata": {
  "kernelspec": {
   "display_name": "Python 3 (ipykernel)",
   "language": "python",
   "name": "python3"
  },
  "language_info": {
   "codemirror_mode": {
    "name": "ipython",
    "version": 3
   },
   "file_extension": ".py",
   "mimetype": "text/x-python",
   "name": "python",
   "nbconvert_exporter": "python",
   "pygments_lexer": "ipython3",
   "version": "3.9.13"
  }
 },
 "nbformat": 4,
 "nbformat_minor": 5
}
