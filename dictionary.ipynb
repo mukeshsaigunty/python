{
 "cells": [
  {
   "cell_type": "markdown",
   "id": "93ab1938",
   "metadata": {},
   "source": [
    "# dictionary\n",
    "-A dictionary in Python is a mutable, unordered collection of items. Each item is a key-value pair, and keys must be unique and immutable (e.g., strings, numbers, tuples)."
   ]
  },
  {
   "cell_type": "code",
   "execution_count": 2,
   "id": "0eea6af1",
   "metadata": {},
   "outputs": [
    {
     "name": "stdout",
     "output_type": "stream",
     "text": [
      "{}\n",
      "<class 'dict'>\n"
     ]
    }
   ],
   "source": [
    "# create an empty dictionary\n",
    "d = {}\n",
    "print(d)\n",
    "print(type(d))"
   ]
  },
  {
   "cell_type": "code",
   "execution_count": 3,
   "id": "1cbff12b",
   "metadata": {},
   "outputs": [
    {
     "name": "stdout",
     "output_type": "stream",
     "text": [
      "{}\n",
      "<class 'dict'>\n"
     ]
    }
   ],
   "source": [
    "d1 = dict()\n",
    "print(d1)\n",
    "print(type(d1))"
   ]
  },
  {
   "cell_type": "code",
   "execution_count": 4,
   "id": "bd932b5c",
   "metadata": {},
   "outputs": [
    {
     "name": "stdout",
     "output_type": "stream",
     "text": [
      "{'a': 1, 'b': 2, 'c': 3}\n"
     ]
    }
   ],
   "source": [
    "d = {\"a\" : 1, \"b\" : 2, \"c\" : 3}\n",
    "print(d)"
   ]
  },
  {
   "cell_type": "code",
   "execution_count": 5,
   "id": "3b3c7082",
   "metadata": {},
   "outputs": [
    {
     "name": "stdout",
     "output_type": "stream",
     "text": [
      "{1: 'ab', 2: 'cd', 3: 'ef'}\n"
     ]
    }
   ],
   "source": [
    "d = {1 : \"ab\", 2 : \"cd\", 3 : \"ef\"}\n",
    "print(d)"
   ]
  },
  {
   "cell_type": "code",
   "execution_count": 12,
   "id": "91ab898d",
   "metadata": {},
   "outputs": [
    {
     "data": {
      "text/plain": [
       "'pune'"
      ]
     },
     "execution_count": 12,
     "metadata": {},
     "output_type": "execute_result"
    }
   ],
   "source": [
    "d = { \"name\"  : \"python\", \"dob\" : 1991, \"place\" : [\"hyd\",\"pune\",\"chennai\",\"goa\"]}\n",
    "d[\"place\"][1]\n"
   ]
  },
  {
   "cell_type": "code",
   "execution_count": 13,
   "id": "0c1ac34c",
   "metadata": {},
   "outputs": [
    {
     "data": {
      "text/plain": [
       "dict_keys(['name', 'dob', 'place'])"
      ]
     },
     "execution_count": 13,
     "metadata": {},
     "output_type": "execute_result"
    }
   ],
   "source": [
    "# access keys\n",
    "d.keys()"
   ]
  },
  {
   "cell_type": "code",
   "execution_count": 14,
   "id": "4e9b3570",
   "metadata": {},
   "outputs": [
    {
     "data": {
      "text/plain": [
       "dict_values(['python', 1991, ['hyd', 'pune', 'chennai', 'goa']])"
      ]
     },
     "execution_count": 14,
     "metadata": {},
     "output_type": "execute_result"
    }
   ],
   "source": [
    "# access values\n",
    "d.values()"
   ]
  },
  {
   "cell_type": "code",
   "execution_count": 15,
   "id": "f59f9189",
   "metadata": {},
   "outputs": [
    {
     "data": {
      "text/plain": [
       "dict_items([('name', 'python'), ('dob', 1991), ('place', ['hyd', 'pune', 'chennai', 'goa'])])"
      ]
     },
     "execution_count": 15,
     "metadata": {},
     "output_type": "execute_result"
    }
   ],
   "source": [
    "# items\n",
    "d.items()"
   ]
  },
  {
   "cell_type": "markdown",
   "id": "a04a578e",
   "metadata": {},
   "source": [
    "# adding element to the dictionary"
   ]
  },
  {
   "cell_type": "code",
   "execution_count": 17,
   "id": "ad82ea33",
   "metadata": {},
   "outputs": [
    {
     "name": "stdout",
     "output_type": "stream",
     "text": [
      "{'name': 'python', 'dob': 1991, 'place': ['hyd', 'pune', 'chennai', 'goa'], 'id': 439290}\n"
     ]
    }
   ],
   "source": [
    "d[\"id\"] = 439290\n",
    "print(d)"
   ]
  },
  {
   "cell_type": "markdown",
   "id": "ea88839e",
   "metadata": {},
   "source": [
    "# update"
   ]
  },
  {
   "cell_type": "code",
   "execution_count": 18,
   "id": "50d07264",
   "metadata": {},
   "outputs": [
    {
     "name": "stdout",
     "output_type": "stream",
     "text": [
      "{'name': 'python', 'dob': 1991, 'place': ['hyd', 'pune', 'chennai', 'goa'], 'id': 439290, 'location': 'kphb', 'day': 'sunday', 'course': 'ds'}\n"
     ]
    }
   ],
   "source": [
    "d.update({\"location\" : \"kphb\", \"day\" : \"sunday\", \"course\" : \"ds\"})\n",
    "print(d)"
   ]
  },
  {
   "cell_type": "markdown",
   "id": "5fc34076",
   "metadata": {},
   "source": [
    "# Change of element"
   ]
  },
  {
   "cell_type": "code",
   "execution_count": 19,
   "id": "bcc4ddfc",
   "metadata": {},
   "outputs": [
    {
     "name": "stdout",
     "output_type": "stream",
     "text": [
      "{'name': 'python', 'dob': 1991, 'place': ['hyd', 'pune', 'chennai', 'goa'], 'id': 439290, 'location': 'kphb', 'day': 'monday', 'course': 'ds'}\n"
     ]
    }
   ],
   "source": [
    "d[\"day\"] = 'monday'\n",
    "print(d)"
   ]
  },
  {
   "cell_type": "code",
   "execution_count": 21,
   "id": "e5736fab",
   "metadata": {},
   "outputs": [
    {
     "name": "stdout",
     "output_type": "stream",
     "text": [
      "{'name': 'python', 'dob': 1991, 'place': ['hyd', 'mumbai', 'chennai', 'goa'], 'id': 439290, 'location': 'kphb', 'day': 'monday', 'course': 'ds'}\n"
     ]
    }
   ],
   "source": [
    "d[\"place\"][1] = \"mumbai\"\n",
    "print(d)"
   ]
  },
  {
   "cell_type": "markdown",
   "id": "82d129d8",
   "metadata": {},
   "source": [
    "# get()\n",
    "- In Python, the .get() method is used with dictionaries to safely retrieve the value for a given key.\n",
    "- then if a value is not found foe a given key,it return nothing\n",
    "- (and otherwise return the value associated with that key)."
   ]
  },
  {
   "cell_type": "code",
   "execution_count": 1,
   "id": "635ba082",
   "metadata": {},
   "outputs": [
    {
     "ename": "NameError",
     "evalue": "name 'd' is not defined",
     "output_type": "error",
     "traceback": [
      "\u001b[1;31m---------------------------------------------------------------------------\u001b[0m",
      "\u001b[1;31mNameError\u001b[0m                                 Traceback (most recent call last)",
      "\u001b[1;32m~\\AppData\\Local\\Temp\\ipykernel_6984\\3026058060.py\u001b[0m in \u001b[0;36m<module>\u001b[1;34m\u001b[0m\n\u001b[1;32m----> 1\u001b[1;33m \u001b[0md\u001b[0m\u001b[1;33m.\u001b[0m\u001b[0mget\u001b[0m\u001b[1;33m(\u001b[0m\u001b[1;36m1\u001b[0m\u001b[1;33m)\u001b[0m\u001b[1;33m\u001b[0m\u001b[1;33m\u001b[0m\u001b[0m\n\u001b[0m",
      "\u001b[1;31mNameError\u001b[0m: name 'd' is not defined"
     ]
    }
   ],
   "source": [
    "d.get(1)"
   ]
  },
  {
   "cell_type": "markdown",
   "id": "d67176f0",
   "metadata": {},
   "source": [
    "# common operation\n",
    "- in\n",
    "- not in\n",
    "- ==\n",
    "- !="
   ]
  },
  {
   "cell_type": "code",
   "execution_count": 2,
   "id": "f1d26d9d",
   "metadata": {},
   "outputs": [
    {
     "data": {
      "text/plain": [
       "True"
      ]
     },
     "execution_count": 2,
     "metadata": {},
     "output_type": "execute_result"
    }
   ],
   "source": [
    " d1 = {\"name\" : \"sai\", \"roll\" : 90}\n",
    "\"name\" in d1"
   ]
  },
  {
   "cell_type": "code",
   "execution_count": 3,
   "id": "92ce8996",
   "metadata": {},
   "outputs": [
    {
     "data": {
      "text/plain": [
       "True"
      ]
     },
     "execution_count": 3,
     "metadata": {},
     "output_type": "execute_result"
    }
   ],
   "source": [
    "\"num\" not in d1"
   ]
  },
  {
   "cell_type": "code",
   "execution_count": 6,
   "id": "457ca87d",
   "metadata": {},
   "outputs": [
    {
     "data": {
      "text/plain": [
       "False"
      ]
     },
     "execution_count": 6,
     "metadata": {},
     "output_type": "execute_result"
    }
   ],
   "source": [
    "d = {\"num\" : 1}\n",
    "d == d1\n"
   ]
  },
  {
   "cell_type": "code",
   "execution_count": 7,
   "id": "780c1ad2",
   "metadata": {},
   "outputs": [
    {
     "data": {
      "text/plain": [
       "True"
      ]
     },
     "execution_count": 7,
     "metadata": {},
     "output_type": "execute_result"
    }
   ],
   "source": [
    "d != d1"
   ]
  },
  {
   "cell_type": "markdown",
   "id": "5c3c5169",
   "metadata": {},
   "source": [
    "# removing values from a dictionary"
   ]
  },
  {
   "cell_type": "markdown",
   "id": "dcb205d5",
   "metadata": {},
   "source": [
    "# pop()\n",
    "- remove the key-value pair\n",
    "- pop will remove any key-value pair"
   ]
  },
  {
   "cell_type": "code",
   "execution_count": 10,
   "id": "653e4273",
   "metadata": {},
   "outputs": [
    {
     "data": {
      "text/plain": [
       "90"
      ]
     },
     "execution_count": 10,
     "metadata": {},
     "output_type": "execute_result"
    }
   ],
   "source": [
    "d1.pop(\"roll\")"
   ]
  },
  {
   "cell_type": "markdown",
   "id": "c31fbdf5",
   "metadata": {},
   "source": [
    "# popitem()\n",
    "- to remove the last key-value pair"
   ]
  },
  {
   "cell_type": "code",
   "execution_count": 11,
   "id": "27e75bdb",
   "metadata": {},
   "outputs": [
    {
     "data": {
      "text/plain": [
       "('name', 'sai')"
      ]
     },
     "execution_count": 11,
     "metadata": {},
     "output_type": "execute_result"
    }
   ],
   "source": [
    "d1.popitem()"
   ]
  },
  {
   "cell_type": "markdown",
   "id": "da00a814",
   "metadata": {},
   "source": [
    "# del"
   ]
  },
  {
   "cell_type": "code",
   "execution_count": 16,
   "id": "63c084f1",
   "metadata": {},
   "outputs": [],
   "source": [
    "d = {'name': 'python', 'dob': 1991, 'place': ['hyd', 'pune', 'chennai', 'goa'], 'id': 439290, 'location': 'kphb', 'day': 'sunday', 'course': 'ds'}\n",
    "del d[\"place\"][1]\n"
   ]
  },
  {
   "cell_type": "markdown",
   "id": "6ed1c0ed",
   "metadata": {},
   "source": [
    "# fromkeys()"
   ]
  },
  {
   "cell_type": "code",
   "execution_count": 20,
   "id": "5adf373c",
   "metadata": {},
   "outputs": [
    {
     "name": "stdout",
     "output_type": "stream",
     "text": [
      "{'c': None, 'b': None, 'a': None}\n"
     ]
    }
   ],
   "source": [
    "keys = {'a','b','c'}\n",
    "value = 5\n",
    "c = dict.fromkeys(keys)\n",
    "print(c)"
   ]
  },
  {
   "cell_type": "markdown",
   "id": "ce8894bf",
   "metadata": {},
   "source": [
    "# zip"
   ]
  },
  {
   "cell_type": "code",
   "execution_count": 23,
   "id": "f1b8cba5",
   "metadata": {},
   "outputs": [
    {
     "name": "stdout",
     "output_type": "stream",
     "text": [
      "{'a': 1, 'b': 2, 'c': 3, 'd': 4}\n"
     ]
    }
   ],
   "source": [
    "keys = [\"a\",\"b\",\"c\",\"d\"]\n",
    "values = [1,2,3,4]\n",
    "d = dict(zip(keys,values))\n",
    "print(d)"
   ]
  },
  {
   "cell_type": "code",
   "execution_count": 1,
   "id": "be5b97ba",
   "metadata": {},
   "outputs": [
    {
     "data": {
      "text/plain": [
       "4"
      ]
     },
     "execution_count": 1,
     "metadata": {},
     "output_type": "execute_result"
    }
   ],
   "source": [
    "c=1<<2\n",
    "c"
   ]
  },
  {
   "cell_type": "code",
   "execution_count": null,
   "id": "476edcb2",
   "metadata": {},
   "outputs": [],
   "source": []
  }
 ],
 "metadata": {
  "kernelspec": {
   "display_name": "Python 3 (ipykernel)",
   "language": "python",
   "name": "python3"
  },
  "language_info": {
   "codemirror_mode": {
    "name": "ipython",
    "version": 3
   },
   "file_extension": ".py",
   "mimetype": "text/x-python",
   "name": "python",
   "nbconvert_exporter": "python",
   "pygments_lexer": "ipython3",
   "version": "3.9.13"
  }
 },
 "nbformat": 4,
 "nbformat_minor": 5
}
