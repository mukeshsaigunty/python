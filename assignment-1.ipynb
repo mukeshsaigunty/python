{
 "cells": [
  {
   "cell_type": "markdown",
   "id": "0dec32e0",
   "metadata": {},
   "source": [
    "# 1.What is Python?\n",
    "- Python is a high-level, interpreted programming language known for its simplicity, readability, and versatility. "
   ]
  },
  {
   "cell_type": "markdown",
   "id": "5ced34bb",
   "metadata": {},
   "source": [
    "# 2.Who created Python and when?\n",
    "- It was created by Guido van Rossum and first released in 1991."
   ]
  },
  {
   "cell_type": "markdown",
   "id": "60807ecc",
   "metadata": {},
   "source": [
    "# 3.Why is Python a popular programming language?\n",
    "- Python is popular because it's easy to learn, readable, and has a vast ecosystem of libraries.\n",
    "It's widely used in web development, data science, automation, AI, and more."
   ]
  },
  {
   "cell_type": "markdown",
   "id": "7e6e00af",
   "metadata": {},
   "source": [
    "# 4.What are some common uses of Python?\n",
    "- Common uses of Python include:\n",
    "\n",
    "* **Web development** (e.g., Django, Flask)\n",
    "* **Data analysis and visualization** (e.g., pandas, Matplotlib)\n",
    "* **Machine learning and AI** (e.g., TensorFlow, scikit-learn)\n",
    "* **Automation and scripting**\n",
    "* **Game development**\n",
    "* **Cybersecurity and ethical hacking**\n",
    "* **Desktop applications**\n"
   ]
  },
  {
   "cell_type": "markdown",
   "id": "9009eb42",
   "metadata": {},
   "source": [
    "# 5.Is Python a compiled or interpreted language?\n",
    "- Python is an **interpreted** language.\n",
    "This means the code is executed **line by line** by the Python interpreter.\n"
   ]
  },
  {
   "cell_type": "markdown",
   "id": "963d441d",
   "metadata": {},
   "source": [
    "# 6.What is a variable in Python?\n",
    "- A variable in Python is a name that stores a value.\n",
    "It acts as a container for data that can be used and changed in a program."
   ]
  },
  {
   "cell_type": "markdown",
   "id": "88f4c162",
   "metadata": {},
   "source": [
    "# 7.What is the file extension for Python files?\n",
    "- The file extension for Python files is .py"
   ]
  },
  {
   "cell_type": "markdown",
   "id": "3ab16a45",
   "metadata": {},
   "source": [
    "# 8.What is an IDE and name a few used for Python development?\n",
    "- An **IDE (Integrated Development Environment)** is a software application that provides tools for writing, testing, and debugging code.\n",
    "\n",
    "Common Python IDEs include:\n",
    "\n",
    "* **PyCharm**\n",
    "* **VS Code**\n",
    "* **Thonny**\n",
    "* **Spyder**\n",
    "* **IDLE**\n"
   ]
  },
  {
   "cell_type": "markdown",
   "id": "ef9f7f7a",
   "metadata": {},
   "source": [
    "# 9.What is Jupyter Notebook and what is it used for?\n",
    "- **Jupyter Notebook** is an open-source web-based tool used for **writing and running code**, especially in **Python**.\n",
    "It's commonly used for **data analysis, machine learning, visualization**, and **interactive computing**.\n"
   ]
  },
  {
   "cell_type": "markdown",
   "id": "83bccc5f",
   "metadata": {},
   "source": [
    "# 10.How do you run a cell in Jupyter Notebook?\n",
    "- To run a cell in Jupyter Notebook, you can:\n",
    "\n",
    "* Press **Shift + Enter** to execute the cell and move to the next one.\n",
    "* Press **Ctrl + Enter** to execute the cell without moving to the next one.\n"
   ]
  },
  {
   "cell_type": "markdown",
   "id": "2e9238b7",
   "metadata": {},
   "source": [
    "# 11.What is the difference between a code cell and a markdown cell in Jupyter Notebook?\n",
    "- In Jupyter Notebook:\n",
    "\n",
    "* **Code cell**: Contains executable code (e.g., Python). When run, it outputs results (e.g., variables, plots, etc.).\n",
    "* **Markdown cell**: Contains text formatted using **Markdown**. It's used for adding descriptions, explanations, or notes, and can include formatting like headings, lists, links, and images.\n"
   ]
  },
  {
   "cell_type": "markdown",
   "id": "b458fde1",
   "metadata": {},
   "source": [
    "# 12.How do you save your work in Jupyter Notebook?\n",
    "- To save your work in Jupyter Notebook, you can:\n",
    "\n",
    "* Click the **Save** button (floppy disk icon) in the toolbar.\n",
    "* Press **Ctrl + S** (Windows/Linux) or **Cmd + S** (Mac) to save.\n",
    "* Jupyter automatically saves the notebook periodically, but manual saves are a good practice.\n"
   ]
  },
  {
   "cell_type": "markdown",
   "id": "93d94e32",
   "metadata": {},
   "source": [
    "# 13.What are the advantages of using Jupyter Notebook for Python programming?\n",
    "- The advantages of using Jupyter Notebook for Python programming include:\n",
    "\n",
    "1. **Interactive Coding**: You can run code in small chunks (cells) and see results immediately.\n",
    "2. **Easy to Visualize Data**: Supports inline visualizations (e.g., plots, charts) with libraries like Matplotlib and Seaborn.\n",
    "3. **Documentation**: Allows mixing executable code with **Markdown** for rich text, images, and mathematical equations.\n",
    "4. **Reproducibility**: Makes it easy to share and reproduce your work with others.\n",
    "5. **Supports Multiple Languages**: While Python is common, Jupyter also supports other languages like R, Julia, and more.\n",
    "6. **Ideal for Data Science**: Great for data exploration, analysis, and machine learning tasks.\n"
   ]
  },
  {
   "cell_type": "code",
   "execution_count": null,
   "id": "11f58330",
   "metadata": {},
   "outputs": [],
   "source": []
  }
 ],
 "metadata": {
  "kernelspec": {
   "display_name": "Python 3 (ipykernel)",
   "language": "python",
   "name": "python3"
  },
  "language_info": {
   "codemirror_mode": {
    "name": "ipython",
    "version": 3
   },
   "file_extension": ".py",
   "mimetype": "text/x-python",
   "name": "python",
   "nbconvert_exporter": "python",
   "pygments_lexer": "ipython3",
   "version": "3.9.13"
  }
 },
 "nbformat": 4,
 "nbformat_minor": 5
}
