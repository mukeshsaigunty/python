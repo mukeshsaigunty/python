{
 "cells": [
  {
   "cell_type": "markdown",
   "id": "53e1cff6",
   "metadata": {},
   "source": [
    "# 1.Create a tuple of five colors and print the second and fourth items."
   ]
  },
  {
   "cell_type": "code",
   "execution_count": 1,
   "id": "4dc1d559",
   "metadata": {},
   "outputs": [
    {
     "data": {
      "text/plain": [
       "'Blue'"
      ]
     },
     "execution_count": 1,
     "metadata": {},
     "output_type": "execute_result"
    }
   ],
   "source": [
    "tup = (\"red\",\"Blue\",\"Green\",\"Yellow\",\"Purple\")\n",
    "tup[1]"
   ]
  },
  {
   "cell_type": "code",
   "execution_count": 2,
   "id": "3a0caf95",
   "metadata": {},
   "outputs": [
    {
     "data": {
      "text/plain": [
       "'Yellow'"
      ]
     },
     "execution_count": 2,
     "metadata": {},
     "output_type": "execute_result"
    }
   ],
   "source": [
    "tup[3]"
   ]
  },
  {
   "cell_type": "markdown",
   "id": "bf2cf6c7",
   "metadata": {},
   "source": [
    "# 2.Given a tuple: t = (10, 20, 30, 40, 50), Print the length of the tuple and the last item using negative indexing\n"
   ]
  },
  {
   "cell_type": "code",
   "execution_count": 3,
   "id": "0460da73",
   "metadata": {},
   "outputs": [
    {
     "name": "stdout",
     "output_type": "stream",
     "text": [
      "5\n",
      "50\n"
     ]
    }
   ],
   "source": [
    " t = (10, 20, 30, 40, 50)\n",
    "print(len(t))\n",
    "print(t[-1])"
   ]
  },
  {
   "cell_type": "markdown",
   "id": "7a2aac18",
   "metadata": {},
   "source": [
    "# 3.Create a tuple with a single item 100. Print its type."
   ]
  },
  {
   "cell_type": "code",
   "execution_count": 5,
   "id": "e7d7e9e7",
   "metadata": {},
   "outputs": [
    {
     "name": "stdout",
     "output_type": "stream",
     "text": [
      "<class 'tuple'>\n"
     ]
    }
   ],
   "source": [
    "tup = (100,)\n",
    "print(type(tup))"
   ]
  },
  {
   "cell_type": "markdown",
   "id": "5d48c7d9",
   "metadata": {},
   "source": [
    "# 4.Convert the following list into a tuple: ['apple', 'banana', 'cherry']"
   ]
  },
  {
   "cell_type": "code",
   "execution_count": 6,
   "id": "25a25565",
   "metadata": {},
   "outputs": [
    {
     "name": "stdout",
     "output_type": "stream",
     "text": [
      "('apple', 'banana', 'cherry')\n"
     ]
    }
   ],
   "source": [
    "lst = ['apple', 'banana', 'cherry']\n",
    "print(tuple(lst))\n"
   ]
  },
  {
   "cell_type": "markdown",
   "id": "f021287f",
   "metadata": {},
   "source": [
    "# 5.Check whether the element 'python' exists in the tuple ('java', 'python', 'c')."
   ]
  },
  {
   "cell_type": "code",
   "execution_count": 7,
   "id": "c090923c",
   "metadata": {},
   "outputs": [
    {
     "data": {
      "text/plain": [
       "True"
      ]
     },
     "execution_count": 7,
     "metadata": {},
     "output_type": "execute_result"
    }
   ],
   "source": [
    "tup =  ('java', 'python', 'c')\n",
    "\"python\" in tup"
   ]
  },
  {
   "cell_type": "markdown",
   "id": "144bd19a",
   "metadata": {},
   "source": [
    "# 6.Slice the tuple t = (1, 2, 3, 4, 5, 6) to get:\n",
    "- First 3 elements\n",
    "- Last 2 elements\n"
   ]
  },
  {
   "cell_type": "code",
   "execution_count": 2,
   "id": "1a3a55f7",
   "metadata": {},
   "outputs": [
    {
     "name": "stdout",
     "output_type": "stream",
     "text": [
      "3\n",
      "5\n"
     ]
    }
   ],
   "source": [
    " t = (1, 2, 3, 4, 5, 6) \n",
    "print(t[2])\n",
    "print(t[4])"
   ]
  },
  {
   "cell_type": "markdown",
   "id": "dbcc3a92",
   "metadata": {},
   "source": [
    "# 7.Concatenate two tuples: a = (1, 2) and b = (3, 4). Store it in a new tuple."
   ]
  },
  {
   "cell_type": "code",
   "execution_count": 3,
   "id": "9750d1bf",
   "metadata": {},
   "outputs": [
    {
     "name": "stdout",
     "output_type": "stream",
     "text": [
      "(1, 2, 3, 4)\n"
     ]
    }
   ],
   "source": [
    "a = (1,2)\n",
    "b = (3,4)\n",
    "c = a+b\n",
    "print(c)"
   ]
  },
  {
   "cell_type": "markdown",
   "id": "0fc83777",
   "metadata": {},
   "source": [
    "# 8.Try to change the first element of the tuple (5, 6, 7) to 100. What happens?"
   ]
  },
  {
   "cell_type": "code",
   "execution_count": 4,
   "id": "2f896dce",
   "metadata": {},
   "outputs": [
    {
     "ename": "TypeError",
     "evalue": "'tuple' object does not support item assignment",
     "output_type": "error",
     "traceback": [
      "\u001b[1;31m---------------------------------------------------------------------------\u001b[0m",
      "\u001b[1;31mTypeError\u001b[0m                                 Traceback (most recent call last)",
      "\u001b[1;32m~\\AppData\\Local\\Temp\\ipykernel_23304\\1033369633.py\u001b[0m in \u001b[0;36m<module>\u001b[1;34m\u001b[0m\n\u001b[0;32m      1\u001b[0m \u001b[0mtup\u001b[0m \u001b[1;33m=\u001b[0m \u001b[1;33m(\u001b[0m\u001b[1;36m5\u001b[0m\u001b[1;33m,\u001b[0m\u001b[1;36m6\u001b[0m\u001b[1;33m,\u001b[0m\u001b[1;36m7\u001b[0m\u001b[1;33m)\u001b[0m\u001b[1;33m\u001b[0m\u001b[1;33m\u001b[0m\u001b[0m\n\u001b[1;32m----> 2\u001b[1;33m \u001b[0mtup\u001b[0m\u001b[1;33m[\u001b[0m\u001b[1;36m0\u001b[0m\u001b[1;33m]\u001b[0m \u001b[1;33m=\u001b[0m \u001b[1;36m100\u001b[0m\u001b[1;33m\u001b[0m\u001b[1;33m\u001b[0m\u001b[0m\n\u001b[0m\u001b[0;32m      3\u001b[0m \u001b[0mtup\u001b[0m\u001b[1;33m\u001b[0m\u001b[1;33m\u001b[0m\u001b[0m\n",
      "\u001b[1;31mTypeError\u001b[0m: 'tuple' object does not support item assignment"
     ]
    }
   ],
   "source": [
    "tup = (5,6,7) # tuple is unmutable because of it throw the error\n",
    "tup[0] = 100\n",
    "tup"
   ]
  },
  {
   "cell_type": "markdown",
   "id": "367b8f5f",
   "metadata": {},
   "source": [
    "# 9.Repeat the tuple (1, 2) 3 times and print the result."
   ]
  },
  {
   "cell_type": "code",
   "execution_count": 6,
   "id": "a8410e46",
   "metadata": {},
   "outputs": [
    {
     "name": "stdout",
     "output_type": "stream",
     "text": [
      "(1, 2, 1, 2, 1, 2)\n"
     ]
    }
   ],
   "source": [
    "tup = (1,2)\n",
    "t = tup * 3\n",
    "print(t)"
   ]
  },
  {
   "cell_type": "markdown",
   "id": "31012863",
   "metadata": {},
   "source": [
    "# 10.Unpack the tuple x = (10, 20, 30) into three variables and print them."
   ]
  },
  {
   "cell_type": "code",
   "execution_count": 7,
   "id": "f34cf764",
   "metadata": {},
   "outputs": [
    {
     "name": "stdout",
     "output_type": "stream",
     "text": [
      "10\n",
      "20\n",
      "30\n"
     ]
    }
   ],
   "source": [
    "x = (10,20,30)\n",
    "a,b,c = x\n",
    "print(a)\n",
    "print(b)\n",
    "print(c)"
   ]
  },
  {
   "cell_type": "markdown",
   "id": "6ec01027",
   "metadata": {},
   "source": [
    "# 11.Use a tuple to return multiple values from a function that takes two numbers and returns (sum, product)."
   ]
  },
  {
   "cell_type": "code",
   "execution_count": 21,
   "id": "54c3b6cd",
   "metadata": {},
   "outputs": [
    {
     "name": "stdout",
     "output_type": "stream",
     "text": [
      "(9, 20)\n"
     ]
    }
   ],
   "source": [
    "def sum_product(a,b):\n",
    "    return(a+b,a*b)\n",
    "res = sum_product(4,5)\n",
    "print(res)"
   ]
  },
  {
   "cell_type": "markdown",
   "id": "1e3c45b1",
   "metadata": {},
   "source": [
    "# 12.Use count() to find how many times 3 appears in the tuple (1, 2, 3, 3, 3, 4)."
   ]
  },
  {
   "cell_type": "code",
   "execution_count": 18,
   "id": "995f62df",
   "metadata": {},
   "outputs": [
    {
     "data": {
      "text/plain": [
       "3"
      ]
     },
     "execution_count": 18,
     "metadata": {},
     "output_type": "execute_result"
    }
   ],
   "source": [
    "tup =  (1, 2, 3, 3, 3, 4)\n",
    "tup.count(3)"
   ]
  },
  {
   "cell_type": "markdown",
   "id": "a334d9c5",
   "metadata": {},
   "source": [
    "# 13.Use index() to find the position of 'cat' in ('dog', 'cat', 'mouse')."
   ]
  },
  {
   "cell_type": "code",
   "execution_count": 19,
   "id": "2355bb69",
   "metadata": {},
   "outputs": [
    {
     "data": {
      "text/plain": [
       "1"
      ]
     },
     "execution_count": 19,
     "metadata": {},
     "output_type": "execute_result"
    }
   ],
   "source": [
    "tup = ('dog', 'cat', 'mouse')\n",
    "tup.index(\"cat\")"
   ]
  },
  {
   "cell_type": "markdown",
   "id": "be137425",
   "metadata": {},
   "source": [
    "# 14.Convert the string \"hello\" into a tuple."
   ]
  },
  {
   "cell_type": "code",
   "execution_count": 20,
   "id": "7b36d2ac",
   "metadata": {},
   "outputs": [
    {
     "name": "stdout",
     "output_type": "stream",
     "text": [
      "('h', 'e', 'l', 'l', 'o')\n"
     ]
    }
   ],
   "source": [
    "s = \"hello\"\n",
    "print(tuple(s))"
   ]
  },
  {
   "cell_type": "markdown",
   "id": "d1a21d4e",
   "metadata": {},
   "source": [
    "# 15.Write a program to find the maximum and minimum values in a tuple of numbers."
   ]
  },
  {
   "cell_type": "code",
   "execution_count": 22,
   "id": "f71242e6",
   "metadata": {},
   "outputs": [
    {
     "name": "stdout",
     "output_type": "stream",
     "text": [
      "1\n",
      "7\n"
     ]
    }
   ],
   "source": [
    "tup = (5,6,7,3,4,1)\n",
    "print(min(tup))\n",
    "print(max(tup))"
   ]
  },
  {
   "cell_type": "code",
   "execution_count": null,
   "id": "e2dd9c59",
   "metadata": {},
   "outputs": [],
   "source": []
  }
 ],
 "metadata": {
  "kernelspec": {
   "display_name": "Python 3 (ipykernel)",
   "language": "python",
   "name": "python3"
  },
  "language_info": {
   "codemirror_mode": {
    "name": "ipython",
    "version": 3
   },
   "file_extension": ".py",
   "mimetype": "text/x-python",
   "name": "python",
   "nbconvert_exporter": "python",
   "pygments_lexer": "ipython3",
   "version": "3.9.13"
  }
 },
 "nbformat": 4,
 "nbformat_minor": 5
}
