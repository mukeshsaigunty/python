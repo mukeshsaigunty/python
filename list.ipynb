{
 "cells": [
  {
   "cell_type": "markdown",
   "id": "fe3c2647",
   "metadata": {},
   "source": [
    "### List\n",
    "- A list is a built-in ordered, mutable (changeable) collection of items in Python. Lists can contain elements of any data type — numbers, strings, other lists, etc.\n",
    "\n",
    "\n"
   ]
  },
  {
   "cell_type": "code",
   "execution_count": 14,
   "id": "d89594c7",
   "metadata": {},
   "outputs": [
    {
     "name": "stdout",
     "output_type": "stream",
     "text": [
      "[]\n",
      "<class 'list'>\n"
     ]
    }
   ],
   "source": [
    "# create empty list\n",
    "lst = []\n",
    "print(lst)\n",
    "print(type(lst))"
   ]
  },
  {
   "cell_type": "code",
   "execution_count": 22,
   "id": "6847a649",
   "metadata": {},
   "outputs": [
    {
     "name": "stdout",
     "output_type": "stream",
     "text": [
      "[1, 2, 3, 4, 5]\n",
      "[1.2, 1.4, 5.6]\n",
      "['s', 'm', 'u']\n",
      "[1, 2, 3, ['m', 'sh'], [5, True, 6], 10, 11]\n"
     ]
    }
   ],
   "source": [
    "l1 = [1,2,3,4,5]\n",
    "l2 = [1.2,1.4,5.6]\n",
    "l3 = [\"s\",\"m\",\"u\"]\n",
    "l4 = [1,2,3,[\"m\",\"s\"\"h\"],[5,True,6],10,11]\n",
    "print(l1)\n",
    "print(l2)\n",
    "print(l3)\n",
    "print(l4)"
   ]
  },
  {
   "cell_type": "code",
   "execution_count": 23,
   "id": "abbaf12a",
   "metadata": {},
   "outputs": [
    {
     "name": "stdout",
     "output_type": "stream",
     "text": [
      "1\n",
      "5\n",
      "['yes', 'm', 3, 2, 1]\n",
      "[1, 2, 3, 'm', 'yes']\n",
      "[2, 3, 'm']\n",
      "[2, 'm']\n"
     ]
    }
   ],
   "source": [
    "lst =  [1,2,3,\"m\",\"yes\"]\n",
    "print(lst[0])\n",
    "print(len(lst))\n",
    "print(lst[::-1])\n",
    "print(lst[0::])\n",
    "print(lst[1:4])\n",
    "print(lst[1:4:2])"
   ]
  },
  {
   "cell_type": "code",
   "execution_count": 29,
   "id": "7d24f8da",
   "metadata": {},
   "outputs": [
    {
     "name": "stdout",
     "output_type": "stream",
     "text": [
      "hyd\n"
     ]
    }
   ],
   "source": [
    "lst1 = [2,3.6,[\"python\",4,5,8],[4,\"cat\",\"hyd\",9],10,11]\n",
    "print(lst1[3][2])"
   ]
  },
  {
   "cell_type": "code",
   "execution_count": 32,
   "id": "5b0947bb",
   "metadata": {},
   "outputs": [
    {
     "name": "stdout",
     "output_type": "stream",
     "text": [
      "[1, 2, 3, 4, 5]\n"
     ]
    }
   ],
   "source": [
    "# append()- is used to add single element to the list\n",
    "lst = [1,2,3,4]\n",
    "lst.append(5)\n",
    "print(lst)"
   ]
  },
  {
   "cell_type": "code",
   "execution_count": 34,
   "id": "fe9f5bd2",
   "metadata": {},
   "outputs": [
    {
     "name": "stdout",
     "output_type": "stream",
     "text": [
      "[1, 4, 5, 6, 11, 'data', 5.7]\n"
     ]
    }
   ],
   "source": [
    "# extend()- is used to extend list with more than one element\n",
    "lst = [1,4,5,6]\n",
    "lst.extend([11,'data',5.7])\n",
    "print(lst)"
   ]
  },
  {
   "cell_type": "code",
   "execution_count": 35,
   "id": "fbdffb18",
   "metadata": {},
   "outputs": [
    {
     "data": {
      "text/plain": [
       "[1, 2, 3, 10, 5]"
      ]
     },
     "execution_count": 35,
     "metadata": {},
     "output_type": "execute_result"
    }
   ],
   "source": [
    "# changing values in a list\n",
    "lst = [1,2,3,4,5]\n",
    "lst[3] = 10\n",
    "lst"
   ]
  },
  {
   "cell_type": "code",
   "execution_count": 8,
   "id": "1b5005a5",
   "metadata": {},
   "outputs": [
    {
     "data": {
      "text/plain": [
       "[1, 2, 'cat', 3, 4, 5]"
      ]
     },
     "execution_count": 8,
     "metadata": {},
     "output_type": "execute_result"
    }
   ],
   "source": [
    "# insert() - we can insert values at any index postion\n",
    "x = [1,2,3,4,5]\n",
    "x.insert(2,\"cat\")\n",
    "x"
   ]
  },
  {
   "cell_type": "code",
   "execution_count": 47,
   "id": "bdeead27",
   "metadata": {},
   "outputs": [
    {
     "name": "stdout",
     "output_type": "stream",
     "text": [
      "[1, 2, 3, 4]\n"
     ]
    }
   ],
   "source": [
    "# pop() - is used to remove element from list but pop without index number by default it remove last element from the list\n",
    "# note - we cannot use the pop for the nested list were we use the delete() function\n",
    "lst = [1,2,3,4,5]\n",
    "lst.pop()\n",
    "print(lst)"
   ]
  },
  {
   "cell_type": "code",
   "execution_count": 52,
   "id": "8c822642",
   "metadata": {},
   "outputs": [
    {
     "data": {
      "text/plain": [
       "[1, 2]"
      ]
     },
     "execution_count": 52,
     "metadata": {},
     "output_type": "execute_result"
    }
   ],
   "source": [
    "# remove()\n",
    "lst.remove(3)\n",
    "lst"
   ]
  },
  {
   "cell_type": "code",
   "execution_count": 58,
   "id": "9c6e1e0d",
   "metadata": {},
   "outputs": [
    {
     "name": "stdout",
     "output_type": "stream",
     "text": [
      "[1, 2, 4, 5]\n"
     ]
    }
   ],
   "source": [
    "# delete()\n",
    "x = [1,2,3,4,5]\n",
    "del x[2]\n",
    "print(x)\n",
    "del x"
   ]
  },
  {
   "cell_type": "code",
   "execution_count": 9,
   "id": "4707e0b8",
   "metadata": {},
   "outputs": [
    {
     "ename": "TypeError",
     "evalue": "'int' object does not support item deletion",
     "output_type": "error",
     "traceback": [
      "\u001b[1;31m---------------------------------------------------------------------------\u001b[0m",
      "\u001b[1;31mTypeError\u001b[0m                                 Traceback (most recent call last)",
      "\u001b[1;32m~\\AppData\\Local\\Temp\\ipykernel_6964\\4211827779.py\u001b[0m in \u001b[0;36m<module>\u001b[1;34m\u001b[0m\n\u001b[0;32m      2\u001b[0m \u001b[1;32mdel\u001b[0m \u001b[0mlst2\u001b[0m\u001b[1;33m[\u001b[0m\u001b[1;36m0\u001b[0m\u001b[1;33m:\u001b[0m\u001b[1;36m2\u001b[0m\u001b[1;33m]\u001b[0m\u001b[1;33m\u001b[0m\u001b[1;33m\u001b[0m\u001b[0m\n\u001b[0;32m      3\u001b[0m \u001b[1;32mdel\u001b[0m \u001b[0mlst2\u001b[0m\u001b[1;33m[\u001b[0m\u001b[1;36m0\u001b[0m\u001b[1;33m]\u001b[0m\u001b[1;33m[\u001b[0m\u001b[1;36m2\u001b[0m\u001b[1;33m]\u001b[0m\u001b[1;33m\u001b[0m\u001b[1;33m\u001b[0m\u001b[0m\n\u001b[1;32m----> 4\u001b[1;33m \u001b[1;32mdel\u001b[0m \u001b[0mlst2\u001b[0m\u001b[1;33m[\u001b[0m\u001b[1;36m3\u001b[0m\u001b[1;33m]\u001b[0m\u001b[1;33m[\u001b[0m\u001b[1;36m1\u001b[0m\u001b[1;33m]\u001b[0m\u001b[1;33m\u001b[0m\u001b[1;33m\u001b[0m\u001b[0m\n\u001b[0m\u001b[0;32m      5\u001b[0m \u001b[0mprint\u001b[0m\u001b[1;33m(\u001b[0m\u001b[0mlst2\u001b[0m\u001b[1;33m)\u001b[0m\u001b[1;33m\u001b[0m\u001b[1;33m\u001b[0m\u001b[0m\n",
      "\u001b[1;31mTypeError\u001b[0m: 'int' object does not support item deletion"
     ]
    }
   ],
   "source": [
    "lst2 = [2,3.6,[\"python\",4,5,8],[4,\"cat\",\"hyd\",9],10,11]\n",
    "del lst2[0:2]\n",
    "del lst2[0][2]\n",
    "del lst2[3][1] \n",
    "print(lst2)\n"
   ]
  },
  {
   "cell_type": "code",
   "execution_count": 64,
   "id": "e2093325",
   "metadata": {},
   "outputs": [
    {
     "name": "stdout",
     "output_type": "stream",
     "text": [
      "[1, 2, 3, 4, 5, 6, 7, 8]\n"
     ]
    }
   ],
   "source": [
    "# joining two lists\n",
    "lst3 = [1,2,3,4]\n",
    "lst4 = [5,6,7,8]\n",
    "print(lst3 + lst4)"
   ]
  },
  {
   "cell_type": "code",
   "execution_count": 12,
   "id": "f4a0bb89",
   "metadata": {},
   "outputs": [
    {
     "data": {
      "text/plain": [
       "5"
      ]
     },
     "execution_count": 12,
     "metadata": {},
     "output_type": "execute_result"
    }
   ],
   "source": [
    "# count() - to look at the number of occurences of an element in list\n",
    "lst = [1,2,3,3,3,3,3,4,4,4,5,5]\n",
    "lst.count(3)"
   ]
  },
  {
   "cell_type": "code",
   "execution_count": 13,
   "id": "e8e49270",
   "metadata": {},
   "outputs": [
    {
     "data": {
      "text/plain": [
       "1"
      ]
     },
     "execution_count": 13,
     "metadata": {},
     "output_type": "execute_result"
    }
   ],
   "source": [
    "# index = to look at the position of the first occurence of an element\n",
    "lst.index(2)"
   ]
  },
  {
   "cell_type": "code",
   "execution_count": 19,
   "id": "6c45044a",
   "metadata": {},
   "outputs": [
    {
     "name": "stdout",
     "output_type": "stream",
     "text": [
      "[5, 4, 3, 2, 1]\n"
     ]
    }
   ],
   "source": [
    "# reverse() - The .reverse() method in Python is used to reverse the elements of a list in place—meaning the list is modified directly and no new list is returned.\n",
    "lst = [1,2,3,4,5]\n",
    "lst.reverse()\n",
    "print(lst)"
   ]
  },
  {
   "cell_type": "code",
   "execution_count": 20,
   "id": "a2e866f9",
   "metadata": {},
   "outputs": [
    {
     "name": "stdout",
     "output_type": "stream",
     "text": [
      "[]\n"
     ]
    }
   ],
   "source": [
    "# clear() - The .clear() method in Python is used to remove all elements from a list, effectively making it an empty list.\n",
    "lst.clear()\n",
    "print(lst)"
   ]
  },
  {
   "cell_type": "markdown",
   "id": "eb966c26",
   "metadata": {},
   "source": [
    "# copy() \n",
    "- The .copy() method in Python is used to create a shallow copy of a list (or other mutable objects like dictionaries). A shallow copy means it copies the outer list structure, but not the nested elements (they are still referenced)."
   ]
  },
  {
   "cell_type": "code",
   "execution_count": 1,
   "id": "8c0f8d5a",
   "metadata": {},
   "outputs": [
    {
     "name": "stdout",
     "output_type": "stream",
     "text": [
      "[1, 2, 3, 4, 5]\n"
     ]
    }
   ],
   "source": [
    "a = [1,2,3,4,5]\n",
    "import copy\n",
    "b = a.copy()\n",
    "print(a)"
   ]
  },
  {
   "cell_type": "code",
   "execution_count": 4,
   "id": "a81cb851",
   "metadata": {},
   "outputs": [
    {
     "name": "stdout",
     "output_type": "stream",
     "text": [
      "[1, 2, 100, 4, 5]\n"
     ]
    }
   ],
   "source": [
    "b[2] = 100\n",
    "print(b)"
   ]
  },
  {
   "cell_type": "markdown",
   "id": "d0c85ae1",
   "metadata": {},
   "source": [
    "print(a)\n",
    "print(b)"
   ]
  },
  {
   "cell_type": "code",
   "execution_count": 29,
   "id": "100ae219",
   "metadata": {},
   "outputs": [
    {
     "name": "stdout",
     "output_type": "stream",
     "text": [
      "[1, 2, 3, 4, 5]\n",
      "[1, 2, 9, 4, 5]\n"
     ]
    }
   ],
   "source": [
    "c = copy.deepcopy(a)\n",
    "c[2] = 9\n",
    "print(a)\n",
    "print(c)"
   ]
  },
  {
   "cell_type": "markdown",
   "id": "151c539f",
   "metadata": {},
   "source": [
    "# deepcopy() \n",
    "- deepcopy() is a function from the copy module in Python. It creates a completely independent copy of an object, including all nested (inner) objects. This means changes made to any part of the copied object do not affect the original."
   ]
  },
  {
   "cell_type": "code",
   "execution_count": 31,
   "id": "695f31d8",
   "metadata": {},
   "outputs": [],
   "source": [
    "lst = [1,2,3,[4,5]]\n",
    "y = copy.deepcopy(lst)"
   ]
  },
  {
   "cell_type": "code",
   "execution_count": 32,
   "id": "cbffc881",
   "metadata": {},
   "outputs": [],
   "source": [
    "y[3][0] = 100"
   ]
  },
  {
   "cell_type": "code",
   "execution_count": 33,
   "id": "ee6d05b0",
   "metadata": {},
   "outputs": [
    {
     "name": "stdout",
     "output_type": "stream",
     "text": [
      "[1, 2, 3, [4, 5]]\n",
      "[1, 2, 3, [100, 5]]\n"
     ]
    }
   ],
   "source": [
    "print(lst)\n",
    "print(y)"
   ]
  },
  {
   "cell_type": "code",
   "execution_count": 40,
   "id": "90e6e140",
   "metadata": {},
   "outputs": [
    {
     "name": "stdout",
     "output_type": "stream",
     "text": [
      "True\n",
      "1 10 30\n"
     ]
    }
   ],
   "source": [
    "x = [1,4,10,7,8]\n",
    "a = min(x)\n",
    "b = max(x)\n",
    "c = sum(x)\n",
    "d = 4 in x\n",
    "print(d)\n",
    "print(a,b,c)"
   ]
  },
  {
   "cell_type": "markdown",
   "id": "614c6e3a",
   "metadata": {},
   "source": [
    "# sort()"
   ]
  },
  {
   "cell_type": "code",
   "execution_count": 43,
   "id": "67c1ccda",
   "metadata": {},
   "outputs": [
    {
     "name": "stdout",
     "output_type": "stream",
     "text": [
      "[1, 2, 3, 3, 4, 4, 32, 55]\n"
     ]
    }
   ],
   "source": [
    "# asscending or descending order\n",
    "lst = [1,2,3,32 ,4, 3, 4,55]\n",
    "lst.sort()\n",
    "print(lst)"
   ]
  },
  {
   "cell_type": "code",
   "execution_count": 45,
   "id": "23ee6507",
   "metadata": {},
   "outputs": [
    {
     "name": "stdout",
     "output_type": "stream",
     "text": [
      "[55, 32, 4, 4, 3, 3, 2, 1]\n"
     ]
    }
   ],
   "source": [
    "# desecending order\n",
    "lst.sort(reverse=True)\n",
    "print(lst)"
   ]
  },
  {
   "cell_type": "markdown",
   "id": "5092ac22",
   "metadata": {},
   "source": [
    "# Tuple()\n",
    "- Immutable: Tuples cannot be modified after creation.\n",
    "\n",
    "- Ordered: Elements in a tuple maintain a defined order.\n",
    "\n",
    "- Allows Duplicates: Tuples can contain duplicate values.\n",
    "\n",
    "- Can Store Mixed Data Types: Supports integers, strings, lists, other tuples, etc.\n",
    "\n",
    "- Defined Using Parentheses (): Tuples are created using round brackets.\n",
    "\n",
    "- Single-Element Tuples Need a Comma: A trailing comma is required for one-item tuples.\n",
    "\n",
    "- Supports Indexing and Slicing: You can access elements by index or extract slices.\n",
    "\n",
    "- More Memory Efficient and Faster than Lists: Especially useful for fixed, read-only data.\n",
    "\n",
    "- Can Be Used as Dictionary Keys: Tuples are hashable and can be used as keys in dictionaries.\n",
    "\n",
    "- Supports Built-in Functions: Functions like len(), max(), min(), and sum() can be used (if elements are compatible).\n",
    "\n",
    "- Supports Packing and Unpacking: You can assign multiple values to/from tuples in a single line."
   ]
  },
  {
   "cell_type": "markdown",
   "id": "0b212a1b",
   "metadata": {},
   "source": [
    "# NOTE\n",
    "- tuple are 50% faster than list\n",
    "- we can avoid accidental changes when we use tuple"
   ]
  },
  {
   "cell_type": "code",
   "execution_count": 48,
   "id": "fd479fa4",
   "metadata": {},
   "outputs": [
    {
     "name": "stdout",
     "output_type": "stream",
     "text": [
      "(1, 2, 3, 4, 5)\n",
      "<class 'tuple'>\n"
     ]
    }
   ],
   "source": [
    "tu = (1,2,3,4,5)\n",
    "print(tu)\n",
    "print(type(tu))"
   ]
  },
  {
   "cell_type": "code",
   "execution_count": 49,
   "id": "68a9ce70",
   "metadata": {},
   "outputs": [
    {
     "name": "stdout",
     "output_type": "stream",
     "text": [
      "(1, 2, 3, 'sai', 3.6)\n"
     ]
    }
   ],
   "source": [
    "tu = (1,2,3,\"sai\",3.6)\n",
    "print(tu)"
   ]
  },
  {
   "cell_type": "code",
   "execution_count": 51,
   "id": "6be01878",
   "metadata": {},
   "outputs": [
    {
     "name": "stdout",
     "output_type": "stream",
     "text": [
      "(1, 2, 3)\n",
      "(3.6, 'sai', 3, 2, 1)\n",
      "(2, 'sai')\n",
      "(2, 3, 'sai', 3.6)\n"
     ]
    }
   ],
   "source": [
    "a = tu[0:3]\n",
    "b = tu[::-1]\n",
    "c = tu[1:4:2]\n",
    "d = tu[-4:]\n",
    "print(a)\n",
    "print(b)\n",
    "print(c)\n",
    "print(d)\n"
   ]
  },
  {
   "cell_type": "code",
   "execution_count": 56,
   "id": "42e4e49c",
   "metadata": {},
   "outputs": [
    {
     "name": "stdout",
     "output_type": "stream",
     "text": [
      "(1, 2, 3, ('sai', 'ram', 'raju'), 3.7)\n"
     ]
    },
    {
     "data": {
      "text/plain": [
       "'raju'"
      ]
     },
     "execution_count": 56,
     "metadata": {},
     "output_type": "execute_result"
    }
   ],
   "source": [
    "l = (1,2,3,(\"sai\",\"ram\",\"raju\"),3.7)\n",
    "print(l)\n",
    "l[3][2]"
   ]
  },
  {
   "cell_type": "code",
   "execution_count": 57,
   "id": "5759da15",
   "metadata": {},
   "outputs": [
    {
     "data": {
      "text/plain": [
       "1"
      ]
     },
     "execution_count": 57,
     "metadata": {},
     "output_type": "execute_result"
    }
   ],
   "source": [
    "l.count(3)"
   ]
  },
  {
   "cell_type": "markdown",
   "id": "cf68fc17",
   "metadata": {},
   "source": [
    "# packing and unpacking"
   ]
  },
  {
   "cell_type": "code",
   "execution_count": 9,
   "id": "42ed3494",
   "metadata": {},
   "outputs": [
    {
     "name": "stdout",
     "output_type": "stream",
     "text": [
      "(3, 5)\n",
      "(3, 5)\n"
     ]
    }
   ],
   "source": [
    "a = 3\n",
    "b = 5\n",
    "c = (a,b)\n",
    "f= a,b\n",
    "print(c)\n"
   ]
  },
  {
   "cell_type": "code",
   "execution_count": 21,
   "id": "579ae378",
   "metadata": {},
   "outputs": [
    {
     "name": "stdout",
     "output_type": "stream",
     "text": [
      "(3, 5)\n"
     ]
    }
   ],
   "source": [
    "print(f)"
   ]
  },
  {
   "cell_type": "markdown",
   "id": "756a3e85",
   "metadata": {},
   "source": [
    "# sorting"
   ]
  },
  {
   "cell_type": "code",
   "execution_count": 5,
   "id": "90987b3f",
   "metadata": {},
   "outputs": [
    {
     "data": {
      "text/plain": [
       "[1, 2, 3, 5, 9, 10]"
      ]
     },
     "execution_count": 5,
     "metadata": {},
     "output_type": "execute_result"
    }
   ],
   "source": [
    "tu = (1,2,3,10,5,9)\n",
    "sorted(tu)"
   ]
  },
  {
   "cell_type": "code",
   "execution_count": 6,
   "id": "a7743ad7",
   "metadata": {},
   "outputs": [
    {
     "data": {
      "text/plain": [
       "[10, 9, 5, 3, 2, 1]"
      ]
     },
     "execution_count": 6,
     "metadata": {},
     "output_type": "execute_result"
    }
   ],
   "source": [
    "sorted(tu,reverse=True)\n"
   ]
  },
  {
   "cell_type": "code",
   "execution_count": 11,
   "id": "76fd66be",
   "metadata": {},
   "outputs": [
    {
     "name": "stdout",
     "output_type": "stream",
     "text": [
      "['cat', 'dog', 'donkey', 'monkey', 'zebra']\n"
     ]
    },
    {
     "data": {
      "text/plain": [
       "['Dog', 'Zebra', 'cat', 'donkey', 'monkey']"
      ]
     },
     "execution_count": 11,
     "metadata": {},
     "output_type": "execute_result"
    }
   ],
   "source": [
    "# capital > small letter\n",
    "tu = (\"monkey\",\"donkey\",\"cat\",\"dog\",\"zebra\")\n",
    "tu1 = (\"monkey\",\"donkey\",\"cat\",\"Dog\",\"Zebra\")\n",
    "print(sorted(tu))\n",
    "sorted(tu1)"
   ]
  },
  {
   "cell_type": "code",
   "execution_count": 14,
   "id": "ac9a5f78",
   "metadata": {},
   "outputs": [
    {
     "name": "stdout",
     "output_type": "stream",
     "text": [
      "(1, 2, 3, 4, 5)\n",
      "<class 'tuple'>\n"
     ]
    }
   ],
   "source": [
    "lst = [1,2,3,4,5]\n",
    "a = (tuple(lst))\n",
    "print(a)\n",
    "print(type(a))"
   ]
  },
  {
   "cell_type": "code",
   "execution_count": 15,
   "id": "45ebd4b5",
   "metadata": {},
   "outputs": [
    {
     "name": "stdout",
     "output_type": "stream",
     "text": [
      "[1, 2, 3, 5]\n",
      "<class 'list'>\n"
     ]
    }
   ],
   "source": [
    "tu = (1,2,3,5)\n",
    "a = (list(tu))\n",
    "print(a)\n",
    "print(type(a))"
   ]
  },
  {
   "cell_type": "markdown",
   "id": "665ebf90",
   "metadata": {},
   "source": [
    "# membership"
   ]
  },
  {
   "cell_type": "code",
   "execution_count": 16,
   "id": "c1a8b3d6",
   "metadata": {},
   "outputs": [
    {
     "data": {
      "text/plain": [
       "True"
      ]
     },
     "execution_count": 16,
     "metadata": {},
     "output_type": "execute_result"
    }
   ],
   "source": [
    "tu = (1,2,3,4,5)\n",
    "4 in tu"
   ]
  },
  {
   "cell_type": "code",
   "execution_count": 15,
   "id": "4c9d47db",
   "metadata": {},
   "outputs": [
    {
     "name": "stdout",
     "output_type": "stream",
     "text": [
      "(1, 2, 3, (5, 6, 7), 9, 3)\n"
     ]
    }
   ],
   "source": [
    "tup = [1,2,3,[5,6,7],9,3]\n",
    "d = tuple(tup)\n",
    "tup[3] = (5,6,7)\n",
    "c = tuple(a)\n",
    "print(c)\n"
   ]
  },
  {
   "cell_type": "code",
   "execution_count": 10,
   "id": "fd47b14b",
   "metadata": {},
   "outputs": [],
   "source": [
    "lst = [1,2,3,[5,6,7],9,3]\n",
    "lst[3] = tuple(lst[3])"
   ]
  },
  {
   "cell_type": "code",
   "execution_count": 12,
   "id": "8cb13a2a",
   "metadata": {},
   "outputs": [
    {
     "data": {
      "text/plain": [
       "(1, 2, 3, (5, 6, 7), 9, 3)"
      ]
     },
     "execution_count": 12,
     "metadata": {},
     "output_type": "execute_result"
    }
   ],
   "source": [
    "tuple(tup)"
   ]
  },
  {
   "cell_type": "code",
   "execution_count": null,
   "id": "bcbe5050",
   "metadata": {},
   "outputs": [],
   "source": []
  }
 ],
 "metadata": {
  "kernelspec": {
   "display_name": "Python 3 (ipykernel)",
   "language": "python",
   "name": "python3"
  },
  "language_info": {
   "codemirror_mode": {
    "name": "ipython",
    "version": 3
   },
   "file_extension": ".py",
   "mimetype": "text/x-python",
   "name": "python",
   "nbconvert_exporter": "python",
   "pygments_lexer": "ipython3",
   "version": "3.9.13"
  }
 },
 "nbformat": 4,
 "nbformat_minor": 5
}
