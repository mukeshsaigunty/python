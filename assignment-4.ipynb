{
 "cells": [
  {
   "cell_type": "markdown",
   "id": "c973a634",
   "metadata": {},
   "source": [
    "# Q1. Create a list of your five favorite fruits. Add a new fruit to the end of the list using the appropriate method.\n"
   ]
  },
  {
   "cell_type": "code",
   "execution_count": 2,
   "id": "bed5ddfc",
   "metadata": {},
   "outputs": [
    {
     "name": "stdout",
     "output_type": "stream",
     "text": [
      "['Apple', 'Banana', 'Mango', 'Orange', 'Pineapple', 'Strawberry ']\n"
     ]
    }
   ],
   "source": [
    "lst = [\"Apple\", \"Banana\", \"Mango\", \"Orange\", \"Pineapple\"]\n",
    "lst.append(\"Strawberry \")\n",
    "print(lst)"
   ]
  },
  {
   "cell_type": "markdown",
   "id": "83bc61b6",
   "metadata": {},
   "source": [
    "# Q2. Create a list of numbers from 1 to 5.Insert the number 10 at the second position.\n"
   ]
  },
  {
   "cell_type": "code",
   "execution_count": 3,
   "id": "7b35f1d5",
   "metadata": {},
   "outputs": [
    {
     "name": "stdout",
     "output_type": "stream",
     "text": [
      "[1, 2, 10, 4, 5]\n"
     ]
    }
   ],
   "source": [
    "lst = [1,2,3,4,5]\n",
    "lst[2] = 10\n",
    "print(lst)"
   ]
  },
  {
   "cell_type": "markdown",
   "id": "ef4383d1",
   "metadata": {},
   "source": [
    "# Q3. Create a list with duplicate elements. Use a method to find how many times a particular element appears.\n"
   ]
  },
  {
   "cell_type": "code",
   "execution_count": 7,
   "id": "c6e350fd",
   "metadata": {},
   "outputs": [
    {
     "name": "stdout",
     "output_type": "stream",
     "text": [
      "3\n"
     ]
    }
   ],
   "source": [
    "lst = [1,1,1,2,3,3,4]\n",
    "x = lst.count(1)\n",
    "print(x)"
   ]
  },
  {
   "cell_type": "markdown",
   "id": "86fdfb29",
   "metadata": {},
   "source": [
    "# Q4. Remove the third item from a list of 6 elements using a list method."
   ]
  },
  {
   "cell_type": "code",
   "execution_count": 11,
   "id": "afb6d895",
   "metadata": {},
   "outputs": [
    {
     "name": "stdout",
     "output_type": "stream",
     "text": [
      "[1, 2, 4, 5, 6]\n"
     ]
    }
   ],
   "source": [
    "lst = [1,2,3,4,5,6]\n",
    "lst.remove(3)\n",
    "print(lst)"
   ]
  },
  {
   "cell_type": "markdown",
   "id": "a520afe1",
   "metadata": {},
   "source": [
    "# Q5. Create a list of your three favorite subjects.Replace the second subject with \"Mathematics\".\n"
   ]
  },
  {
   "cell_type": "code",
   "execution_count": 14,
   "id": "d11104bd",
   "metadata": {},
   "outputs": [
    {
     "name": "stdout",
     "output_type": "stream",
     "text": [
      "['Science', 'mathematics', 'English']\n"
     ]
    }
   ],
   "source": [
    "lst = [\"Science\", \"History\",\"English\"]\n",
    "lst[1] = \"mathematics\"\n",
    "print(lst)"
   ]
  },
  {
   "cell_type": "markdown",
   "id": "b2c70336",
   "metadata": {},
   "source": [
    "# Q6. Create a list and remove the last item using the appropriate method."
   ]
  },
  {
   "cell_type": "code",
   "execution_count": 15,
   "id": "71ef3439",
   "metadata": {},
   "outputs": [
    {
     "name": "stdout",
     "output_type": "stream",
     "text": [
      "[1, 2, 3, 4]\n"
     ]
    }
   ],
   "source": [
    "lst = [1,2,3,4,5]\n",
    "lst.pop()\n",
    "print(lst)"
   ]
  },
  {
   "cell_type": "markdown",
   "id": "4010bed2",
   "metadata": {},
   "source": [
    "# Q7. Create a list of countries and add a new country at index 1.\n"
   ]
  },
  {
   "cell_type": "code",
   "execution_count": 16,
   "id": "fa963f60",
   "metadata": {},
   "outputs": [
    {
     "name": "stdout",
     "output_type": "stream",
     "text": [
      "['india', 'srilanka', 'usa']\n"
     ]
    }
   ],
   "source": [
    "lst = [\"india\",\"usa\",]\n",
    "lst.insert(1,\"srilanka\")\n",
    "print(lst)"
   ]
  },
  {
   "cell_type": "markdown",
   "id": "01d3764e",
   "metadata": {},
   "source": [
    "# Q8. Use a list method to find the position of an element in the list."
   ]
  },
  {
   "cell_type": "code",
   "execution_count": 19,
   "id": "dca36a8f",
   "metadata": {},
   "outputs": [
    {
     "name": "stdout",
     "output_type": "stream",
     "text": [
      "2\n"
     ]
    }
   ],
   "source": [
    "lst = [1,2,3,4,5]\n",
    "x = lst.index(3)\n",
    "print(x)"
   ]
  },
  {
   "cell_type": "markdown",
   "id": "1c77c632",
   "metadata": {},
   "source": [
    "# Q9. Create a list and check whether an item \"apple\" exists in it or not (you can use the in keyword)."
   ]
  },
  {
   "cell_type": "code",
   "execution_count": 3,
   "id": "f9128c34",
   "metadata": {},
   "outputs": [
    {
     "data": {
      "text/plain": [
       "True"
      ]
     },
     "execution_count": 3,
     "metadata": {},
     "output_type": "execute_result"
    }
   ],
   "source": [
    "lst = [\"apple\", \"Banana\", \"Mango\", \"Orange\", \"Pineapple\"]\n",
    "\"apple\" in lst\n",
    "\n"
   ]
  },
  {
   "cell_type": "markdown",
   "id": "a871ddc7",
   "metadata": {},
   "source": [
    "# Q10. Make a list and use pop() to remove an item.Store the removed item in a variable and print it.\n"
   ]
  },
  {
   "cell_type": "code",
   "execution_count": 4,
   "id": "a3da93eb",
   "metadata": {},
   "outputs": [
    {
     "name": "stdout",
     "output_type": "stream",
     "text": [
      "5\n"
     ]
    }
   ],
   "source": [
    "lst = [1 ,2,3 ,4,5]\n",
    "b = lst.pop()\n",
    "print(b)"
   ]
  },
  {
   "cell_type": "markdown",
   "id": "7ef275a2",
   "metadata": {},
   "source": [
    "# Q11.Create an empty list and add five elements to it using append().\n"
   ]
  },
  {
   "cell_type": "code",
   "execution_count": 5,
   "id": "dbd1b718",
   "metadata": {},
   "outputs": [
    {
     "name": "stdout",
     "output_type": "stream",
     "text": [
      "[1, 2, 3, 4, 5]\n"
     ]
    }
   ],
   "source": [
    "lst = []\n",
    "lst.append(1)\n",
    "lst.append(2)\n",
    "lst.append(3)\n",
    "lst.append(4)\n",
    "lst.append(5)\n",
    "print(lst)"
   ]
  },
  {
   "cell_type": "markdown",
   "id": "f34434af",
   "metadata": {},
   "source": [
    "# Q12.Create a list of colors and use insert() to add \"purple\" at index 2.\n"
   ]
  },
  {
   "cell_type": "code",
   "execution_count": 7,
   "id": "61cc6a57",
   "metadata": {},
   "outputs": [
    {
     "name": "stdout",
     "output_type": "stream",
     "text": [
      "['Red', 'Blue', 'purple', 'Green', 'Yellow', 'Orange']\n"
     ]
    }
   ],
   "source": [
    "lst = [\"Red\",\"Blue\",\"Green\",\"Yellow\",\"Orange\"]\n",
    "lst.insert(2,\"purple\")\n",
    "print(lst)"
   ]
  },
  {
   "cell_type": "markdown",
   "id": "30c3e8f3",
   "metadata": {},
   "source": [
    "# Q13.Start with a list of two numbers. Append two more numbers. Then insert a number at the beginning."
   ]
  },
  {
   "cell_type": "code",
   "execution_count": 2,
   "id": "50bd6bb6",
   "metadata": {},
   "outputs": [
    {
     "name": "stdout",
     "output_type": "stream",
     "text": [
      "[0, 1, 2, 3, 4]\n"
     ]
    }
   ],
   "source": [
    "lst = [1,2]\n",
    "lst.append(3)\n",
    "lst.append(4)\n",
    "lst.insert(0,0)\n",
    "print(lst)"
   ]
  },
  {
   "cell_type": "markdown",
   "id": "b9509184",
   "metadata": {},
   "source": [
    "# Q14. Create a list of 6 fruits. Remove one by name using remove()."
   ]
  },
  {
   "cell_type": "code",
   "execution_count": 3,
   "id": "ac3dc1cb",
   "metadata": {},
   "outputs": [
    {
     "name": "stdout",
     "output_type": "stream",
     "text": [
      "['Apple', 'Banana', 'Mango', 'Orange', 'Pineapple']\n"
     ]
    }
   ],
   "source": [
    "lst = [\"Apple\", \"Banana\", \"Mango\", \"Orange\", \"Pineapple\",\"Strawberry \"]\n",
    "lst.remove(\"Strawberry \")\n",
    "print(lst)"
   ]
  },
  {
   "cell_type": "markdown",
   "id": "134c5425",
   "metadata": {},
   "source": [
    "# Q15.. Use pop() to remove the last element of a list and print the removed value."
   ]
  },
  {
   "cell_type": "code",
   "execution_count": 4,
   "id": "d0ec336e",
   "metadata": {},
   "outputs": [
    {
     "data": {
      "text/plain": [
       "5"
      ]
     },
     "execution_count": 4,
     "metadata": {},
     "output_type": "execute_result"
    }
   ],
   "source": [
    "x = [1,2,3,4,5]\n",
    "x.pop()"
   ]
  },
  {
   "cell_type": "markdown",
   "id": "dbce8ec7",
   "metadata": {},
   "source": [
    "# Q16. Use pop(index) to remove the third item in a list of countries."
   ]
  },
  {
   "cell_type": "code",
   "execution_count": 6,
   "id": "61240de4",
   "metadata": {},
   "outputs": [
    {
     "name": "stdout",
     "output_type": "stream",
     "text": [
      "['Canada', 'Brazil', 'Japan', 'Kenya']\n"
     ]
    }
   ],
   "source": [
    "lst = [\"Canada\", \"Brazil\", \"Japan\", \"Germany\", \"Kenya\"]\n",
    "lst.pop(3)\n",
    "print(lst)"
   ]
  },
  {
   "cell_type": "markdown",
   "id": "92310485",
   "metadata": {},
   "source": [
    "# Q17.. Try removing an element that doesn’t exist from a list using remove(). What happens?"
   ]
  },
  {
   "cell_type": "code",
   "execution_count": 7,
   "id": "b2f86ff7",
   "metadata": {},
   "outputs": [
    {
     "ename": "ValueError",
     "evalue": "list.remove(x): x not in list",
     "output_type": "error",
     "traceback": [
      "\u001b[1;31m---------------------------------------------------------------------------\u001b[0m",
      "\u001b[1;31mValueError\u001b[0m                                Traceback (most recent call last)",
      "\u001b[1;32m~\\AppData\\Local\\Temp\\ipykernel_21168\\2114799804.py\u001b[0m in \u001b[0;36m<module>\u001b[1;34m\u001b[0m\n\u001b[0;32m      1\u001b[0m \u001b[0mlst\u001b[0m \u001b[1;33m=\u001b[0m \u001b[1;33m[\u001b[0m\u001b[1;36m1\u001b[0m\u001b[1;33m,\u001b[0m\u001b[1;36m2\u001b[0m\u001b[1;33m,\u001b[0m\u001b[1;36m3\u001b[0m\u001b[1;33m,\u001b[0m\u001b[1;36m4\u001b[0m\u001b[1;33m,\u001b[0m\u001b[1;36m5\u001b[0m\u001b[1;33m]\u001b[0m\u001b[1;33m\u001b[0m\u001b[1;33m\u001b[0m\u001b[0m\n\u001b[1;32m----> 2\u001b[1;33m \u001b[0mlst\u001b[0m\u001b[1;33m.\u001b[0m\u001b[0mremove\u001b[0m\u001b[1;33m(\u001b[0m\u001b[1;36m6\u001b[0m\u001b[1;33m)\u001b[0m\u001b[1;33m\u001b[0m\u001b[1;33m\u001b[0m\u001b[0m\n\u001b[0m",
      "\u001b[1;31mValueError\u001b[0m: list.remove(x): x not in list"
     ]
    }
   ],
   "source": [
    "lst = [1,2,3,4,5]\n",
    "lst.remove(6)"
   ]
  },
  {
   "cell_type": "markdown",
   "id": "feca0612",
   "metadata": {},
   "source": [
    "# Q18.Create a list with repeated numbers. Use count() to find how many times 3 appears."
   ]
  },
  {
   "cell_type": "code",
   "execution_count": 8,
   "id": "46915b75",
   "metadata": {},
   "outputs": [
    {
     "name": "stdout",
     "output_type": "stream",
     "text": [
      "2\n"
     ]
    }
   ],
   "source": [
    "lst = [1,1,2,2,2,3,3,4,]\n",
    "x = lst.count(3)\n",
    "print(x)"
   ]
  },
  {
   "cell_type": "markdown",
   "id": "f3eb4e1b",
   "metadata": {},
   "source": [
    "# 19.Create a list of animal names and use index() to find the position of \"cat\"."
   ]
  },
  {
   "cell_type": "code",
   "execution_count": 9,
   "id": "833ce0ac",
   "metadata": {},
   "outputs": [
    {
     "data": {
      "text/plain": [
       "1"
      ]
     },
     "execution_count": 9,
     "metadata": {},
     "output_type": "execute_result"
    }
   ],
   "source": [
    "lst = [\"dog\",\"cat\",\"tiger\"]\n",
    "lst.index(\"cat\")"
   ]
  },
  {
   "cell_type": "markdown",
   "id": "e068cb3a",
   "metadata": {},
   "source": [
    "# Q20.What happens if you use index() for a value not in the list? Try it and note the result."
   ]
  },
  {
   "cell_type": "code",
   "execution_count": 10,
   "id": "676d611f",
   "metadata": {},
   "outputs": [
    {
     "ename": "ValueError",
     "evalue": "7 is not in list",
     "output_type": "error",
     "traceback": [
      "\u001b[1;31m---------------------------------------------------------------------------\u001b[0m",
      "\u001b[1;31mValueError\u001b[0m                                Traceback (most recent call last)",
      "\u001b[1;32m~\\AppData\\Local\\Temp\\ipykernel_21168\\3535086408.py\u001b[0m in \u001b[0;36m<module>\u001b[1;34m\u001b[0m\n\u001b[0;32m      1\u001b[0m \u001b[0mx\u001b[0m \u001b[1;33m=\u001b[0m \u001b[1;33m[\u001b[0m\u001b[1;36m1\u001b[0m\u001b[1;33m,\u001b[0m\u001b[1;36m2\u001b[0m\u001b[1;33m,\u001b[0m\u001b[1;36m3\u001b[0m\u001b[1;33m,\u001b[0m\u001b[1;36m4\u001b[0m\u001b[1;33m,\u001b[0m\u001b[1;36m5\u001b[0m\u001b[1;33m]\u001b[0m\u001b[1;33m\u001b[0m\u001b[1;33m\u001b[0m\u001b[0m\n\u001b[1;32m----> 2\u001b[1;33m \u001b[0mx\u001b[0m\u001b[1;33m.\u001b[0m\u001b[0mindex\u001b[0m\u001b[1;33m(\u001b[0m\u001b[1;36m7\u001b[0m\u001b[1;33m)\u001b[0m\u001b[1;33m\u001b[0m\u001b[1;33m\u001b[0m\u001b[0m\n\u001b[0m",
      "\u001b[1;31mValueError\u001b[0m: 7 is not in list"
     ]
    }
   ],
   "source": [
    "x = [1,2,3,4,5]\n",
    "x.index(7)"
   ]
  },
  {
   "cell_type": "markdown",
   "id": "cac357c0",
   "metadata": {},
   "source": [
    "# Q21.Create a list of numbers in random order. Use sort() to sort them in ascending order."
   ]
  },
  {
   "cell_type": "code",
   "execution_count": 13,
   "id": "25445c45",
   "metadata": {},
   "outputs": [
    {
     "name": "stdout",
     "output_type": "stream",
     "text": [
      "[1, 2, 5, 6, 8, 23, 34]\n"
     ]
    }
   ],
   "source": [
    "lst = [1,2,5,6,8,34,23]\n",
    "lst.sort()\n",
    "print(lst)"
   ]
  },
  {
   "cell_type": "markdown",
   "id": "6d215924",
   "metadata": {},
   "source": [
    "# Q22.Create a list of names and sort them alphabetically."
   ]
  },
  {
   "cell_type": "code",
   "execution_count": 14,
   "id": "d872cd2a",
   "metadata": {},
   "outputs": [
    {
     "name": "stdout",
     "output_type": "stream",
     "text": [
      "['kishore', 'mukesh', 'sai', 'sanjay']\n"
     ]
    }
   ],
   "source": [
    "names = [\"sai\",\"mukesh\",\"sanjay\",\"kishore\"]\n",
    "names.sort()\n",
    "print(names)"
   ]
  },
  {
   "cell_type": "markdown",
   "id": "275cf57d",
   "metadata": {},
   "source": [
    "# 23.. Sort a list in descending order using sort(reverse=True)."
   ]
  },
  {
   "cell_type": "code",
   "execution_count": 15,
   "id": "77ad0869",
   "metadata": {},
   "outputs": [
    {
     "name": "stdout",
     "output_type": "stream",
     "text": [
      "[7, 5, 4, 3, 3, 2, 1, 1]\n"
     ]
    }
   ],
   "source": [
    "lst = [2,3,1,4,5,1,3,7]\n",
    "lst.sort(reverse=True)\n",
    "print(lst)"
   ]
  },
  {
   "cell_type": "markdown",
   "id": "49a05697",
   "metadata": {},
   "source": [
    "# Q24. Use reverse() to flip the order of any list."
   ]
  },
  {
   "cell_type": "code",
   "execution_count": 16,
   "id": "11c0f84e",
   "metadata": {},
   "outputs": [
    {
     "name": "stdout",
     "output_type": "stream",
     "text": [
      "[5, 4, 3, 2, 1]\n"
     ]
    }
   ],
   "source": [
    "lst = [1,2,3,4,5]\n",
    "lst.reverse()\n",
    "print(lst)"
   ]
  },
  {
   "cell_type": "markdown",
   "id": "a535c04a",
   "metadata": {},
   "source": [
    "# Q25.Create a list and make a copy using copy(). Change something in the copy. Show that the original list is unchanged."
   ]
  },
  {
   "cell_type": "code",
   "execution_count": 17,
   "id": "cc122027",
   "metadata": {},
   "outputs": [
    {
     "name": "stdout",
     "output_type": "stream",
     "text": [
      "[1, 2, 3, 4]\n",
      "[1, 90, 3, 4]\n"
     ]
    }
   ],
   "source": [
    "x = [1,2,3,4]\n",
    "c = x.copy()\n",
    "c[1] = 90\n",
    "print(x)\n",
    "print(c)"
   ]
  },
  {
   "cell_type": "markdown",
   "id": "ec23f6d3",
   "metadata": {},
   "source": [
    "# Q26.Create a list with some elements. Use clear() and show that it becomes empty."
   ]
  },
  {
   "cell_type": "code",
   "execution_count": 19,
   "id": "138dce78",
   "metadata": {},
   "outputs": [
    {
     "name": "stdout",
     "output_type": "stream",
     "text": [
      "[]\n"
     ]
    }
   ],
   "source": [
    "x = [1,2,3,4]\n",
    "y = x.clear()\n",
    "print(x)"
   ]
  },
  {
   "cell_type": "markdown",
   "id": "2e56a4dd",
   "metadata": {},
   "source": [
    "# Q27.Create a list of 5 numbers.Insert a number at index 2, then remove the first number, then append a new number.Print after each step.\n"
   ]
  },
  {
   "cell_type": "code",
   "execution_count": 22,
   "id": "98aa6a90",
   "metadata": {},
   "outputs": [
    {
     "name": "stdout",
     "output_type": "stream",
     "text": [
      "[2, 7, 3, 4, 5, 10]\n"
     ]
    }
   ],
   "source": [
    "lst = [1,2,3,4,5]\n",
    "lst.insert(2,7)\n",
    "lst.remove(1)\n",
    "lst.append(10)\n",
    "print(lst)"
   ]
  },
  {
   "cell_type": "markdown",
   "id": "c016d8f1",
   "metadata": {},
   "source": [
    "# Q28. Create a list of 4 friends' names.Sort the list, reverse it, then remove the second name using pop().\n"
   ]
  },
  {
   "cell_type": "code",
   "execution_count": 24,
   "id": "478f9fc8",
   "metadata": {},
   "outputs": [
    {
     "name": "stdout",
     "output_type": "stream",
     "text": [
      "['teja', 'sai', 'mukesh']\n"
     ]
    }
   ],
   "source": [
    "frd = [\"ram\",\"sai\",\"teja\",\"mukesh\"]\n",
    "frd.sort()\n",
    "frd.reverse()\n",
    "frd.pop(2)\n",
    "print(frd)"
   ]
  },
  {
   "cell_type": "markdown",
   "id": "35dff426",
   "metadata": {},
   "source": [
    "# Q29. Make a list with 3 elements.Add one element using append(), one using insert(), then remove the last using pop()"
   ]
  },
  {
   "cell_type": "code",
   "execution_count": 26,
   "id": "863f8a6d",
   "metadata": {},
   "outputs": [
    {
     "name": "stdout",
     "output_type": "stream",
     "text": [
      "[1, 2, 7, 3]\n"
     ]
    }
   ],
   "source": [
    "lst = [1,2,3]\n",
    "lst.append(5)\n",
    "lst.insert(2,7)\n",
    "lst.pop()\n",
    "print(lst)"
   ]
  },
  {
   "cell_type": "markdown",
   "id": "559a53a5",
   "metadata": {},
   "source": [
    "# Q30.Copy a list of places you want to visit.Clear the copied list. Show both lists after each step to prove they are independent.\n"
   ]
  },
  {
   "cell_type": "code",
   "execution_count": 28,
   "id": "06f62a8d",
   "metadata": {},
   "outputs": [
    {
     "name": "stdout",
     "output_type": "stream",
     "text": [
      "[1, 2, 3, 4, 5]\n",
      "[1, 2, 3, 4, 5]\n",
      "[1, 2, 3, 4, 5]\n",
      "[]\n"
     ]
    }
   ],
   "source": [
    "x = [1,2,3,4,5]\n",
    "y = x.copy()\n",
    "print(x)\n",
    "print(y)\n",
    "y.clear()\n",
    "print(x)\n",
    "print(y)\n"
   ]
  },
  {
   "cell_type": "code",
   "execution_count": null,
   "id": "f8a5c142",
   "metadata": {},
   "outputs": [],
   "source": []
  }
 ],
 "metadata": {
  "kernelspec": {
   "display_name": "Python 3 (ipykernel)",
   "language": "python",
   "name": "python3"
  },
  "language_info": {
   "codemirror_mode": {
    "name": "ipython",
    "version": 3
   },
   "file_extension": ".py",
   "mimetype": "text/x-python",
   "name": "python",
   "nbconvert_exporter": "python",
   "pygments_lexer": "ipython3",
   "version": "3.9.13"
  }
 },
 "nbformat": 4,
 "nbformat_minor": 5
}
