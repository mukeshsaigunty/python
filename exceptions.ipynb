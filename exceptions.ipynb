{
 "cells": [
  {
   "cell_type": "markdown",
   "id": "2edba378",
   "metadata": {},
   "source": [
    "# Exception Handling\n",
    "- is a programming concept used to manage errors and unexpected conditions in a program without crashing it. It allows a program to respond to different types of errors in a controlled way.\n",
    "\n"
   ]
  },
  {
   "cell_type": "code",
   "execution_count": 5,
   "id": "1c13cdb8",
   "metadata": {},
   "outputs": [
    {
     "ename": "SyntaxError",
     "evalue": "invalid syntax (4222193467.py, line 2)",
     "output_type": "error",
     "traceback": [
      "\u001b[1;36m  File \u001b[1;32m\"C:\\Users\\G.MUKESH SAI\\AppData\\Local\\Temp\\ipykernel_29976\\4222193467.py\"\u001b[1;36m, line \u001b[1;32m2\u001b[0m\n\u001b[1;33m    -  try:\u001b[0m\n\u001b[1;37m       ^\u001b[0m\n\u001b[1;31mSyntaxError\u001b[0m\u001b[1;31m:\u001b[0m invalid syntax\n"
     ]
    }
   ],
   "source": [
    "# Basic syntax of Exception Handling:\n",
    "-  try:\n",
    "-   code that might raise an exception\n",
    "- except ExceptionType:\n",
    "-    code to handle the exception\n",
    "- else:\n",
    "-   cod that runs if no exceptio occurs\n",
    "- finally:\n",
    "-    code that always runs regardless of exceptions"
   ]
  },
  {
   "cell_type": "code",
   "execution_count": 1,
   "id": "4730745e",
   "metadata": {},
   "outputs": [
    {
     "name": "stdout",
     "output_type": "stream",
     "text": [
      "Error\n",
      "13\n"
     ]
    }
   ],
   "source": [
    "a = 10\n",
    "b = 3\n",
    "try:\n",
    "    print(c)\n",
    "except:\n",
    "    print(\"Error\")\n",
    "d = a+b \n",
    "print(d)"
   ]
  },
  {
   "cell_type": "code",
   "execution_count": 3,
   "id": "8f890cc4",
   "metadata": {},
   "outputs": [
    {
     "name": "stdout",
     "output_type": "stream",
     "text": [
      "4\n",
      "no error\n",
      "done\n",
      "13\n"
     ]
    }
   ],
   "source": [
    "a = 10\n",
    "b = 3\n",
    "c = 4\n",
    "try:\n",
    "    print(c)\n",
    "except:\n",
    "    print(\"Error\")\n",
    "else:\n",
    "    print(\"no error\")\n",
    "finally:\n",
    "    print(\"done\")\n",
    "d = a+b \n",
    "print(d)"
   ]
  },
  {
   "cell_type": "markdown",
   "id": "7bfd926d",
   "metadata": {},
   "source": [
    "# 1.Handling ZeroDivisionError"
   ]
  },
  {
   "cell_type": "code",
   "execution_count": 6,
   "id": "13409145",
   "metadata": {},
   "outputs": [
    {
     "name": "stdout",
     "output_type": "stream",
     "text": [
      "proceed\n"
     ]
    },
    {
     "data": {
      "text/plain": [
       "10"
      ]
     },
     "execution_count": 6,
     "metadata": {},
     "output_type": "execute_result"
    }
   ],
   "source": [
    "a = 10\n",
    "b = 0\n",
    "try:\n",
    "    res = a/b\n",
    "except ZeroDivisionError:\n",
    "    print(\"proceed\")\n",
    "a + b"
   ]
  },
  {
   "cell_type": "markdown",
   "id": "526c36e3",
   "metadata": {},
   "source": [
    "# types of errors\n",
    "- ZeroDivisionError\n",
    "- ValueError\n",
    "- TypeError\n",
    "- IndexError\n",
    "- key error\n",
    "- FileNotFoundError\n",
    "- AttributeError\n",
    "- importError/ModuleNotFoundError\n"
   ]
  },
  {
   "cell_type": "markdown",
   "id": "64679d7d",
   "metadata": {},
   "source": [
    "# value error\n",
    "- A ValueError in Python occurs when a function receives an argument of the right type but an inappropriate value."
   ]
  },
  {
   "cell_type": "code",
   "execution_count": 8,
   "id": "5dcda9c4",
   "metadata": {},
   "outputs": [
    {
     "name": "stdout",
     "output_type": "stream",
     "text": [
      "Error\n",
      "Done\n"
     ]
    },
    {
     "data": {
      "text/plain": [
       "3"
      ]
     },
     "execution_count": 8,
     "metadata": {},
     "output_type": "execute_result"
    }
   ],
   "source": [
    "n = \"sai\"\n",
    "a = 1\n",
    "b = 2\n",
    "try:\n",
    "    int(n)\n",
    "except:\n",
    "    print(\"Error\")\n",
    "else:\n",
    "    print(f\" value {value}\")\n",
    "finally:\n",
    "    print(\"Done\")\n",
    "a+b\n",
    "          "
   ]
  },
  {
   "cell_type": "markdown",
   "id": "9b473ad7",
   "metadata": {},
   "source": [
    "# TypeError\n",
    "-A TypeError is raised when an operation or function is applied to an object of inappropriate type. Unlike ValueError, where the type is correct but the value is invalid, a TypeError means the type itself is wrong."
   ]
  },
  {
   "cell_type": "code",
   "execution_count": 9,
   "id": "20b24fed",
   "metadata": {},
   "outputs": [
    {
     "name": "stdout",
     "output_type": "stream",
     "text": [
      "Error\n",
      "done\n"
     ]
    },
    {
     "data": {
      "text/plain": [
       "11"
      ]
     },
     "execution_count": 9,
     "metadata": {},
     "output_type": "execute_result"
    }
   ],
   "source": [
    "a = 5\n",
    "b = \"abc\"\n",
    "c = 6\n",
    "try:\n",
    "    a+b\n",
    "except:\n",
    "    print(\"Error\")\n",
    "else:\n",
    "    print(a+b)\n",
    "finally:\n",
    "    print(\"done\")\n",
    "a+c"
   ]
  },
  {
   "cell_type": "markdown",
   "id": "810e4899",
   "metadata": {},
   "source": [
    "# IndexError\n",
    "- An IndexError occurs when you try to access an index that is outside the bounds of a list, string, tuple, or other indexable objects."
   ]
  },
  {
   "cell_type": "code",
   "execution_count": 10,
   "id": "5c94c31c",
   "metadata": {},
   "outputs": [
    {
     "name": "stdout",
     "output_type": "stream",
     "text": [
      "Error\n",
      "done\n"
     ]
    },
    {
     "data": {
      "text/plain": [
       "[1, 2, 3]"
      ]
     },
     "execution_count": 10,
     "metadata": {},
     "output_type": "execute_result"
    }
   ],
   "source": [
    "l = [1,2,3]\n",
    "try:\n",
    "    print(l[5])\n",
    "    a+b\n",
    "except:\n",
    "    print(\"Error\")\n",
    "else:\n",
    "    print(l)\n",
    "finally:\n",
    "    print(\"done\")\n",
    "l"
   ]
  },
  {
   "cell_type": "markdown",
   "id": "b34e9f4b",
   "metadata": {},
   "source": [
    "# key error\n",
    "- A KeyError occurs when you try to access a key in a dictionary that doesn't exist."
   ]
  },
  {
   "cell_type": "code",
   "execution_count": null,
   "id": "b9e26f72",
   "metadata": {},
   "outputs": [],
   "source": []
  }
 ],
 "metadata": {
  "kernelspec": {
   "display_name": "Python 3 (ipykernel)",
   "language": "python",
   "name": "python3"
  },
  "language_info": {
   "codemirror_mode": {
    "name": "ipython",
    "version": 3
   },
   "file_extension": ".py",
   "mimetype": "text/x-python",
   "name": "python",
   "nbconvert_exporter": "python",
   "pygments_lexer": "ipython3",
   "version": "3.9.13"
  }
 },
 "nbformat": 4,
 "nbformat_minor": 5
}
