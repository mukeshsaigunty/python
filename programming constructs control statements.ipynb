{
 "cells": [
  {
   "cell_type": "markdown",
   "id": "bda901aa",
   "metadata": {},
   "source": [
    "- Programming constructs are the building blocks of code. Control statements are a type of construct that allow you to control the flow of execution in a program."
   ]
  },
  {
   "cell_type": "markdown",
   "id": "692803e6",
   "metadata": {},
   "source": [
    "# 2 types of control statements\n",
    "- conditional statement\n",
    "- loop statement"
   ]
  },
  {
   "cell_type": "markdown",
   "id": "5ddaa27d",
   "metadata": {},
   "source": [
    "# conditional statement\n",
    "- A conditional statement allows your program to make decisions and execute code based on conditions (usually True or False evaluations).\n",
    "- if\n",
    "- if-else\n",
    "- elif\n",
    "- nested if\n"
   ]
  },
  {
   "cell_type": "markdown",
   "id": "eea0989c",
   "metadata": {},
   "source": [
    "# if conditional statement\n",
    "- evaluate whether the condition is true or not \n",
    "- if condition is Ture it executes block of code otherwise(False) it will not execute block of code\n",
    "- syntax -> if condition :"
   ]
  },
  {
   "cell_type": "code",
   "execution_count": 1,
   "id": "00acd548",
   "metadata": {},
   "outputs": [
    {
     "name": "stdout",
     "output_type": "stream",
     "text": [
      "5 : is x is greater than 4\n"
     ]
    }
   ],
   "source": [
    "x = 5\n",
    "if (x > 4):\n",
    "    print(x,\": is x is greater than 4\")"
   ]
  },
  {
   "cell_type": "code",
   "execution_count": 3,
   "id": "57fe1ce5",
   "metadata": {},
   "outputs": [],
   "source": [
    "x = 5 # when condition False then code block does not executed\n",
    "if (x > 6):\n",
    "    print(x,\": is x is greater than 4\")"
   ]
  },
  {
   "cell_type": "code",
   "execution_count": 4,
   "id": "2b6eaee0",
   "metadata": {},
   "outputs": [
    {
     "name": "stdout",
     "output_type": "stream",
     "text": [
      "5 : is x is greater than 4\n",
      "good morning\n"
     ]
    }
   ],
   "source": [
    "x = 5\n",
    "if (x > 4):\n",
    "    print(x,\": is x is greater than 4\")\n",
    "    print(\"good morning\")"
   ]
  },
  {
   "cell_type": "code",
   "execution_count": 5,
   "id": "1a497208",
   "metadata": {},
   "outputs": [
    {
     "name": "stdout",
     "output_type": "stream",
     "text": [
      "good morning\n"
     ]
    }
   ],
   "source": [
    "x = 5\n",
    "if (x > 6):\n",
    "    print(x,\": is x is greater than 4\")\n",
    "print(\"good morning\")"
   ]
  },
  {
   "cell_type": "markdown",
   "id": "00b5b6d1",
   "metadata": {},
   "source": [
    "# if-else\n",
    "- An if-else statement lets a program choose between two options:\n",
    "- Do something if a condition is true\n",
    "- Do something else if it's false"
   ]
  },
  {
   "cell_type": "code",
   "execution_count": 7,
   "id": "d3724582",
   "metadata": {},
   "outputs": [
    {
     "name": "stdout",
     "output_type": "stream",
     "text": [
      " enter the value6\n",
      "6 : yes\n"
     ]
    }
   ],
   "source": [
    "x = int(input(\" enter the value\"))\n",
    "if (x>4):\n",
    "    print(x,\": yes\")\n",
    "else:\n",
    "    print(\"no\")"
   ]
  },
  {
   "cell_type": "code",
   "execution_count": 8,
   "id": "d08bf336",
   "metadata": {},
   "outputs": [
    {
     "name": "stdout",
     "output_type": "stream",
     "text": [
      " enter the value6\n",
      "6 : yes\n",
      "have nice day\n"
     ]
    }
   ],
   "source": [
    "x = int(input(\" enter the value\"))\n",
    "if (x>4):\n",
    "    print(x,\": yes\")\n",
    "else:\n",
    "    print(\"no\")\n",
    "print(\"have nice day\")"
   ]
  },
  {
   "cell_type": "code",
   "execution_count": 9,
   "id": "f796ccab",
   "metadata": {},
   "outputs": [
    {
     "name": "stdout",
     "output_type": "stream",
     "text": [
      "enter the number :5\n",
      "odd\n"
     ]
    }
   ],
   "source": [
    "num = int(input(\"enter the number :\"))\n",
    "if(num%2==0):\n",
    "    print(\"even\")\n",
    "else:\n",
    "    print(\"odd\")"
   ]
  },
  {
   "cell_type": "code",
   "execution_count": 10,
   "id": "bf4fa362",
   "metadata": {},
   "outputs": [
    {
     "name": "stdout",
     "output_type": "stream",
     "text": [
      "enter the number :-1\n",
      "negative\n"
     ]
    }
   ],
   "source": [
    "num = int(input(\"enter the number :\"))\n",
    "if(num<0):\n",
    "    print(\"negative\")\n",
    "else:\n",
    "    print(\"positive\")"
   ]
  },
  {
   "cell_type": "code",
   "execution_count": 12,
   "id": "a99c6f2a",
   "metadata": {},
   "outputs": [
    {
     "name": "stdout",
     "output_type": "stream",
     "text": [
      "enter the age :19\n",
      "right to vote\n"
     ]
    }
   ],
   "source": [
    "age = int(input(\"enter the age :\"))\n",
    "if(age >= 18):\n",
    "    print(\"right to vote\")\n",
    "else:\n",
    "    print(\"not\")\n",
    "    "
   ]
  },
  {
   "cell_type": "code",
   "execution_count": 13,
   "id": "c36dcede",
   "metadata": {},
   "outputs": [
    {
     "name": "stdout",
     "output_type": "stream",
     "text": [
      "111\n",
      "yes\n"
     ]
    }
   ],
   "source": [
    "num = input()\n",
    "if(num == num[::-1]):\n",
    "    print(\"yes\")\n",
    "else:\n",
    "    print(\"no\")"
   ]
  },
  {
   "cell_type": "code",
   "execution_count": 4,
   "id": "5ea8e2d1",
   "metadata": {},
   "outputs": [
    {
     "name": "stdout",
     "output_type": "stream",
     "text": [
      "sai\n",
      "yes\n"
     ]
    }
   ],
   "source": [
    "lst = [\"mukesh\",\"sai\",\"ram\"]\n",
    "x = input().lower()\n",
    "if(x in lst):\n",
    "    print(\"yes\")\n",
    "else:\n",
    "    print(\"no\")"
   ]
  },
  {
   "cell_type": "code",
   "execution_count": 5,
   "id": "827a5228",
   "metadata": {},
   "outputs": [
    {
     "name": "stdout",
     "output_type": "stream",
     "text": [
      "enter the password :sdnkdsfnhjk\n",
      "strong\n"
     ]
    }
   ],
   "source": [
    "password = input(\"enter the password :\")\n",
    "if(len(password)<8):\n",
    "    print(\"week\")\n",
    "else:\n",
    "    print(\"strong\")"
   ]
  },
  {
   "cell_type": "code",
   "execution_count": 1,
   "id": "5c7133b9",
   "metadata": {},
   "outputs": [
    {
     "name": "stdout",
     "output_type": "stream",
     "text": [
      "enter the marks :45\n",
      "p\n"
     ]
    }
   ],
   "source": [
    "m = int(input(\"enter the marks :\"))\n",
    "if(m>=36):\n",
    "    print(\"p\")\n",
    "else:\n",
    "    print(\"f\")"
   ]
  },
  {
   "cell_type": "code",
   "execution_count": 2,
   "id": "a3c6fb2c",
   "metadata": {},
   "outputs": [
    {
     "name": "stdout",
     "output_type": "stream",
     "text": [
      "enter the marks :30\n",
      "f\n"
     ]
    }
   ],
   "source": [
    "m = int(input(\"enter the marks :\"))\n",
    "if(m>=36):\n",
    "    print(\"p\")\n",
    "else:\n",
    "    print(\"f\")"
   ]
  },
  {
   "cell_type": "markdown",
   "id": "3bd90fb4",
   "metadata": {},
   "source": [
    "# if-elif-else"
   ]
  },
  {
   "cell_type": "code",
   "execution_count": 5,
   "id": "e7a8d58b",
   "metadata": {},
   "outputs": [
    {
     "name": "stdout",
     "output_type": "stream",
     "text": [
      "enter the value :5\n",
      "5 : is postive\n"
     ]
    }
   ],
   "source": [
    "x = int(input(\"enter the value :\"))\n",
    "if x > 0:\n",
    "    print(x,\": is postive\")\n",
    "elif x < 0:\n",
    "    print(x,\": is negative\")\n",
    "else:\n",
    "    print(\"zero\")"
   ]
  },
  {
   "cell_type": "code",
   "execution_count": 9,
   "id": "0767ed3f",
   "metadata": {},
   "outputs": [
    {
     "name": "stdout",
     "output_type": "stream",
     "text": [
      "enter the number :3\n",
      "enter the number :6\n",
      "enter the number :4\n",
      "6 is greater\n"
     ]
    }
   ],
   "source": [
    "a = int(input(\"enter the number :\"))\n",
    "b = int(input(\"enter the number :\"))\n",
    "c = int(input(\"enter the number :\"))\n",
    "if(a > b):\n",
    "    print(a,\"is greater\")\n",
    "elif(b > c):\n",
    "    print(b,\"is greater\")\n",
    "else:\n",
    "    print(c,\"is greater\")"
   ]
  },
  {
   "cell_type": "code",
   "execution_count": 10,
   "id": "eefb09f1",
   "metadata": {},
   "outputs": [
    {
     "name": "stdout",
     "output_type": "stream",
     "text": [
      "enter the day :mon\n",
      "week day\n"
     ]
    }
   ],
   "source": [
    "lst = [\"mon\",\"tue\",\"wed\",\"thus\"\"fri\",\"sat\",\"sun\"]\n",
    "lst.lower\n",
    "day = input(\"enter the day :\")\n",
    "if(day in lst[0:4]):\n",
    "    print(\"week day\")\n",
    "else:\n",
    "    print(\"weekend\")\n"
   ]
  },
  {
   "cell_type": "code",
   "execution_count": 14,
   "id": "38a0e1ab",
   "metadata": {},
   "outputs": [
    {
     "name": "stdout",
     "output_type": "stream",
     "text": [
      "enter the number :10\n",
      "enter the number :2\n",
      "enter operator(+,-,*,/)e\n",
      "c: 5.0\n"
     ]
    }
   ],
   "source": [
    "a = int(input(\"enter the number :\"))\n",
    "b = int(input(\"enter the number :\"))\n",
    "c = input(\"enter operator(+,-,*,/)\")\n",
    "if (c == '+'):\n",
    "    print(\"c:\",a + b)\n",
    "elif (c == '-'):\n",
    "    print(\"c:\",a - b)\n",
    "elif (c == '*'):\n",
    "    print(\"c:\",a * b)\n",
    "else:\n",
    "    print(\"c:\",a / b)"
   ]
  },
  {
   "cell_type": "code",
   "execution_count": 15,
   "id": "60aa8d14",
   "metadata": {},
   "outputs": [
    {
     "name": "stdout",
     "output_type": "stream",
     "text": [
      "enter the price400\n",
      "dis given:5%\n"
     ]
    }
   ],
   "source": [
    "price = int(input(\"enter the price\"))\n",
    "if price >2000:\n",
    "    dis = 20\n",
    "elif price > 1000:\n",
    "    dis = 10\n",
    "else:\n",
    "    discount = 5\n",
    "print(f\"dis given:{discount}%\")"
   ]
  },
  {
   "cell_type": "markdown",
   "id": "f0d536c1",
   "metadata": {},
   "source": [
    "# nested if\n",
    "- A nested if is an if statement placed inside another if or else block. It's used to check multiple conditions in a hierarchical or step-by-step manner.\n",
    "\n"
   ]
  },
  {
   "cell_type": "code",
   "execution_count": 1,
   "id": "158e4e90",
   "metadata": {},
   "outputs": [
    {
     "name": "stdout",
     "output_type": "stream",
     "text": [
      "enter the value :34\n",
      "yes\n",
      "value is less than 50\n",
      "is a even number\n"
     ]
    }
   ],
   "source": [
    "x = int(input(\"enter the value :\"))\n",
    "if(x > 0):\n",
    "    print(\"yes\")\n",
    "    if(x <= 50):\n",
    "        print(\"value is less than 50\")\n",
    "        if(x % 2 == 0):\n",
    "            print(\"is a even number\")\n",
    "        "
   ]
  },
  {
   "cell_type": "code",
   "execution_count": 2,
   "id": "f218fac5",
   "metadata": {},
   "outputs": [
    {
     "name": "stdout",
     "output_type": "stream",
     "text": [
      "enter the value :43\n",
      "yes\n",
      "value is less than 50\n",
      "is a odd number\n"
     ]
    }
   ],
   "source": [
    "x = int(input(\"enter the value :\"))\n",
    "if(x > 0):\n",
    "    print(\"yes\")\n",
    "    if(x <= 50):\n",
    "        print(\"value is less than 50\")\n",
    "        if(x % 2 == 0):\n",
    "            print(\"is a even number\")\n",
    "        else:\n",
    "            print(\"is a odd number\")\n",
    "        "
   ]
  },
  {
   "cell_type": "code",
   "execution_count": 3,
   "id": "b6d0cf37",
   "metadata": {},
   "outputs": [
    {
     "name": "stdout",
     "output_type": "stream",
     "text": [
      "enter the value :54\n",
      "yes\n",
      "value is greaterthan 50\n"
     ]
    }
   ],
   "source": [
    "x = int(input(\"enter the value :\"))\n",
    "if(x > 0):\n",
    "    print(\"yes\")\n",
    "    if(x <= 50):\n",
    "        print(\"value is less than 50\")\n",
    "        if(x % 2 == 0):\n",
    "            print(\"is a even number\")\n",
    "        else:\n",
    "            print(\"is a odd number\")\n",
    "    else:\n",
    "        print(\"value is greaterthan 50\")"
   ]
  },
  {
   "cell_type": "code",
   "execution_count": 4,
   "id": "8237450f",
   "metadata": {},
   "outputs": [
    {
     "name": "stdout",
     "output_type": "stream",
     "text": [
      "enter the value :0\n",
      "invalid\n"
     ]
    }
   ],
   "source": [
    "x = int(input(\"enter the value :\"))\n",
    "if(x > 0):\n",
    "    print(\"yes\")\n",
    "    if(x <= 50):\n",
    "        print(\"value is less than 50\")\n",
    "        if(x % 2 == 0):\n",
    "            print(\"is a even number\")\n",
    "        else:\n",
    "            print(\"is a odd number\")\n",
    "    else:\n",
    "        print(\"value is greaterthan 50\")\n",
    "else:\n",
    "    print(\"invalid\")"
   ]
  },
  {
   "cell_type": "code",
   "execution_count": 8,
   "id": "9c532a47",
   "metadata": {},
   "outputs": [
    {
     "name": "stdout",
     "output_type": "stream",
     "text": [
      "enter the grade80\n",
      "enter the attendence90\n",
      "selected\n"
     ]
    }
   ],
   "source": [
    "student_grade = int(input(\"enter the grade\"))\n",
    "attendance = int(input(\"enter the attendence\"))\n",
    "if(student_grade>75 and attendance>75):\n",
    "    print(\"selected\")\n",
    "    if(student_grade<75 and attendance<75):\n",
    "            print(\"not selected\")"
   ]
  },
  {
   "cell_type": "code",
   "execution_count": 7,
   "id": "de73a156",
   "metadata": {},
   "outputs": [
    {
     "name": "stdout",
     "output_type": "stream",
     "text": [
      "enter the price: 200\n",
      "enter the age: 2\n",
      "enter the day: mon\n",
      "enter the discount20\n",
      "free\n"
     ]
    }
   ],
   "source": [
    "price = int(input(\"enter the price: \"))\n",
    "age = int(input(\"enter the age: \"))\n",
    "day = input(\"enter the day: \")\n",
    "week = int(input(\"enter the discount\"))\n",
    "week = \"mon,tue,wed,thus\"\n",
    "weekend = \"fri,sat,sun\"\n",
    "if(age >3):\n",
    "    if(day in res):\n",
    "        print(\"final price\",(adult_price-price*dis)/100)\n",
    "    else:\n",
    "        print(\"final price :\",price)\n",
    "else:\n",
    "    print(\"free\")"
   ]
  },
  {
   "cell_type": "code",
   "execution_count": 2,
   "id": "a2f8cf52",
   "metadata": {},
   "outputs": [
    {
     "name": "stdout",
     "output_type": "stream",
     "text": [
      "enter the data :avalible\n",
      "enter room typesingle\n",
      "rooms are avaliable\n",
      "room price:  1000\n"
     ]
    }
   ],
   "source": [
    "hotel = input(\"enter the data :\")\n",
    "room_type = input(\"enter room type\")\n",
    "if (hotel == \"avaliable\"):\n",
    "    print(\"rooms are avaliable\")\n",
    "    if(room_type == \"single\"):\n",
    "        print(\"room price: \",1000)\n",
    "        if(room_type == \"double\"):\n",
    "            print(\"room price :\",2000)\n",
    "else:\n",
    "    print(\"rooms are not avaliable\")"
   ]
  },
  {
   "cell_type": "code",
   "execution_count": null,
   "id": "e06d0fff",
   "metadata": {},
   "outputs": [],
   "source": []
  },
  {
   "cell_type": "code",
   "execution_count": null,
   "id": "4e60e8a1",
   "metadata": {},
   "outputs": [],
   "source": []
  }
 ],
 "metadata": {
  "kernelspec": {
   "display_name": "Python 3 (ipykernel)",
   "language": "python",
   "name": "python3"
  },
  "language_info": {
   "codemirror_mode": {
    "name": "ipython",
    "version": 3
   },
   "file_extension": ".py",
   "mimetype": "text/x-python",
   "name": "python",
   "nbconvert_exporter": "python",
   "pygments_lexer": "ipython3",
   "version": "3.9.13"
  }
 },
 "nbformat": 4,
 "nbformat_minor": 5
}
