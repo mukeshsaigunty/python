{
 "cells": [
  {
   "cell_type": "markdown",
   "id": "2d2c41c6",
   "metadata": {},
   "source": [
    "# 1. Create a variable name and assign your name to it."
   ]
  },
  {
   "cell_type": "code",
   "execution_count": null,
   "id": "c8253b0c",
   "metadata": {},
   "outputs": [],
   "source": [
    "name=\"mukesh sai\""
   ]
  },
  {
   "cell_type": "markdown",
   "id": "3e84dfad",
   "metadata": {},
   "source": [
    "# 2. Assign the number 25 to a variable called age."
   ]
  },
  {
   "cell_type": "code",
   "execution_count": null,
   "id": "798a0dfb",
   "metadata": {},
   "outputs": [],
   "source": [
    "age=25"
   ]
  },
  {
   "cell_type": "markdown",
   "id": "b1c46f4c",
   "metadata": {},
   "source": [
    "# 3. Change the value of a variable x from 10 to 20."
   ]
  },
  {
   "cell_type": "code",
   "execution_count": null,
   "id": "41813b16",
   "metadata": {},
   "outputs": [],
   "source": [
    "x = 10\n",
    "x = 20"
   ]
  },
  {
   "cell_type": "markdown",
   "id": "d77fbc0a",
   "metadata": {},
   "source": [
    "# 4. Print the value of a variable language assigned to \"Python\"."
   ]
  },
  {
   "cell_type": "code",
   "execution_count": 2,
   "id": "670d0beb",
   "metadata": {},
   "outputs": [
    {
     "name": "stdout",
     "output_type": "stream",
     "text": [
      "python\n"
     ]
    }
   ],
   "source": [
    "language=\"python\"\n",
    "print(language)"
   ]
  },
  {
   "cell_type": "markdown",
   "id": "95cf269a",
   "metadata": {},
   "source": [
    "# 5. Create a variable height and assign it a decimal value."
   ]
  },
  {
   "cell_type": "code",
   "execution_count": null,
   "id": "128367f9",
   "metadata": {},
   "outputs": [],
   "source": [
    "height = 5.7"
   ]
  },
  {
   "cell_type": "markdown",
   "id": "bea28cd4",
   "metadata": {},
   "source": [
    "# 6. Assign multiple values to a, b, and c in a single line.\n"
   ]
  },
  {
   "cell_type": "code",
   "execution_count": null,
   "id": "7a79feab",
   "metadata": {},
   "outputs": [],
   "source": [
    "a,b,c = 1,2,3"
   ]
  },
  {
   "cell_type": "markdown",
   "id": "609e859c",
   "metadata": {},
   "source": [
    "# 7. Declare a variable is_coding_fun and assign it a Boolean value."
   ]
  },
  {
   "cell_type": "code",
   "execution_count": null,
   "id": "607897b8",
   "metadata": {},
   "outputs": [],
   "source": [
    "is_coding_fun = True\n",
    "is_coding_fun = False"
   ]
  },
  {
   "cell_type": "markdown",
   "id": "b899af5a",
   "metadata": {},
   "source": [
    "# 8. Swap values of two variables x and y."
   ]
  },
  {
   "cell_type": "code",
   "execution_count": null,
   "id": "7a2799d0",
   "metadata": {},
   "outputs": [],
   "source": [
    "x=5\n",
    "y=8\n",
    "x,y = y,x"
   ]
  },
  {
   "cell_type": "markdown",
   "id": "419d424e",
   "metadata": {},
   "source": [
    "# 9. Assign a string to a variable, then reassign an integer to the same variable."
   ]
  },
  {
   "cell_type": "code",
   "execution_count": null,
   "id": "61989b25",
   "metadata": {},
   "outputs": [],
   "source": [
    "x = \"string\"\n",
    "x = 10"
   ]
  },
  {
   "cell_type": "markdown",
   "id": "3d00eebb",
   "metadata": {},
   "source": [
    "# 10. Create a variable z and assign it the sum of two other variables.\n"
   ]
  },
  {
   "cell_type": "code",
   "execution_count": 4,
   "id": "56a2b7f2",
   "metadata": {},
   "outputs": [],
   "source": [
    "a = 5\n",
    "b = 7\n",
    "z = a + b"
   ]
  },
  {
   "cell_type": "markdown",
   "id": "14ec30b2",
   "metadata": {},
   "source": [
    "# 11. Create a variable with an underscore in its name (e.g., first_name)."
   ]
  },
  {
   "cell_type": "code",
   "execution_count": 6,
   "id": "46d69ce4",
   "metadata": {},
   "outputs": [
    {
     "name": "stdout",
     "output_type": "stream",
     "text": [
      "mukesh\n"
     ]
    }
   ],
   "source": [
    "first_name = \"mukesh\"\n",
    "print(first_name)"
   ]
  },
  {
   "cell_type": "markdown",
   "id": "dd2e692c",
   "metadata": {},
   "source": [
    "# 12. Try naming a variable starting with a number and observe the result. "
   ]
  },
  {
   "cell_type": "code",
   "execution_count": 8,
   "id": "82466956",
   "metadata": {},
   "outputs": [
    {
     "ename": "SyntaxError",
     "evalue": "invalid syntax (1824192456.py, line 1)",
     "output_type": "error",
     "traceback": [
      "\u001b[1;36m  File \u001b[1;32m\"C:\\Users\\G.MUKESH SAI\\AppData\\Local\\Temp\\ipykernel_18572\\1824192456.py\"\u001b[1;36m, line \u001b[1;32m1\u001b[0m\n\u001b[1;33m    9mukesh = 50\u001b[0m\n\u001b[1;37m     ^\u001b[0m\n\u001b[1;31mSyntaxError\u001b[0m\u001b[1;31m:\u001b[0m invalid syntax\n"
     ]
    }
   ],
   "source": [
    "9mukesh = 50\n",
    "print(9mukesh)"
   ]
  },
  {
   "cell_type": "markdown",
   "id": "66bea19c",
   "metadata": {},
   "source": [
    "# 13. Use a mix of uppercase and lowercase letters in a variable name."
   ]
  },
  {
   "cell_type": "code",
   "execution_count": 9,
   "id": "ffadbe0f",
   "metadata": {},
   "outputs": [],
   "source": [
    "VAriable = 50"
   ]
  },
  {
   "cell_type": "markdown",
   "id": "27467ff4",
   "metadata": {},
   "source": [
    "# 14. Create two variables score and Score with different values."
   ]
  },
  {
   "cell_type": "code",
   "execution_count": 10,
   "id": "4fc3c2c1",
   "metadata": {},
   "outputs": [],
   "source": [
    "score = 50\n",
    "Score = 100"
   ]
  },
  {
   "cell_type": "markdown",
   "id": "eea9c38f",
   "metadata": {},
   "source": [
    "# 15. Try using a special character (e.g., @) in a variable name."
   ]
  },
  {
   "cell_type": "code",
   "execution_count": 11,
   "id": "c1f1cc9c",
   "metadata": {},
   "outputs": [
    {
     "ename": "SyntaxError",
     "evalue": "invalid syntax (3844522324.py, line 1)",
     "output_type": "error",
     "traceback": [
      "\u001b[1;36m  File \u001b[1;32m\"C:\\Users\\G.MUKESH SAI\\AppData\\Local\\Temp\\ipykernel_18572\\3844522324.py\"\u001b[1;36m, line \u001b[1;32m1\u001b[0m\n\u001b[1;33m    @name = \"mukesh\"\u001b[0m\n\u001b[1;37m          ^\u001b[0m\n\u001b[1;31mSyntaxError\u001b[0m\u001b[1;31m:\u001b[0m invalid syntax\n"
     ]
    }
   ],
   "source": [
    "@name = \"mukesh\""
   ]
  },
  {
   "cell_type": "markdown",
   "id": "49f9ffed",
   "metadata": {},
   "source": [
    "# 16. Try using a Python keyword as a variable name (e.g., if = 5)."
   ]
  },
  {
   "cell_type": "code",
   "execution_count": 4,
   "id": "95c1e465",
   "metadata": {},
   "outputs": [
    {
     "ename": "SyntaxError",
     "evalue": "invalid syntax (2630263448.py, line 1)",
     "output_type": "error",
     "traceback": [
      "\u001b[1;36m  File \u001b[1;32m\"C:\\Users\\G.MUKESH SAI\\AppData\\Local\\Temp\\ipykernel_24656\\2630263448.py\"\u001b[1;36m, line \u001b[1;32m1\u001b[0m\n\u001b[1;33m    if = 5\u001b[0m\n\u001b[1;37m       ^\u001b[0m\n\u001b[1;31mSyntaxError\u001b[0m\u001b[1;31m:\u001b[0m invalid syntax\n"
     ]
    }
   ],
   "source": [
    "if = 5"
   ]
  },
  {
   "cell_type": "markdown",
   "id": "cc2deea9",
   "metadata": {},
   "source": [
    "# 17. Write code that checks if \"for\" is a Python keyword."
   ]
  },
  {
   "cell_type": "code",
   "execution_count": 13,
   "id": "10f9b15b",
   "metadata": {},
   "outputs": [
    {
     "name": "stdout",
     "output_type": "stream",
     "text": [
      "True\n"
     ]
    }
   ],
   "source": [
    "import keyword\n",
    "print(keyword.iskeyword(\"for\"))"
   ]
  },
  {
   "cell_type": "markdown",
   "id": "15a35f92",
   "metadata": {},
   "source": [
    "# 18. Import the keyword module and print the full list of keywords."
   ]
  },
  {
   "cell_type": "code",
   "execution_count": 3,
   "id": "b2917191",
   "metadata": {},
   "outputs": [
    {
     "name": "stdout",
     "output_type": "stream",
     "text": [
      "['False', 'None', 'True', '__peg_parser__', 'and', 'as', 'assert', 'async', 'await', 'break', 'class', 'continue', 'def', 'del', 'elif', 'else', 'except', 'finally', 'for', 'from', 'global', 'if', 'import', 'in', 'is', 'lambda', 'nonlocal', 'not', 'or', 'pass', 'raise', 'return', 'try', 'while', 'with', 'yield']\n"
     ]
    }
   ],
   "source": [
    "import keyword\n",
    "print(keyword.kwlist)"
   ]
  },
  {
   "cell_type": "markdown",
   "id": "3f97a4b5",
   "metadata": {},
   "source": [
    "# 19. Write a comment explaining why class cannot be used as a variable."
   ]
  },
  {
   "cell_type": "markdown",
   "id": "d2c99384",
   "metadata": {},
   "source": [
    "- 'class' is a Python keyword.\n",
    "- Cannot use it as a variable name.\n",
    "- It will cause a SyntaxError.\n",
    "\n"
   ]
  },
  {
   "cell_type": "code",
   "execution_count": null,
   "id": "b4c9bc73",
   "metadata": {},
   "outputs": [],
   "source": []
  }
 ],
 "metadata": {
  "kernelspec": {
   "display_name": "Python 3 (ipykernel)",
   "language": "python",
   "name": "python3"
  },
  "language_info": {
   "codemirror_mode": {
    "name": "ipython",
    "version": 3
   },
   "file_extension": ".py",
   "mimetype": "text/x-python",
   "name": "python",
   "nbconvert_exporter": "python",
   "pygments_lexer": "ipython3",
   "version": "3.9.13"
  }
 },
 "nbformat": 4,
 "nbformat_minor": 5
}
