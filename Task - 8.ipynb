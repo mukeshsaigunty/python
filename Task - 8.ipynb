{
 "cells": [
  {
   "cell_type": "markdown",
   "id": "ce6ecd44",
   "metadata": {},
   "source": [
    "# 1.Print Numbers 1 to 10 using for loop.\n"
   ]
  },
  {
   "cell_type": "code",
   "execution_count": 1,
   "id": "4620cc03",
   "metadata": {},
   "outputs": [
    {
     "name": "stdout",
     "output_type": "stream",
     "text": [
      "1\n",
      "2\n",
      "3\n",
      "4\n",
      "5\n",
      "6\n",
      "7\n",
      "8\n",
      "9\n",
      "10\n"
     ]
    }
   ],
   "source": [
    "for i in range(1,11):\n",
    "    print(i)"
   ]
  },
  {
   "cell_type": "markdown",
   "id": "41ea9eff",
   "metadata": {},
   "source": [
    "# 2.Print the first 5 even numbers using while loop."
   ]
  },
  {
   "cell_type": "code",
   "execution_count": 2,
   "id": "1d3370ba",
   "metadata": {},
   "outputs": [
    {
     "name": "stdout",
     "output_type": "stream",
     "text": [
      "2\n",
      "4\n",
      "6\n",
      "8\n",
      "10\n"
     ]
    }
   ],
   "source": [
    "count = 0\n",
    "i = 2\n",
    "while(count<5):\n",
    "    if(i%2==0):\n",
    "        print(i)\n",
    "        i+=2\n",
    "        count+=1\n",
    "    "
   ]
  },
  {
   "cell_type": "markdown",
   "id": "36069b5f",
   "metadata": {},
   "source": [
    "# 3.Print each character of the string \"Python\" using a for loop."
   ]
  },
  {
   "cell_type": "code",
   "execution_count": 3,
   "id": "0595c4a0",
   "metadata": {},
   "outputs": [
    {
     "name": "stdout",
     "output_type": "stream",
     "text": [
      "enter the string:python\n",
      "p\n",
      "y\n",
      "t\n",
      "h\n",
      "o\n",
      "n\n"
     ]
    }
   ],
   "source": [
    "n = input(\"enter the string:\")\n",
    "for i in n:\n",
    "    print(i)"
   ]
  },
  {
   "cell_type": "markdown",
   "id": "185b2a9d",
   "metadata": {},
   "source": [
    "# 4.Sum of numbers from 1 to 50 using for loop."
   ]
  },
  {
   "cell_type": "code",
   "execution_count": 4,
   "id": "98bc592e",
   "metadata": {},
   "outputs": [
    {
     "name": "stdout",
     "output_type": "stream",
     "text": [
      "1275\n"
     ]
    }
   ],
   "source": [
    "sum = 0\n",
    "for i in range(1,51):\n",
    "    sum+=i\n",
    "print(sum)"
   ]
  },
  {
   "cell_type": "markdown",
   "id": "404c54e3",
   "metadata": {},
   "source": [
    "# 5.Print numbers from 10 to 1 using a while loop (reverse counting).\n"
   ]
  },
  {
   "cell_type": "code",
   "execution_count": 6,
   "id": "03ae5039",
   "metadata": {},
   "outputs": [
    {
     "name": "stdout",
     "output_type": "stream",
     "text": [
      "10\n",
      "9\n",
      "8\n",
      "7\n",
      "6\n",
      "5\n",
      "4\n",
      "3\n",
      "2\n",
      "1\n"
     ]
    }
   ],
   "source": [
    "num = 10\n",
    "while(num>1):\n",
    "    print(num)\n",
    "    num-=1\n",
    "print(num)"
   ]
  },
  {
   "cell_type": "markdown",
   "id": "80dba4bb",
   "metadata": {},
   "source": [
    "# 6.Print all multiples of 3 between 1 and 30 using a for loop."
   ]
  },
  {
   "cell_type": "code",
   "execution_count": 7,
   "id": "0424f6f8",
   "metadata": {},
   "outputs": [
    {
     "name": "stdout",
     "output_type": "stream",
     "text": [
      "30\n",
      "3\n",
      "6\n",
      "9\n",
      "12\n",
      "15\n",
      "18\n",
      "21\n",
      "24\n",
      "27\n",
      "30\n"
     ]
    }
   ],
   "source": [
    "num = int(input())\n",
    "for i in range(1,num+1):\n",
    "    if(i%3==0):\n",
    "        print(i)"
   ]
  },
  {
   "cell_type": "markdown",
   "id": "d103f2a4",
   "metadata": {},
   "source": [
    "# 7.Ask the user to enter numbers until they type 0. Calculate the sum of all numbers entered."
   ]
  },
  {
   "cell_type": "code",
   "execution_count": 7,
   "id": "902690cf",
   "metadata": {},
   "outputs": [
    {
     "name": "stdout",
     "output_type": "stream",
     "text": [
      "6\n",
      "7\n",
      "8\n",
      "0\n",
      "21\n"
     ]
    }
   ],
   "source": [
    "sum = 0\n",
    "n = int(input())\n",
    "while(n>0):\n",
    "    sum+=n\n",
    "    n = int(input())\n",
    "print(sum)"
   ]
  },
  {
   "cell_type": "markdown",
   "id": "d36b2e1f",
   "metadata": {},
   "source": [
    "# 8.Given a list: nums = [2, 4, 6, 8, 10], print the square of each number.\n"
   ]
  },
  {
   "cell_type": "code",
   "execution_count": 9,
   "id": "76b24548",
   "metadata": {},
   "outputs": [
    {
     "data": {
      "text/plain": [
       "[4, 16, 36, 64, 100]"
      ]
     },
     "execution_count": 9,
     "metadata": {},
     "output_type": "execute_result"
    }
   ],
   "source": [
    "nums = [2, 4, 6, 8, 10]\n",
    "lst = []\n",
    "for i in nums:\n",
    "    n = i*i\n",
    "    lst.append(n)\n",
    "lst"
   ]
  },
  {
   "cell_type": "markdown",
   "id": "b7a858a3",
   "metadata": {},
   "source": [
    "# 9.Count how many vowels are in a string using a for loop."
   ]
  },
  {
   "cell_type": "code",
   "execution_count": 12,
   "id": "dc8cecc7",
   "metadata": {},
   "outputs": [
    {
     "name": "stdout",
     "output_type": "stream",
     "text": [
      "mukesh\n",
      "2\n"
     ]
    }
   ],
   "source": [
    "str = input().lower()\n",
    "count = 0\n",
    "for i in str:\n",
    "    if(i in \"aeiou\"):\n",
    "        count+=1\n",
    "print(count)\n",
    "    "
   ]
  },
  {
   "cell_type": "markdown",
   "id": "ed69c801",
   "metadata": {},
   "source": [
    "# 10.Find the factorial of a number using a while loop."
   ]
  },
  {
   "cell_type": "code",
   "execution_count": 16,
   "id": "148f765f",
   "metadata": {},
   "outputs": [
    {
     "name": "stdout",
     "output_type": "stream",
     "text": [
      "5\n",
      "120\n"
     ]
    }
   ],
   "source": [
    "num = int(input())\n",
    "fact = 1\n",
    "i = 1\n",
    "if(num == 0):\n",
    "    print(1)\n",
    "else:\n",
    "    while(i<=num):\n",
    "        fact*=i\n",
    "        i+=1\n",
    "print(fact)"
   ]
  },
  {
   "cell_type": "markdown",
   "id": "f333e05f",
   "metadata": {},
   "source": [
    "# 11. Print the following pattern using loops (n = 5):\n",
    "- *\n",
    "- * *\n",
    "- * * *\n",
    "- * * * *\n",
    "- * * * * *"
   ]
  },
  {
   "cell_type": "code",
   "execution_count": 17,
   "id": "7b307a1a",
   "metadata": {},
   "outputs": [
    {
     "name": "stdout",
     "output_type": "stream",
     "text": [
      "enter number of rows:5\n",
      "* \n",
      "* * \n",
      "* * * \n",
      "* * * * \n",
      "* * * * * \n",
      "* * * * * * \n"
     ]
    }
   ],
   "source": [
    "num = int(input(\"enter number of rows:\"))\n",
    "for i in range(num+1):\n",
    "    for j in range(i+1):\n",
    "        print(\"*\",end = \" \")\n",
    "    print()"
   ]
  },
  {
   "cell_type": "markdown",
   "id": "51c18f6e",
   "metadata": {},
   "source": [
    "# 12.Print this reverse triangle pattern (n = 4):\n",
    "- * * * *\n",
    "- * * *\n",
    "- * *\n",
    "- *"
   ]
  },
  {
   "cell_type": "code",
   "execution_count": 19,
   "id": "24a1e4cc",
   "metadata": {},
   "outputs": [
    {
     "name": "stdout",
     "output_type": "stream",
     "text": [
      "4\n",
      "* * * * \n",
      "* * * \n",
      "* * \n",
      "* \n",
      "\n"
     ]
    }
   ],
   "source": [
    "num = int(input(\"enter the number\":))\n",
    "for i in range(num+1):\n",
    "    for j in range(num-i):\n",
    "        print(\"*\",end = \" \")\n",
    "    print()"
   ]
  },
  {
   "cell_type": "markdown",
   "id": "a5225da7",
   "metadata": {},
   "source": [
    "# 13.Print a right-aligned triangle (n = 4):\n",
    "-    *\n",
    "-   * *\n",
    "-  * * *\n",
    "- * * * *\n"
   ]
  },
  {
   "cell_type": "code",
   "execution_count": 27,
   "id": "b3c3452b",
   "metadata": {},
   "outputs": [
    {
     "name": "stdout",
     "output_type": "stream",
     "text": [
      "enter the number:4\n",
      "    * \n",
      "   * * \n",
      "  * * * \n",
      " * * * * \n"
     ]
    }
   ],
   "source": [
    "num = int(input(\"enter the number:\"))\n",
    "for i in range(num):\n",
    "    for j in range(0,num-i):\n",
    "        print(end=\" \")\n",
    "    for j in range(0,i+1):\n",
    "        print(\"*\",end = \" \")\n",
    "    print()"
   ]
  },
  {
   "cell_type": "markdown",
   "id": "03bc85cd",
   "metadata": {},
   "source": [
    "# 14.Print number pyramid (n = 5):\n",
    "- 1\n",
    "- 1 2\n",
    "- 1 2 3\n",
    "- 1 2 3 4\n",
    "- 1 2 3 4 5\n",
    "\n"
   ]
  },
  {
   "cell_type": "code",
   "execution_count": 36,
   "id": "f1e0eef8",
   "metadata": {},
   "outputs": [
    {
     "name": "stdout",
     "output_type": "stream",
     "text": [
      "5\n",
      "\n",
      "1 \n",
      "1 2 \n",
      "1 2 3 \n",
      "1 2 3 4 \n",
      "1 2 3 4 5 \n"
     ]
    }
   ],
   "source": [
    "num = int(input())\n",
    "for i in range(num+1):\n",
    "    for j in range(1,i+1):\n",
    "        print(j,end = \" \")\n",
    "    print()\n",
    "        \n",
    "    "
   ]
  },
  {
   "cell_type": "markdown",
   "id": "7ae6c78d",
   "metadata": {},
   "source": [
    "# 15.Ask the user for 5 inputs using a while loop and store them in a list. Then print the list."
   ]
  },
  {
   "cell_type": "code",
   "execution_count": 37,
   "id": "32ad5f63",
   "metadata": {},
   "outputs": [
    {
     "name": "stdout",
     "output_type": "stream",
     "text": [
      "5\n",
      "4\n",
      "6\n",
      "7\n",
      "8\n",
      "[5, 4, 6, 7, 8]\n"
     ]
    }
   ],
   "source": [
    "i = 0\n",
    "l = []\n",
    "while(i<5):\n",
    "    lst = int(input())\n",
    "    i+=1\n",
    "    l.append(lst)\n",
    "print(l)"
   ]
  },
  {
   "cell_type": "markdown",
   "id": "f0a81e5d",
   "metadata": {},
   "source": [
    "# 16.Create a for loop that breaks when it finds the number 7 in a list. Print \"Found!\" and stop.numbers = [1, 3, 5, 7, 9, 11]"
   ]
  },
  {
   "cell_type": "code",
   "execution_count": 41,
   "id": "a4af2bdc",
   "metadata": {},
   "outputs": [
    {
     "name": "stdout",
     "output_type": "stream",
     "text": [
      "1\n",
      "3\n",
      "5\n",
      "found!\n"
     ]
    }
   ],
   "source": [
    "numbers = [1, 3, 5, 7, 9, 11]\n",
    "for i in numbers:\n",
    "    if(i == 7):\n",
    "        print(\"found!\")\n",
    "        break\n",
    "    else:\n",
    "        print(i)"
   ]
  },
  {
   "cell_type": "code",
   "execution_count": null,
   "id": "12212b3c",
   "metadata": {},
   "outputs": [],
   "source": []
  }
 ],
 "metadata": {
  "kernelspec": {
   "display_name": "Python 3 (ipykernel)",
   "language": "python",
   "name": "python3"
  },
  "language_info": {
   "codemirror_mode": {
    "name": "ipython",
    "version": 3
   },
   "file_extension": ".py",
   "mimetype": "text/x-python",
   "name": "python",
   "nbconvert_exporter": "python",
   "pygments_lexer": "ipython3",
   "version": "3.9.13"
  }
 },
 "nbformat": 4,
 "nbformat_minor": 5
}
