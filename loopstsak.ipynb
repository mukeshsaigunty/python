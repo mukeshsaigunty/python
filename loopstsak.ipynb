{
 "cells": [
  {
   "cell_type": "markdown",
   "id": "0255da82",
   "metadata": {},
   "source": [
    "# 1. Print Prime Numbers from 1 to 100\n",
    "- Description: Find and print all prime numbers between 1 and 100.\n",
    "- Concepts Used: Nested for loop, if, continue\n",
    "- Hint: Use nested loops to check for divisibility. Skip non-primes using continue."
   ]
  },
  {
   "cell_type": "code",
   "execution_count": 6,
   "id": "f2a747e1",
   "metadata": {},
   "outputs": [
    {
     "name": "stdout",
     "output_type": "stream",
     "text": [
      "1\n",
      "2\n",
      "3\n",
      "5\n",
      "7\n",
      "11\n",
      "13\n",
      "17\n",
      "19\n",
      "23\n",
      "29\n",
      "31\n",
      "37\n",
      "41\n",
      "43\n",
      "47\n",
      "53\n",
      "59\n",
      "61\n",
      "67\n",
      "71\n",
      "73\n",
      "79\n",
      "83\n",
      "89\n",
      "97\n"
     ]
    }
   ],
   "source": [
    "for i in range(1,101):\n",
    "    for j in range(2,i):\n",
    "        if(i%j==0):\n",
    "            break\n",
    "    else:\n",
    "        print(i)\n",
    "            "
   ]
  },
  {
   "cell_type": "markdown",
   "id": "32509e91",
   "metadata": {},
   "source": [
    "# 2. Count Vowels and Consonants\n",
    "- Description: Take a string input from the user and count the number of vowels and consonants.\n",
    "- Concepts Used: for, if-else, continue\n",
    "- Hint: Loop through each character. Check if it’s in 'aeiou'. Skip spaces or special characters.\n",
    " "
   ]
  },
  {
   "cell_type": "code",
   "execution_count": 45,
   "id": "2f2c1f48",
   "metadata": {},
   "outputs": [
    {
     "name": "stdout",
     "output_type": "stream",
     "text": [
      "enter the string:anlsdkqe261238##%&*    *&)*)(*\n",
      "vowels : 2\n",
      "consonants : 6\n"
     ]
    }
   ],
   "source": [
    "s = input(\"enter the string:\").lower()\n",
    "vowels = 0\n",
    "consonants = 0\n",
    "for i in s:\n",
    "    if(i in \"aeiou\"):\n",
    "        vowels+=1\n",
    "    elif(i.isalpha()):\n",
    "        consonants +=1\n",
    "        \n",
    "    \n",
    "print(f\"vowels : {vowels}\")\n",
    "print(f\"consonants : {consonants}\")\n",
    "    "
   ]
  },
  {
   "cell_type": "markdown",
   "id": "af7725de",
   "metadata": {},
   "source": [
    "# 3. Find First N Fibonacci Numbers\n",
    "- Description: Print the first N numbers of the Fibonacci sequence.\n",
    "- Concepts Used: for or while loop\n",
    "- Hint: Start with a = 0, b = 1. Then update values in a loop: a, b = b, a + b."
   ]
  },
  {
   "cell_type": "code",
   "execution_count": 19,
   "id": "3c9a9637",
   "metadata": {},
   "outputs": [
    {
     "name": "stdout",
     "output_type": "stream",
     "text": [
      "6\n",
      "0 1 1 2 3 5 8 "
     ]
    }
   ],
   "source": [
    "n = int(input())\n",
    "a = 0\n",
    "b = 1\n",
    "for i in range(n+1):\n",
    "    print(a,end=\" \")\n",
    "    c = a+b\n",
    "    a = b\n",
    "    b = c"
   ]
  },
  {
   "cell_type": "markdown",
   "id": "47281e26",
   "metadata": {},
   "source": [
    "# 4. Break on First Divisible Number\n",
    "- Description: From 1 to 100, stop when you find the first number divisible by both 5 and 7.\n",
    "- Concepts Used: for, if, break\n",
    "- Hint: Use the % operator. Break the loop once the condition is satisfied.\n"
   ]
  },
  {
   "cell_type": "code",
   "execution_count": 22,
   "id": "f203b7f2",
   "metadata": {},
   "outputs": [
    {
     "name": "stdout",
     "output_type": "stream",
     "text": [
      "1\n",
      "2\n",
      "3\n",
      "4\n",
      "5\n",
      "6\n",
      "7\n",
      "8\n",
      "9\n",
      "10\n",
      "11\n",
      "12\n",
      "13\n",
      "14\n",
      "15\n",
      "16\n",
      "17\n",
      "18\n",
      "19\n",
      "20\n",
      "21\n",
      "22\n",
      "23\n",
      "24\n",
      "25\n",
      "26\n",
      "27\n",
      "28\n",
      "29\n",
      "30\n",
      "31\n",
      "32\n",
      "33\n",
      "34\n",
      " The First Divisible Number is 35\n"
     ]
    }
   ],
   "source": [
    "for i in range(1,101):\n",
    "    if(i%5==0 and i%7==0):\n",
    "        print(f\" The First Divisible Number is {i}\")\n",
    "        break\n",
    "    else:\n",
    "        print(i)"
   ]
  },
  {
   "cell_type": "code",
   "execution_count": null,
   "id": "4ce030fa",
   "metadata": {},
   "outputs": [],
   "source": [
    "# 5. Diamond Number Pattern\n",
    "  Problem: Print a diamond pattern with numbers for an odd number input like:\n",
    "   1\n",
    "  121\n",
    " 12321\n",
    "1234321\n",
    " 12321\n",
    "  121\n",
    "   1"
   ]
  },
  {
   "cell_type": "code",
   "execution_count": 24,
   "id": "22a469ff",
   "metadata": {},
   "outputs": [
    {
     "name": "stdout",
     "output_type": "stream",
     "text": [
      "enter number of rows are odd:7\n",
      "   1\n",
      "  121\n",
      " 12321\n",
      "1234321\n",
      " 12321\n",
      "  121\n",
      "   1\n"
     ]
    }
   ],
   "source": [
    "n = int(input(\"enter number of rows are odd:\"))\n",
    "for i in range(1,(n//2)+2):\n",
    "    print(\" \"*((n//2)+1-i),end=\"\")\n",
    "    for j in range(1,i+1):\n",
    "        print(j,end = \"\")\n",
    "    for j in range(i-1,0,-1):\n",
    "        print(j,end = \"\")\n",
    "    print()\n",
    "for i in range((n//2),0,-1):\n",
    "    print(\" \"*((n//2)+1-i),end=\"\")\n",
    "    for j in range(1,i+1):\n",
    "        print(j,end = \"\")\n",
    "    for j in range(i-1,0,-1):\n",
    "        print(j,end = \"\")\n",
    "    print()       "
   ]
  },
  {
   "cell_type": "markdown",
   "id": "c9c41e5b",
   "metadata": {},
   "source": [
    "# 6. Count Word Frequencies (Without Dictionaries)\n",
    "- Problem: Count how many times each word occurs in a string without using dictionaries.\n",
    "- Hint: Maintain a list of (word, count) pairs. Use nested loops to compare and count.\n"
   ]
  },
  {
   "cell_type": "code",
   "execution_count": 44,
   "id": "f1231bd0",
   "metadata": {},
   "outputs": [
    {
     "name": "stdout",
     "output_type": "stream",
     "text": [
      "all boys are all boys are all\n",
      "Characters: ['all', 'boys', 'are']\n",
      "counts: [3, 2, 2]\n"
     ]
    }
   ],
   "source": [
    "s = input().split()\n",
    "word = []\n",
    "count = []\n",
    "for i in s:\n",
    "    if i not in word:\n",
    "        word.append(i)\n",
    "        num = 0\n",
    "        for j in s:\n",
    "            if(i==j):\n",
    "                num+=1\n",
    "        count.append(num)\n",
    "        \n",
    "            \n",
    "print(\"Characters:\",word)\n",
    "print(\"counts:\",count)\n",
    "            \n",
    "    "
   ]
  },
  {
   "cell_type": "code",
   "execution_count": null,
   "id": "d7e4b494",
   "metadata": {},
   "outputs": [],
   "source": [
    "# 7. Print Hollow Square Star Pattern\n",
    "   Problem: For input n, print a hollow square made of stars.\n",
    "   Example Output (for n = 5):\n",
    "*****\n",
    "*   *\n",
    "*   *\n",
    "*   *\n",
    "*****"
   ]
  },
  {
   "cell_type": "code",
   "execution_count": 14,
   "id": "01918737",
   "metadata": {},
   "outputs": [
    {
     "name": "stdout",
     "output_type": "stream",
     "text": [
      "5\n",
      "*****\n",
      "*   *\n",
      "*   *\n",
      "*   *\n",
      "*****\n"
     ]
    }
   ],
   "source": [
    "n = int(input())\n",
    "for i in range(n):\n",
    "    for j in range(n):\n",
    "        if(i == 0) or (i == n-1) or (j == 0) or (j == n-1):\n",
    "            print(\"*\",end =\"\")\n",
    "        else:\n",
    "            print(\" \",end = \"\")\n",
    "    print()\n",
    "\n"
   ]
  },
  {
   "cell_type": "code",
   "execution_count": 4,
   "id": "7192bda1",
   "metadata": {},
   "outputs": [
    {
     "data": {
      "text/plain": [
       "[1, 2, 3, 4, 4, 5]"
      ]
     },
     "execution_count": 4,
     "metadata": {},
     "output_type": "execute_result"
    }
   ],
   "source": [
    "l = [[1,2],[3,4],[4,5]]\n",
    "f = [item for i in l for item in i]\n",
    "f"
   ]
  },
  {
   "cell_type": "code",
   "execution_count": null,
   "id": "2f897042",
   "metadata": {},
   "outputs": [],
   "source": []
  }
 ],
 "metadata": {
  "kernelspec": {
   "display_name": "Python 3 (ipykernel)",
   "language": "python",
   "name": "python3"
  },
  "language_info": {
   "codemirror_mode": {
    "name": "ipython",
    "version": 3
   },
   "file_extension": ".py",
   "mimetype": "text/x-python",
   "name": "python",
   "nbconvert_exporter": "python",
   "pygments_lexer": "ipython3",
   "version": "3.9.13"
  }
 },
 "nbformat": 4,
 "nbformat_minor": 5
}
